{
 "cells": [
  {
   "cell_type": "code",
   "execution_count": 7,
   "id": "3f762400-49ca-4d12-8a9b-0c1390aba791",
   "metadata": {},
   "outputs": [],
   "source": [
    "from pyspark.sql import SparkSession"
   ]
  },
  {
   "cell_type": "code",
   "execution_count": 8,
   "id": "467960e1-5101-4fda-a948-95de902d08fc",
   "metadata": {},
   "outputs": [],
   "source": [
    "spark = SparkSession.builder.appName('Dataframe').getOrCreate()"
   ]
  },
  {
   "cell_type": "code",
   "execution_count": 5,
   "id": "f9908199-569b-4d96-99ef-b92398e2c971",
   "metadata": {},
   "outputs": [
    {
     "data": {
      "text/plain": [
       "<pyspark.sql.connect.session.SparkSession at 0x13faae7b0>"
      ]
     },
     "execution_count": 5,
     "metadata": {},
     "output_type": "execute_result"
    }
   ],
   "source": [
    "spark"
   ]
  },
  {
   "cell_type": "code",
   "execution_count": 11,
   "id": "7de38042-bf4e-4994-9f0c-227981243804",
   "metadata": {},
   "outputs": [],
   "source": [
    "df_spark=spark.read.csv('test3.csv', header=True, inferSchema=True)"
   ]
  },
  {
   "cell_type": "code",
   "execution_count": 12,
   "id": "86e52064-7350-400b-bd3c-d252dad5ae63",
   "metadata": {},
   "outputs": [
    {
     "name": "stdout",
     "output_type": "stream",
     "text": [
      "+-------+------------+------+\n",
      "|   Name| Departments|Salary|\n",
      "+-------+------------+------+\n",
      "|  Alice|Data Science| 85000|\n",
      "|    Bob|         IOT| 78000|\n",
      "|Charlie|    Big Data| 92000|\n",
      "|  Diana|Data Science| 88000|\n",
      "|  Ethan|         IOT| 76000|\n",
      "|  Fiona|    Big Data| 95000|\n",
      "| George|Data Science| 89000|\n",
      "| Hannah|         IOT| 74000|\n",
      "|    Ian|    Big Data| 97000|\n",
      "|  Julia|Data Science| 91000|\n",
      "|  Kevin|         IOT| 77000|\n",
      "|  Laura|    Big Data| 99000|\n",
      "|Michael|Data Science| 87000|\n",
      "|   Nina|         IOT| 73000|\n",
      "|  Oscar|    Big Data|100000|\n",
      "+-------+------------+------+\n",
      "\n"
     ]
    }
   ],
   "source": [
    "df_spark.show()"
   ]
  },
  {
   "cell_type": "code",
   "execution_count": 18,
   "id": "271942f3-2fee-4d2d-a5d8-b96c96d50d3b",
   "metadata": {},
   "outputs": [
    {
     "name": "stdout",
     "output_type": "stream",
     "text": [
      "+-------+-----------+\n",
      "|   Name|sum(Salary)|\n",
      "+-------+-----------+\n",
      "| Hannah|      74000|\n",
      "|  Diana|      88000|\n",
      "|Michael|      87000|\n",
      "|  Ethan|      76000|\n",
      "|Charlie|      92000|\n",
      "|  Julia|      91000|\n",
      "|    Bob|      78000|\n",
      "|  Oscar|     100000|\n",
      "|  Alice|      85000|\n",
      "|  Kevin|      77000|\n",
      "| George|      89000|\n",
      "|   Nina|      73000|\n",
      "|    Ian|      97000|\n",
      "|  Fiona|      95000|\n",
      "|  Laura|      99000|\n",
      "+-------+-----------+\n",
      "\n"
     ]
    }
   ],
   "source": [
    "###Group by\n",
    "df_spark.groupBy('Name').sum().show()"
   ]
  },
  {
   "cell_type": "code",
   "execution_count": 17,
   "id": "9d1062ac-95e4-4c15-a138-71f474dfe9d6",
   "metadata": {},
   "outputs": [
    {
     "name": "stdout",
     "output_type": "stream",
     "text": [
      "+------------+-----------+\n",
      "| Departments|sum(Salary)|\n",
      "+------------+-----------+\n",
      "|         IOT|     378000|\n",
      "|    Big Data|     483000|\n",
      "|Data Science|     440000|\n",
      "+------------+-----------+\n",
      "\n"
     ]
    }
   ],
   "source": [
    "###Group by Department\n",
    "df_spark.groupBy('Departments').sum().show()"
   ]
  },
  {
   "cell_type": "code",
   "execution_count": 28,
   "id": "6910c3f3-fa0c-4e45-a23f-848a6b8047cf",
   "metadata": {},
   "outputs": [
    {
     "name": "stdout",
     "output_type": "stream",
     "text": [
      "+-------+-----------+\n",
      "|   Name|min(Salary)|\n",
      "+-------+-----------+\n",
      "| Hannah|      74000|\n",
      "|  Diana|      88000|\n",
      "|Michael|      87000|\n",
      "|  Ethan|      76000|\n",
      "|Charlie|      92000|\n",
      "|  Julia|      91000|\n",
      "|    Bob|      78000|\n",
      "|  Oscar|     100000|\n",
      "|  Alice|      85000|\n",
      "|  Kevin|      77000|\n",
      "| George|      89000|\n",
      "|   Nina|      73000|\n",
      "|    Ian|      97000|\n",
      "|  Fiona|      95000|\n",
      "|  Laura|      99000|\n",
      "+-------+-----------+\n",
      "\n"
     ]
    }
   ],
   "source": [
    "###Maximum salary\n",
    "df_spark.groupBy('Name').min().show()"
   ]
  },
  {
   "cell_type": "code",
   "execution_count": 20,
   "id": "652f0b84-f616-4ced-a863-5e5018dc0f1e",
   "metadata": {},
   "outputs": [
    {
     "name": "stdout",
     "output_type": "stream",
     "text": [
      "+------------+-----+\n",
      "| Departments|count|\n",
      "+------------+-----+\n",
      "|         IOT|    5|\n",
      "|    Big Data|    5|\n",
      "|Data Science|    5|\n",
      "+------------+-----+\n",
      "\n"
     ]
    }
   ],
   "source": [
    "df_spark.groupBy('Departments').count().show()"
   ]
  },
  {
   "cell_type": "code",
   "execution_count": 21,
   "id": "5f020dba-d55f-4776-bc6e-4068d0c53b50",
   "metadata": {},
   "outputs": [
    {
     "name": "stdout",
     "output_type": "stream",
     "text": [
      "+------------+-----------+\n",
      "| Departments|avg(Salary)|\n",
      "+------------+-----------+\n",
      "|         IOT|    75600.0|\n",
      "|    Big Data|    96600.0|\n",
      "|Data Science|    88000.0|\n",
      "+------------+-----------+\n",
      "\n"
     ]
    }
   ],
   "source": [
    "df_spark.groupBy('Departments').mean().show()"
   ]
  },
  {
   "cell_type": "code",
   "execution_count": 37,
   "id": "12d3fe7e-4429-4ec9-91d4-b13c214a879b",
   "metadata": {},
   "outputs": [
    {
     "name": "stdout",
     "output_type": "stream",
     "text": [
      "+------------+-----------+\n",
      "| Departments|avg(Salary)|\n",
      "+------------+-----------+\n",
      "|         IOT|    75600.0|\n",
      "|    Big Data|    96600.0|\n",
      "|Data Science|    88000.0|\n",
      "+------------+-----------+\n",
      "\n"
     ]
    }
   ],
   "source": [
    "df_spark.groupBy('Departments').avg('Salary').show()"
   ]
  },
  {
   "cell_type": "code",
   "execution_count": 38,
   "id": "7d2cd475-514c-4e4d-a73b-d36aa3394b21",
   "metadata": {},
   "outputs": [
    {
     "name": "stdout",
     "output_type": "stream",
     "text": [
      "+-----------+\n",
      "|sum(Salary)|\n",
      "+-----------+\n",
      "|    1301000|\n",
      "+-----------+\n",
      "\n"
     ]
    }
   ],
   "source": [
    "df_spark.agg({\"Salary\": \"avg\"}).show()"
   ]
  },
  {
   "cell_type": "code",
   "execution_count": null,
   "id": "0a3018d6-049f-4f96-8c2e-c395f576c75b",
   "metadata": {},
   "outputs": [],
   "source": []
  }
 ],
 "metadata": {
  "kernelspec": {
   "display_name": "Python 3 (ipykernel)",
   "language": "python",
   "name": "python3"
  },
  "language_info": {
   "codemirror_mode": {
    "name": "ipython",
    "version": 3
   },
   "file_extension": ".py",
   "mimetype": "text/x-python",
   "name": "python",
   "nbconvert_exporter": "python",
   "pygments_lexer": "ipython3",
   "version": "3.13.2"
  }
 },
 "nbformat": 4,
 "nbformat_minor": 5
}
