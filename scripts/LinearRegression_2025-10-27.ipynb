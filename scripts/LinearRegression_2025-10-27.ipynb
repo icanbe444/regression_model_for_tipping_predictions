{
 "cells": [
  {
   "cell_type": "code",
   "execution_count": 0,
   "metadata": {
    "application/vnd.databricks.v1+cell": {
     "cellMetadata": {
      "byteLimit": 2048000,
      "rowLimit": 10000
     },
     "inputWidgets": {},
     "nuid": "1eeb9842-441e-4048-a581-5db0a84ceccf",
     "showTitle": false,
     "tableResultSettingsMap": {},
     "title": ""
    }
   },
   "outputs": [
    {
     "output_type": "display_data",
     "data": {
      "text/html": [
       "<style scoped>\n",
       "  .table-result-container {\n",
       "    max-height: 300px;\n",
       "    overflow: auto;\n",
       "  }\n",
       "  table, th, td {\n",
       "    border: 1px solid black;\n",
       "    border-collapse: collapse;\n",
       "  }\n",
       "  th, td {\n",
       "    padding: 5px;\n",
       "  }\n",
       "  th {\n",
       "    text-align: left;\n",
       "  }\n",
       "</style><div class='table-result-container'><table class='table-result'><thead style='background-color: white'><tr><th>total_bill</th><th>tip</th><th>sex</th><th>smoker</th><th>day</th><th>time</th><th>size</th></tr></thead><tbody><tr><td>16.99</td><td>1.01</td><td>Female</td><td>No</td><td>Sun</td><td>Dinner</td><td>2</td></tr><tr><td>10.34</td><td>1.66</td><td>Male</td><td>No</td><td>Sun</td><td>Dinner</td><td>3</td></tr><tr><td>21.01</td><td>3.5</td><td>Male</td><td>No</td><td>Sun</td><td>Dinner</td><td>3</td></tr><tr><td>23.68</td><td>3.31</td><td>Male</td><td>No</td><td>Sun</td><td>Dinner</td><td>2</td></tr><tr><td>24.59</td><td>3.61</td><td>Female</td><td>No</td><td>Sun</td><td>Dinner</td><td>4</td></tr><tr><td>25.29</td><td>4.71</td><td>Male</td><td>No</td><td>Sun</td><td>Dinner</td><td>4</td></tr><tr><td>8.77</td><td>2.0</td><td>Male</td><td>No</td><td>Sun</td><td>Dinner</td><td>2</td></tr><tr><td>26.88</td><td>3.12</td><td>Male</td><td>No</td><td>Sun</td><td>Dinner</td><td>4</td></tr><tr><td>15.04</td><td>1.96</td><td>Male</td><td>No</td><td>Sun</td><td>Dinner</td><td>2</td></tr><tr><td>14.78</td><td>3.23</td><td>Male</td><td>No</td><td>Sun</td><td>Dinner</td><td>2</td></tr><tr><td>10.27</td><td>1.71</td><td>Male</td><td>No</td><td>Sun</td><td>Dinner</td><td>2</td></tr><tr><td>35.26</td><td>5.0</td><td>Female</td><td>No</td><td>Sun</td><td>Dinner</td><td>4</td></tr><tr><td>15.42</td><td>1.57</td><td>Male</td><td>No</td><td>Sun</td><td>Dinner</td><td>2</td></tr><tr><td>18.43</td><td>3.0</td><td>Male</td><td>No</td><td>Sun</td><td>Dinner</td><td>4</td></tr><tr><td>14.83</td><td>3.02</td><td>Female</td><td>No</td><td>Sun</td><td>Dinner</td><td>2</td></tr><tr><td>21.58</td><td>3.92</td><td>Male</td><td>No</td><td>Sun</td><td>Dinner</td><td>2</td></tr><tr><td>10.33</td><td>1.67</td><td>Female</td><td>No</td><td>Sun</td><td>Dinner</td><td>3</td></tr><tr><td>16.29</td><td>3.71</td><td>Male</td><td>No</td><td>Sun</td><td>Dinner</td><td>3</td></tr><tr><td>16.97</td><td>3.5</td><td>Female</td><td>No</td><td>Sun</td><td>Dinner</td><td>3</td></tr><tr><td>20.65</td><td>3.35</td><td>Male</td><td>No</td><td>Sat</td><td>Dinner</td><td>3</td></tr><tr><td>17.92</td><td>4.08</td><td>Male</td><td>No</td><td>Sat</td><td>Dinner</td><td>2</td></tr><tr><td>20.29</td><td>2.75</td><td>Female</td><td>No</td><td>Sat</td><td>Dinner</td><td>2</td></tr><tr><td>15.77</td><td>2.23</td><td>Female</td><td>No</td><td>Sat</td><td>Dinner</td><td>2</td></tr><tr><td>39.42</td><td>7.58</td><td>Male</td><td>No</td><td>Sat</td><td>Dinner</td><td>4</td></tr><tr><td>19.82</td><td>3.18</td><td>Male</td><td>No</td><td>Sat</td><td>Dinner</td><td>2</td></tr><tr><td>17.81</td><td>2.34</td><td>Male</td><td>No</td><td>Sat</td><td>Dinner</td><td>4</td></tr><tr><td>13.37</td><td>2.0</td><td>Male</td><td>No</td><td>Sat</td><td>Dinner</td><td>2</td></tr><tr><td>12.69</td><td>2.0</td><td>Male</td><td>No</td><td>Sat</td><td>Dinner</td><td>2</td></tr><tr><td>21.7</td><td>4.3</td><td>Male</td><td>No</td><td>Sat</td><td>Dinner</td><td>2</td></tr><tr><td>19.65</td><td>3.0</td><td>Female</td><td>No</td><td>Sat</td><td>Dinner</td><td>2</td></tr><tr><td>9.55</td><td>1.45</td><td>Male</td><td>No</td><td>Sat</td><td>Dinner</td><td>2</td></tr><tr><td>18.35</td><td>2.5</td><td>Male</td><td>No</td><td>Sat</td><td>Dinner</td><td>4</td></tr><tr><td>15.06</td><td>3.0</td><td>Female</td><td>No</td><td>Sat</td><td>Dinner</td><td>2</td></tr><tr><td>20.69</td><td>2.45</td><td>Female</td><td>No</td><td>Sat</td><td>Dinner</td><td>4</td></tr><tr><td>17.78</td><td>3.27</td><td>Male</td><td>No</td><td>Sat</td><td>Dinner</td><td>2</td></tr><tr><td>24.06</td><td>3.6</td><td>Male</td><td>No</td><td>Sat</td><td>Dinner</td><td>3</td></tr><tr><td>16.31</td><td>2.0</td><td>Male</td><td>No</td><td>Sat</td><td>Dinner</td><td>3</td></tr><tr><td>16.93</td><td>3.07</td><td>Female</td><td>No</td><td>Sat</td><td>Dinner</td><td>3</td></tr><tr><td>18.69</td><td>2.31</td><td>Male</td><td>No</td><td>Sat</td><td>Dinner</td><td>3</td></tr><tr><td>31.27</td><td>5.0</td><td>Male</td><td>No</td><td>Sat</td><td>Dinner</td><td>3</td></tr><tr><td>16.04</td><td>2.24</td><td>Male</td><td>No</td><td>Sat</td><td>Dinner</td><td>3</td></tr><tr><td>17.46</td><td>2.54</td><td>Male</td><td>No</td><td>Sun</td><td>Dinner</td><td>2</td></tr><tr><td>13.94</td><td>3.06</td><td>Male</td><td>No</td><td>Sun</td><td>Dinner</td><td>2</td></tr><tr><td>9.68</td><td>1.32</td><td>Male</td><td>No</td><td>Sun</td><td>Dinner</td><td>2</td></tr><tr><td>30.4</td><td>5.6</td><td>Male</td><td>No</td><td>Sun</td><td>Dinner</td><td>4</td></tr><tr><td>18.29</td><td>3.0</td><td>Male</td><td>No</td><td>Sun</td><td>Dinner</td><td>2</td></tr><tr><td>22.23</td><td>5.0</td><td>Male</td><td>No</td><td>Sun</td><td>Dinner</td><td>2</td></tr><tr><td>32.4</td><td>6.0</td><td>Male</td><td>No</td><td>Sun</td><td>Dinner</td><td>4</td></tr><tr><td>28.55</td><td>2.05</td><td>Male</td><td>No</td><td>Sun</td><td>Dinner</td><td>3</td></tr><tr><td>18.04</td><td>3.0</td><td>Male</td><td>No</td><td>Sun</td><td>Dinner</td><td>2</td></tr><tr><td>12.54</td><td>2.5</td><td>Male</td><td>No</td><td>Sun</td><td>Dinner</td><td>2</td></tr><tr><td>10.29</td><td>2.6</td><td>Female</td><td>No</td><td>Sun</td><td>Dinner</td><td>2</td></tr><tr><td>34.81</td><td>5.2</td><td>Female</td><td>No</td><td>Sun</td><td>Dinner</td><td>4</td></tr><tr><td>9.94</td><td>1.56</td><td>Male</td><td>No</td><td>Sun</td><td>Dinner</td><td>2</td></tr><tr><td>25.56</td><td>4.34</td><td>Male</td><td>No</td><td>Sun</td><td>Dinner</td><td>4</td></tr><tr><td>19.49</td><td>3.51</td><td>Male</td><td>No</td><td>Sun</td><td>Dinner</td><td>2</td></tr><tr><td>38.01</td><td>3.0</td><td>Male</td><td>Yes</td><td>Sat</td><td>Dinner</td><td>4</td></tr><tr><td>26.41</td><td>1.5</td><td>Female</td><td>No</td><td>Sat</td><td>Dinner</td><td>2</td></tr><tr><td>11.24</td><td>1.76</td><td>Male</td><td>Yes</td><td>Sat</td><td>Dinner</td><td>2</td></tr><tr><td>48.27</td><td>6.73</td><td>Male</td><td>No</td><td>Sat</td><td>Dinner</td><td>4</td></tr><tr><td>20.29</td><td>3.21</td><td>Male</td><td>Yes</td><td>Sat</td><td>Dinner</td><td>2</td></tr><tr><td>13.81</td><td>2.0</td><td>Male</td><td>Yes</td><td>Sat</td><td>Dinner</td><td>2</td></tr><tr><td>11.02</td><td>1.98</td><td>Male</td><td>Yes</td><td>Sat</td><td>Dinner</td><td>2</td></tr><tr><td>18.29</td><td>3.76</td><td>Male</td><td>Yes</td><td>Sat</td><td>Dinner</td><td>4</td></tr><tr><td>17.59</td><td>2.64</td><td>Male</td><td>No</td><td>Sat</td><td>Dinner</td><td>3</td></tr><tr><td>20.08</td><td>3.15</td><td>Male</td><td>No</td><td>Sat</td><td>Dinner</td><td>3</td></tr><tr><td>16.45</td><td>2.47</td><td>Female</td><td>No</td><td>Sat</td><td>Dinner</td><td>2</td></tr><tr><td>3.07</td><td>1.0</td><td>Female</td><td>Yes</td><td>Sat</td><td>Dinner</td><td>1</td></tr><tr><td>20.23</td><td>2.01</td><td>Male</td><td>No</td><td>Sat</td><td>Dinner</td><td>2</td></tr><tr><td>15.01</td><td>2.09</td><td>Male</td><td>Yes</td><td>Sat</td><td>Dinner</td><td>2</td></tr><tr><td>12.02</td><td>1.97</td><td>Male</td><td>No</td><td>Sat</td><td>Dinner</td><td>2</td></tr><tr><td>17.07</td><td>3.0</td><td>Female</td><td>No</td><td>Sat</td><td>Dinner</td><td>3</td></tr><tr><td>26.86</td><td>3.14</td><td>Female</td><td>Yes</td><td>Sat</td><td>Dinner</td><td>2</td></tr><tr><td>25.28</td><td>5.0</td><td>Female</td><td>Yes</td><td>Sat</td><td>Dinner</td><td>2</td></tr><tr><td>14.73</td><td>2.2</td><td>Female</td><td>No</td><td>Sat</td><td>Dinner</td><td>2</td></tr><tr><td>10.51</td><td>1.25</td><td>Male</td><td>No</td><td>Sat</td><td>Dinner</td><td>2</td></tr><tr><td>17.92</td><td>3.08</td><td>Male</td><td>Yes</td><td>Sat</td><td>Dinner</td><td>2</td></tr><tr><td>27.2</td><td>4.0</td><td>Male</td><td>No</td><td>Thur</td><td>Lunch</td><td>4</td></tr><tr><td>22.76</td><td>3.0</td><td>Male</td><td>No</td><td>Thur</td><td>Lunch</td><td>2</td></tr><tr><td>17.29</td><td>2.71</td><td>Male</td><td>No</td><td>Thur</td><td>Lunch</td><td>2</td></tr><tr><td>19.44</td><td>3.0</td><td>Male</td><td>Yes</td><td>Thur</td><td>Lunch</td><td>2</td></tr><tr><td>16.66</td><td>3.4</td><td>Male</td><td>No</td><td>Thur</td><td>Lunch</td><td>2</td></tr><tr><td>10.07</td><td>1.83</td><td>Female</td><td>No</td><td>Thur</td><td>Lunch</td><td>1</td></tr><tr><td>32.68</td><td>5.0</td><td>Male</td><td>Yes</td><td>Thur</td><td>Lunch</td><td>2</td></tr><tr><td>15.98</td><td>2.03</td><td>Male</td><td>No</td><td>Thur</td><td>Lunch</td><td>2</td></tr><tr><td>34.83</td><td>5.17</td><td>Female</td><td>No</td><td>Thur</td><td>Lunch</td><td>4</td></tr><tr><td>13.03</td><td>2.0</td><td>Male</td><td>No</td><td>Thur</td><td>Lunch</td><td>2</td></tr><tr><td>18.28</td><td>4.0</td><td>Male</td><td>No</td><td>Thur</td><td>Lunch</td><td>2</td></tr><tr><td>24.71</td><td>5.85</td><td>Male</td><td>No</td><td>Thur</td><td>Lunch</td><td>2</td></tr><tr><td>21.16</td><td>3.0</td><td>Male</td><td>No</td><td>Thur</td><td>Lunch</td><td>2</td></tr><tr><td>28.97</td><td>3.0</td><td>Male</td><td>Yes</td><td>Fri</td><td>Dinner</td><td>2</td></tr><tr><td>22.49</td><td>3.5</td><td>Male</td><td>No</td><td>Fri</td><td>Dinner</td><td>2</td></tr><tr><td>5.75</td><td>1.0</td><td>Female</td><td>Yes</td><td>Fri</td><td>Dinner</td><td>2</td></tr><tr><td>16.32</td><td>4.3</td><td>Female</td><td>Yes</td><td>Fri</td><td>Dinner</td><td>2</td></tr><tr><td>22.75</td><td>3.25</td><td>Female</td><td>No</td><td>Fri</td><td>Dinner</td><td>2</td></tr><tr><td>40.17</td><td>4.73</td><td>Male</td><td>Yes</td><td>Fri</td><td>Dinner</td><td>4</td></tr><tr><td>27.28</td><td>4.0</td><td>Male</td><td>Yes</td><td>Fri</td><td>Dinner</td><td>2</td></tr><tr><td>12.03</td><td>1.5</td><td>Male</td><td>Yes</td><td>Fri</td><td>Dinner</td><td>2</td></tr><tr><td>21.01</td><td>3.0</td><td>Male</td><td>Yes</td><td>Fri</td><td>Dinner</td><td>2</td></tr><tr><td>12.46</td><td>1.5</td><td>Male</td><td>No</td><td>Fri</td><td>Dinner</td><td>2</td></tr><tr><td>11.35</td><td>2.5</td><td>Female</td><td>Yes</td><td>Fri</td><td>Dinner</td><td>2</td></tr><tr><td>15.38</td><td>3.0</td><td>Female</td><td>Yes</td><td>Fri</td><td>Dinner</td><td>2</td></tr><tr><td>44.3</td><td>2.5</td><td>Female</td><td>Yes</td><td>Sat</td><td>Dinner</td><td>3</td></tr><tr><td>22.42</td><td>3.48</td><td>Female</td><td>Yes</td><td>Sat</td><td>Dinner</td><td>2</td></tr><tr><td>20.92</td><td>4.08</td><td>Female</td><td>No</td><td>Sat</td><td>Dinner</td><td>2</td></tr><tr><td>15.36</td><td>1.64</td><td>Male</td><td>Yes</td><td>Sat</td><td>Dinner</td><td>2</td></tr><tr><td>20.49</td><td>4.06</td><td>Male</td><td>Yes</td><td>Sat</td><td>Dinner</td><td>2</td></tr><tr><td>25.21</td><td>4.29</td><td>Male</td><td>Yes</td><td>Sat</td><td>Dinner</td><td>2</td></tr><tr><td>18.24</td><td>3.76</td><td>Male</td><td>No</td><td>Sat</td><td>Dinner</td><td>2</td></tr><tr><td>14.31</td><td>4.0</td><td>Female</td><td>Yes</td><td>Sat</td><td>Dinner</td><td>2</td></tr><tr><td>14.0</td><td>3.0</td><td>Male</td><td>No</td><td>Sat</td><td>Dinner</td><td>2</td></tr><tr><td>7.25</td><td>1.0</td><td>Female</td><td>No</td><td>Sat</td><td>Dinner</td><td>1</td></tr><tr><td>38.07</td><td>4.0</td><td>Male</td><td>No</td><td>Sun</td><td>Dinner</td><td>3</td></tr><tr><td>23.95</td><td>2.55</td><td>Male</td><td>No</td><td>Sun</td><td>Dinner</td><td>2</td></tr><tr><td>25.71</td><td>4.0</td><td>Female</td><td>No</td><td>Sun</td><td>Dinner</td><td>3</td></tr><tr><td>17.31</td><td>3.5</td><td>Female</td><td>No</td><td>Sun</td><td>Dinner</td><td>2</td></tr><tr><td>29.93</td><td>5.07</td><td>Male</td><td>No</td><td>Sun</td><td>Dinner</td><td>4</td></tr><tr><td>10.65</td><td>1.5</td><td>Female</td><td>No</td><td>Thur</td><td>Lunch</td><td>2</td></tr><tr><td>12.43</td><td>1.8</td><td>Female</td><td>No</td><td>Thur</td><td>Lunch</td><td>2</td></tr><tr><td>24.08</td><td>2.92</td><td>Female</td><td>No</td><td>Thur</td><td>Lunch</td><td>4</td></tr><tr><td>11.69</td><td>2.31</td><td>Male</td><td>No</td><td>Thur</td><td>Lunch</td><td>2</td></tr><tr><td>13.42</td><td>1.68</td><td>Female</td><td>No</td><td>Thur</td><td>Lunch</td><td>2</td></tr><tr><td>14.26</td><td>2.5</td><td>Male</td><td>No</td><td>Thur</td><td>Lunch</td><td>2</td></tr><tr><td>15.95</td><td>2.0</td><td>Male</td><td>No</td><td>Thur</td><td>Lunch</td><td>2</td></tr><tr><td>12.48</td><td>2.52</td><td>Female</td><td>No</td><td>Thur</td><td>Lunch</td><td>2</td></tr><tr><td>29.8</td><td>4.2</td><td>Female</td><td>No</td><td>Thur</td><td>Lunch</td><td>6</td></tr><tr><td>8.52</td><td>1.48</td><td>Male</td><td>No</td><td>Thur</td><td>Lunch</td><td>2</td></tr><tr><td>14.52</td><td>2.0</td><td>Female</td><td>No</td><td>Thur</td><td>Lunch</td><td>2</td></tr><tr><td>11.38</td><td>2.0</td><td>Female</td><td>No</td><td>Thur</td><td>Lunch</td><td>2</td></tr><tr><td>22.82</td><td>2.18</td><td>Male</td><td>No</td><td>Thur</td><td>Lunch</td><td>3</td></tr><tr><td>19.08</td><td>1.5</td><td>Male</td><td>No</td><td>Thur</td><td>Lunch</td><td>2</td></tr><tr><td>20.27</td><td>2.83</td><td>Female</td><td>No</td><td>Thur</td><td>Lunch</td><td>2</td></tr><tr><td>11.17</td><td>1.5</td><td>Female</td><td>No</td><td>Thur</td><td>Lunch</td><td>2</td></tr><tr><td>12.26</td><td>2.0</td><td>Female</td><td>No</td><td>Thur</td><td>Lunch</td><td>2</td></tr><tr><td>18.26</td><td>3.25</td><td>Female</td><td>No</td><td>Thur</td><td>Lunch</td><td>2</td></tr><tr><td>8.51</td><td>1.25</td><td>Female</td><td>No</td><td>Thur</td><td>Lunch</td><td>2</td></tr><tr><td>10.33</td><td>2.0</td><td>Female</td><td>No</td><td>Thur</td><td>Lunch</td><td>2</td></tr><tr><td>14.15</td><td>2.0</td><td>Female</td><td>No</td><td>Thur</td><td>Lunch</td><td>2</td></tr><tr><td>16.0</td><td>2.0</td><td>Male</td><td>Yes</td><td>Thur</td><td>Lunch</td><td>2</td></tr><tr><td>13.16</td><td>2.75</td><td>Female</td><td>No</td><td>Thur</td><td>Lunch</td><td>2</td></tr><tr><td>17.47</td><td>3.5</td><td>Female</td><td>No</td><td>Thur</td><td>Lunch</td><td>2</td></tr><tr><td>34.3</td><td>6.7</td><td>Male</td><td>No</td><td>Thur</td><td>Lunch</td><td>6</td></tr><tr><td>41.19</td><td>5.0</td><td>Male</td><td>No</td><td>Thur</td><td>Lunch</td><td>5</td></tr><tr><td>27.05</td><td>5.0</td><td>Female</td><td>No</td><td>Thur</td><td>Lunch</td><td>6</td></tr><tr><td>16.43</td><td>2.3</td><td>Female</td><td>No</td><td>Thur</td><td>Lunch</td><td>2</td></tr><tr><td>8.35</td><td>1.5</td><td>Female</td><td>No</td><td>Thur</td><td>Lunch</td><td>2</td></tr><tr><td>18.64</td><td>1.36</td><td>Female</td><td>No</td><td>Thur</td><td>Lunch</td><td>3</td></tr><tr><td>11.87</td><td>1.63</td><td>Female</td><td>No</td><td>Thur</td><td>Lunch</td><td>2</td></tr><tr><td>9.78</td><td>1.73</td><td>Male</td><td>No</td><td>Thur</td><td>Lunch</td><td>2</td></tr><tr><td>7.51</td><td>2.0</td><td>Male</td><td>No</td><td>Thur</td><td>Lunch</td><td>2</td></tr><tr><td>14.07</td><td>2.5</td><td>Male</td><td>No</td><td>Sun</td><td>Dinner</td><td>2</td></tr><tr><td>13.13</td><td>2.0</td><td>Male</td><td>No</td><td>Sun</td><td>Dinner</td><td>2</td></tr><tr><td>17.26</td><td>2.74</td><td>Male</td><td>No</td><td>Sun</td><td>Dinner</td><td>3</td></tr><tr><td>24.55</td><td>2.0</td><td>Male</td><td>No</td><td>Sun</td><td>Dinner</td><td>4</td></tr><tr><td>19.77</td><td>2.0</td><td>Male</td><td>No</td><td>Sun</td><td>Dinner</td><td>4</td></tr><tr><td>29.85</td><td>5.14</td><td>Female</td><td>No</td><td>Sun</td><td>Dinner</td><td>5</td></tr><tr><td>48.17</td><td>5.0</td><td>Male</td><td>No</td><td>Sun</td><td>Dinner</td><td>6</td></tr><tr><td>25.0</td><td>3.75</td><td>Female</td><td>No</td><td>Sun</td><td>Dinner</td><td>4</td></tr><tr><td>13.39</td><td>2.61</td><td>Female</td><td>No</td><td>Sun</td><td>Dinner</td><td>2</td></tr><tr><td>16.49</td><td>2.0</td><td>Male</td><td>No</td><td>Sun</td><td>Dinner</td><td>4</td></tr><tr><td>21.5</td><td>3.5</td><td>Male</td><td>No</td><td>Sun</td><td>Dinner</td><td>4</td></tr><tr><td>12.66</td><td>2.5</td><td>Male</td><td>No</td><td>Sun</td><td>Dinner</td><td>2</td></tr><tr><td>16.21</td><td>2.0</td><td>Female</td><td>No</td><td>Sun</td><td>Dinner</td><td>3</td></tr><tr><td>13.81</td><td>2.0</td><td>Male</td><td>No</td><td>Sun</td><td>Dinner</td><td>2</td></tr><tr><td>17.51</td><td>3.0</td><td>Female</td><td>Yes</td><td>Sun</td><td>Dinner</td><td>2</td></tr><tr><td>24.52</td><td>3.48</td><td>Male</td><td>No</td><td>Sun</td><td>Dinner</td><td>3</td></tr><tr><td>20.76</td><td>2.24</td><td>Male</td><td>No</td><td>Sun</td><td>Dinner</td><td>2</td></tr><tr><td>31.71</td><td>4.5</td><td>Male</td><td>No</td><td>Sun</td><td>Dinner</td><td>4</td></tr><tr><td>10.59</td><td>1.61</td><td>Female</td><td>Yes</td><td>Sat</td><td>Dinner</td><td>2</td></tr><tr><td>10.63</td><td>2.0</td><td>Female</td><td>Yes</td><td>Sat</td><td>Dinner</td><td>2</td></tr><tr><td>50.81</td><td>10.0</td><td>Male</td><td>Yes</td><td>Sat</td><td>Dinner</td><td>3</td></tr><tr><td>15.81</td><td>3.16</td><td>Male</td><td>Yes</td><td>Sat</td><td>Dinner</td><td>2</td></tr><tr><td>7.25</td><td>5.15</td><td>Male</td><td>Yes</td><td>Sun</td><td>Dinner</td><td>2</td></tr><tr><td>31.85</td><td>3.18</td><td>Male</td><td>Yes</td><td>Sun</td><td>Dinner</td><td>2</td></tr><tr><td>16.82</td><td>4.0</td><td>Male</td><td>Yes</td><td>Sun</td><td>Dinner</td><td>2</td></tr><tr><td>32.9</td><td>3.11</td><td>Male</td><td>Yes</td><td>Sun</td><td>Dinner</td><td>2</td></tr><tr><td>17.89</td><td>2.0</td><td>Male</td><td>Yes</td><td>Sun</td><td>Dinner</td><td>2</td></tr><tr><td>14.48</td><td>2.0</td><td>Male</td><td>Yes</td><td>Sun</td><td>Dinner</td><td>2</td></tr><tr><td>9.6</td><td>4.0</td><td>Female</td><td>Yes</td><td>Sun</td><td>Dinner</td><td>2</td></tr><tr><td>34.63</td><td>3.55</td><td>Male</td><td>Yes</td><td>Sun</td><td>Dinner</td><td>2</td></tr><tr><td>34.65</td><td>3.68</td><td>Male</td><td>Yes</td><td>Sun</td><td>Dinner</td><td>4</td></tr><tr><td>23.33</td><td>5.65</td><td>Male</td><td>Yes</td><td>Sun</td><td>Dinner</td><td>2</td></tr><tr><td>45.35</td><td>3.5</td><td>Male</td><td>Yes</td><td>Sun</td><td>Dinner</td><td>3</td></tr><tr><td>23.17</td><td>6.5</td><td>Male</td><td>Yes</td><td>Sun</td><td>Dinner</td><td>4</td></tr><tr><td>40.55</td><td>3.0</td><td>Male</td><td>Yes</td><td>Sun</td><td>Dinner</td><td>2</td></tr><tr><td>20.69</td><td>5.0</td><td>Male</td><td>No</td><td>Sun</td><td>Dinner</td><td>5</td></tr><tr><td>20.9</td><td>3.5</td><td>Female</td><td>Yes</td><td>Sun</td><td>Dinner</td><td>3</td></tr><tr><td>30.46</td><td>2.0</td><td>Male</td><td>Yes</td><td>Sun</td><td>Dinner</td><td>5</td></tr><tr><td>18.15</td><td>3.5</td><td>Female</td><td>Yes</td><td>Sun</td><td>Dinner</td><td>3</td></tr><tr><td>23.1</td><td>4.0</td><td>Male</td><td>Yes</td><td>Sun</td><td>Dinner</td><td>3</td></tr><tr><td>15.69</td><td>1.5</td><td>Male</td><td>Yes</td><td>Sun</td><td>Dinner</td><td>2</td></tr><tr><td>19.81</td><td>4.19</td><td>Female</td><td>Yes</td><td>Thur</td><td>Lunch</td><td>2</td></tr><tr><td>28.44</td><td>2.56</td><td>Male</td><td>Yes</td><td>Thur</td><td>Lunch</td><td>2</td></tr><tr><td>15.48</td><td>2.02</td><td>Male</td><td>Yes</td><td>Thur</td><td>Lunch</td><td>2</td></tr><tr><td>16.58</td><td>4.0</td><td>Male</td><td>Yes</td><td>Thur</td><td>Lunch</td><td>2</td></tr><tr><td>7.56</td><td>1.44</td><td>Male</td><td>No</td><td>Thur</td><td>Lunch</td><td>2</td></tr><tr><td>10.34</td><td>2.0</td><td>Male</td><td>Yes</td><td>Thur</td><td>Lunch</td><td>2</td></tr><tr><td>43.11</td><td>5.0</td><td>Female</td><td>Yes</td><td>Thur</td><td>Lunch</td><td>4</td></tr><tr><td>13.0</td><td>2.0</td><td>Female</td><td>Yes</td><td>Thur</td><td>Lunch</td><td>2</td></tr><tr><td>13.51</td><td>2.0</td><td>Male</td><td>Yes</td><td>Thur</td><td>Lunch</td><td>2</td></tr><tr><td>18.71</td><td>4.0</td><td>Male</td><td>Yes</td><td>Thur</td><td>Lunch</td><td>3</td></tr><tr><td>12.74</td><td>2.01</td><td>Female</td><td>Yes</td><td>Thur</td><td>Lunch</td><td>2</td></tr><tr><td>13.0</td><td>2.0</td><td>Female</td><td>Yes</td><td>Thur</td><td>Lunch</td><td>2</td></tr><tr><td>16.4</td><td>2.5</td><td>Female</td><td>Yes</td><td>Thur</td><td>Lunch</td><td>2</td></tr><tr><td>20.53</td><td>4.0</td><td>Male</td><td>Yes</td><td>Thur</td><td>Lunch</td><td>4</td></tr><tr><td>16.47</td><td>3.23</td><td>Female</td><td>Yes</td><td>Thur</td><td>Lunch</td><td>3</td></tr><tr><td>26.59</td><td>3.41</td><td>Male</td><td>Yes</td><td>Sat</td><td>Dinner</td><td>3</td></tr><tr><td>38.73</td><td>3.0</td><td>Male</td><td>Yes</td><td>Sat</td><td>Dinner</td><td>4</td></tr><tr><td>24.27</td><td>2.03</td><td>Male</td><td>Yes</td><td>Sat</td><td>Dinner</td><td>2</td></tr><tr><td>12.76</td><td>2.23</td><td>Female</td><td>Yes</td><td>Sat</td><td>Dinner</td><td>2</td></tr><tr><td>30.06</td><td>2.0</td><td>Male</td><td>Yes</td><td>Sat</td><td>Dinner</td><td>3</td></tr><tr><td>25.89</td><td>5.16</td><td>Male</td><td>Yes</td><td>Sat</td><td>Dinner</td><td>4</td></tr><tr><td>48.33</td><td>9.0</td><td>Male</td><td>No</td><td>Sat</td><td>Dinner</td><td>4</td></tr><tr><td>13.27</td><td>2.5</td><td>Female</td><td>Yes</td><td>Sat</td><td>Dinner</td><td>2</td></tr><tr><td>28.17</td><td>6.5</td><td>Female</td><td>Yes</td><td>Sat</td><td>Dinner</td><td>3</td></tr><tr><td>12.9</td><td>1.1</td><td>Female</td><td>Yes</td><td>Sat</td><td>Dinner</td><td>2</td></tr><tr><td>28.15</td><td>3.0</td><td>Male</td><td>Yes</td><td>Sat</td><td>Dinner</td><td>5</td></tr><tr><td>11.59</td><td>1.5</td><td>Male</td><td>Yes</td><td>Sat</td><td>Dinner</td><td>2</td></tr><tr><td>7.74</td><td>1.44</td><td>Male</td><td>Yes</td><td>Sat</td><td>Dinner</td><td>2</td></tr><tr><td>30.14</td><td>3.09</td><td>Female</td><td>Yes</td><td>Sat</td><td>Dinner</td><td>4</td></tr><tr><td>12.16</td><td>2.2</td><td>Male</td><td>Yes</td><td>Fri</td><td>Lunch</td><td>2</td></tr><tr><td>13.42</td><td>3.48</td><td>Female</td><td>Yes</td><td>Fri</td><td>Lunch</td><td>2</td></tr><tr><td>8.58</td><td>1.92</td><td>Male</td><td>Yes</td><td>Fri</td><td>Lunch</td><td>1</td></tr><tr><td>15.98</td><td>3.0</td><td>Female</td><td>No</td><td>Fri</td><td>Lunch</td><td>3</td></tr><tr><td>13.42</td><td>1.58</td><td>Male</td><td>Yes</td><td>Fri</td><td>Lunch</td><td>2</td></tr><tr><td>16.27</td><td>2.5</td><td>Female</td><td>Yes</td><td>Fri</td><td>Lunch</td><td>2</td></tr><tr><td>10.09</td><td>2.0</td><td>Female</td><td>Yes</td><td>Fri</td><td>Lunch</td><td>2</td></tr><tr><td>20.45</td><td>3.0</td><td>Male</td><td>No</td><td>Sat</td><td>Dinner</td><td>4</td></tr><tr><td>13.28</td><td>2.72</td><td>Male</td><td>No</td><td>Sat</td><td>Dinner</td><td>2</td></tr><tr><td>22.12</td><td>2.88</td><td>Female</td><td>Yes</td><td>Sat</td><td>Dinner</td><td>2</td></tr><tr><td>24.01</td><td>2.0</td><td>Male</td><td>Yes</td><td>Sat</td><td>Dinner</td><td>4</td></tr><tr><td>15.69</td><td>3.0</td><td>Male</td><td>Yes</td><td>Sat</td><td>Dinner</td><td>3</td></tr><tr><td>11.61</td><td>3.39</td><td>Male</td><td>No</td><td>Sat</td><td>Dinner</td><td>2</td></tr><tr><td>10.77</td><td>1.47</td><td>Male</td><td>No</td><td>Sat</td><td>Dinner</td><td>2</td></tr><tr><td>15.53</td><td>3.0</td><td>Male</td><td>Yes</td><td>Sat</td><td>Dinner</td><td>2</td></tr><tr><td>10.07</td><td>1.25</td><td>Male</td><td>No</td><td>Sat</td><td>Dinner</td><td>2</td></tr><tr><td>12.6</td><td>1.0</td><td>Male</td><td>Yes</td><td>Sat</td><td>Dinner</td><td>2</td></tr><tr><td>32.83</td><td>1.17</td><td>Male</td><td>Yes</td><td>Sat</td><td>Dinner</td><td>2</td></tr><tr><td>35.83</td><td>4.67</td><td>Female</td><td>No</td><td>Sat</td><td>Dinner</td><td>3</td></tr><tr><td>29.03</td><td>5.92</td><td>Male</td><td>No</td><td>Sat</td><td>Dinner</td><td>3</td></tr><tr><td>27.18</td><td>2.0</td><td>Female</td><td>Yes</td><td>Sat</td><td>Dinner</td><td>2</td></tr><tr><td>22.67</td><td>2.0</td><td>Male</td><td>Yes</td><td>Sat</td><td>Dinner</td><td>2</td></tr><tr><td>17.82</td><td>1.75</td><td>Male</td><td>No</td><td>Sat</td><td>Dinner</td><td>2</td></tr><tr><td>18.78</td><td>3.0</td><td>Female</td><td>No</td><td>Thur</td><td>Dinner</td><td>2</td></tr></tbody></table></div>"
      ]
     },
     "metadata": {
      "application/vnd.databricks.v1+output": {
       "addedWidgets": {},
       "aggData": [],
       "aggError": "",
       "aggOverflow": false,
       "aggSchema": [],
       "aggSeriesLimitReached": false,
       "aggType": "",
       "arguments": {},
       "columnCustomDisplayInfos": {},
       "data": [
        [
         16.99,
         1.01,
         "Female",
         "No",
         "Sun",
         "Dinner",
         2
        ],
        [
         10.34,
         1.66,
         "Male",
         "No",
         "Sun",
         "Dinner",
         3
        ],
        [
         21.01,
         3.5,
         "Male",
         "No",
         "Sun",
         "Dinner",
         3
        ],
        [
         23.68,
         3.31,
         "Male",
         "No",
         "Sun",
         "Dinner",
         2
        ],
        [
         24.59,
         3.61,
         "Female",
         "No",
         "Sun",
         "Dinner",
         4
        ],
        [
         25.29,
         4.71,
         "Male",
         "No",
         "Sun",
         "Dinner",
         4
        ],
        [
         8.77,
         2.0,
         "Male",
         "No",
         "Sun",
         "Dinner",
         2
        ],
        [
         26.88,
         3.12,
         "Male",
         "No",
         "Sun",
         "Dinner",
         4
        ],
        [
         15.04,
         1.96,
         "Male",
         "No",
         "Sun",
         "Dinner",
         2
        ],
        [
         14.78,
         3.23,
         "Male",
         "No",
         "Sun",
         "Dinner",
         2
        ],
        [
         10.27,
         1.71,
         "Male",
         "No",
         "Sun",
         "Dinner",
         2
        ],
        [
         35.26,
         5.0,
         "Female",
         "No",
         "Sun",
         "Dinner",
         4
        ],
        [
         15.42,
         1.57,
         "Male",
         "No",
         "Sun",
         "Dinner",
         2
        ],
        [
         18.43,
         3.0,
         "Male",
         "No",
         "Sun",
         "Dinner",
         4
        ],
        [
         14.83,
         3.02,
         "Female",
         "No",
         "Sun",
         "Dinner",
         2
        ],
        [
         21.58,
         3.92,
         "Male",
         "No",
         "Sun",
         "Dinner",
         2
        ],
        [
         10.33,
         1.67,
         "Female",
         "No",
         "Sun",
         "Dinner",
         3
        ],
        [
         16.29,
         3.71,
         "Male",
         "No",
         "Sun",
         "Dinner",
         3
        ],
        [
         16.97,
         3.5,
         "Female",
         "No",
         "Sun",
         "Dinner",
         3
        ],
        [
         20.65,
         3.35,
         "Male",
         "No",
         "Sat",
         "Dinner",
         3
        ],
        [
         17.92,
         4.08,
         "Male",
         "No",
         "Sat",
         "Dinner",
         2
        ],
        [
         20.29,
         2.75,
         "Female",
         "No",
         "Sat",
         "Dinner",
         2
        ],
        [
         15.77,
         2.23,
         "Female",
         "No",
         "Sat",
         "Dinner",
         2
        ],
        [
         39.42,
         7.58,
         "Male",
         "No",
         "Sat",
         "Dinner",
         4
        ],
        [
         19.82,
         3.18,
         "Male",
         "No",
         "Sat",
         "Dinner",
         2
        ],
        [
         17.81,
         2.34,
         "Male",
         "No",
         "Sat",
         "Dinner",
         4
        ],
        [
         13.37,
         2.0,
         "Male",
         "No",
         "Sat",
         "Dinner",
         2
        ],
        [
         12.69,
         2.0,
         "Male",
         "No",
         "Sat",
         "Dinner",
         2
        ],
        [
         21.7,
         4.3,
         "Male",
         "No",
         "Sat",
         "Dinner",
         2
        ],
        [
         19.65,
         3.0,
         "Female",
         "No",
         "Sat",
         "Dinner",
         2
        ],
        [
         9.55,
         1.45,
         "Male",
         "No",
         "Sat",
         "Dinner",
         2
        ],
        [
         18.35,
         2.5,
         "Male",
         "No",
         "Sat",
         "Dinner",
         4
        ],
        [
         15.06,
         3.0,
         "Female",
         "No",
         "Sat",
         "Dinner",
         2
        ],
        [
         20.69,
         2.45,
         "Female",
         "No",
         "Sat",
         "Dinner",
         4
        ],
        [
         17.78,
         3.27,
         "Male",
         "No",
         "Sat",
         "Dinner",
         2
        ],
        [
         24.06,
         3.6,
         "Male",
         "No",
         "Sat",
         "Dinner",
         3
        ],
        [
         16.31,
         2.0,
         "Male",
         "No",
         "Sat",
         "Dinner",
         3
        ],
        [
         16.93,
         3.07,
         "Female",
         "No",
         "Sat",
         "Dinner",
         3
        ],
        [
         18.69,
         2.31,
         "Male",
         "No",
         "Sat",
         "Dinner",
         3
        ],
        [
         31.27,
         5.0,
         "Male",
         "No",
         "Sat",
         "Dinner",
         3
        ],
        [
         16.04,
         2.24,
         "Male",
         "No",
         "Sat",
         "Dinner",
         3
        ],
        [
         17.46,
         2.54,
         "Male",
         "No",
         "Sun",
         "Dinner",
         2
        ],
        [
         13.94,
         3.06,
         "Male",
         "No",
         "Sun",
         "Dinner",
         2
        ],
        [
         9.68,
         1.32,
         "Male",
         "No",
         "Sun",
         "Dinner",
         2
        ],
        [
         30.4,
         5.6,
         "Male",
         "No",
         "Sun",
         "Dinner",
         4
        ],
        [
         18.29,
         3.0,
         "Male",
         "No",
         "Sun",
         "Dinner",
         2
        ],
        [
         22.23,
         5.0,
         "Male",
         "No",
         "Sun",
         "Dinner",
         2
        ],
        [
         32.4,
         6.0,
         "Male",
         "No",
         "Sun",
         "Dinner",
         4
        ],
        [
         28.55,
         2.05,
         "Male",
         "No",
         "Sun",
         "Dinner",
         3
        ],
        [
         18.04,
         3.0,
         "Male",
         "No",
         "Sun",
         "Dinner",
         2
        ],
        [
         12.54,
         2.5,
         "Male",
         "No",
         "Sun",
         "Dinner",
         2
        ],
        [
         10.29,
         2.6,
         "Female",
         "No",
         "Sun",
         "Dinner",
         2
        ],
        [
         34.81,
         5.2,
         "Female",
         "No",
         "Sun",
         "Dinner",
         4
        ],
        [
         9.94,
         1.56,
         "Male",
         "No",
         "Sun",
         "Dinner",
         2
        ],
        [
         25.56,
         4.34,
         "Male",
         "No",
         "Sun",
         "Dinner",
         4
        ],
        [
         19.49,
         3.51,
         "Male",
         "No",
         "Sun",
         "Dinner",
         2
        ],
        [
         38.01,
         3.0,
         "Male",
         "Yes",
         "Sat",
         "Dinner",
         4
        ],
        [
         26.41,
         1.5,
         "Female",
         "No",
         "Sat",
         "Dinner",
         2
        ],
        [
         11.24,
         1.76,
         "Male",
         "Yes",
         "Sat",
         "Dinner",
         2
        ],
        [
         48.27,
         6.73,
         "Male",
         "No",
         "Sat",
         "Dinner",
         4
        ],
        [
         20.29,
         3.21,
         "Male",
         "Yes",
         "Sat",
         "Dinner",
         2
        ],
        [
         13.81,
         2.0,
         "Male",
         "Yes",
         "Sat",
         "Dinner",
         2
        ],
        [
         11.02,
         1.98,
         "Male",
         "Yes",
         "Sat",
         "Dinner",
         2
        ],
        [
         18.29,
         3.76,
         "Male",
         "Yes",
         "Sat",
         "Dinner",
         4
        ],
        [
         17.59,
         2.64,
         "Male",
         "No",
         "Sat",
         "Dinner",
         3
        ],
        [
         20.08,
         3.15,
         "Male",
         "No",
         "Sat",
         "Dinner",
         3
        ],
        [
         16.45,
         2.47,
         "Female",
         "No",
         "Sat",
         "Dinner",
         2
        ],
        [
         3.07,
         1.0,
         "Female",
         "Yes",
         "Sat",
         "Dinner",
         1
        ],
        [
         20.23,
         2.01,
         "Male",
         "No",
         "Sat",
         "Dinner",
         2
        ],
        [
         15.01,
         2.09,
         "Male",
         "Yes",
         "Sat",
         "Dinner",
         2
        ],
        [
         12.02,
         1.97,
         "Male",
         "No",
         "Sat",
         "Dinner",
         2
        ],
        [
         17.07,
         3.0,
         "Female",
         "No",
         "Sat",
         "Dinner",
         3
        ],
        [
         26.86,
         3.14,
         "Female",
         "Yes",
         "Sat",
         "Dinner",
         2
        ],
        [
         25.28,
         5.0,
         "Female",
         "Yes",
         "Sat",
         "Dinner",
         2
        ],
        [
         14.73,
         2.2,
         "Female",
         "No",
         "Sat",
         "Dinner",
         2
        ],
        [
         10.51,
         1.25,
         "Male",
         "No",
         "Sat",
         "Dinner",
         2
        ],
        [
         17.92,
         3.08,
         "Male",
         "Yes",
         "Sat",
         "Dinner",
         2
        ],
        [
         27.2,
         4.0,
         "Male",
         "No",
         "Thur",
         "Lunch",
         4
        ],
        [
         22.76,
         3.0,
         "Male",
         "No",
         "Thur",
         "Lunch",
         2
        ],
        [
         17.29,
         2.71,
         "Male",
         "No",
         "Thur",
         "Lunch",
         2
        ],
        [
         19.44,
         3.0,
         "Male",
         "Yes",
         "Thur",
         "Lunch",
         2
        ],
        [
         16.66,
         3.4,
         "Male",
         "No",
         "Thur",
         "Lunch",
         2
        ],
        [
         10.07,
         1.83,
         "Female",
         "No",
         "Thur",
         "Lunch",
         1
        ],
        [
         32.68,
         5.0,
         "Male",
         "Yes",
         "Thur",
         "Lunch",
         2
        ],
        [
         15.98,
         2.03,
         "Male",
         "No",
         "Thur",
         "Lunch",
         2
        ],
        [
         34.83,
         5.17,
         "Female",
         "No",
         "Thur",
         "Lunch",
         4
        ],
        [
         13.03,
         2.0,
         "Male",
         "No",
         "Thur",
         "Lunch",
         2
        ],
        [
         18.28,
         4.0,
         "Male",
         "No",
         "Thur",
         "Lunch",
         2
        ],
        [
         24.71,
         5.85,
         "Male",
         "No",
         "Thur",
         "Lunch",
         2
        ],
        [
         21.16,
         3.0,
         "Male",
         "No",
         "Thur",
         "Lunch",
         2
        ],
        [
         28.97,
         3.0,
         "Male",
         "Yes",
         "Fri",
         "Dinner",
         2
        ],
        [
         22.49,
         3.5,
         "Male",
         "No",
         "Fri",
         "Dinner",
         2
        ],
        [
         5.75,
         1.0,
         "Female",
         "Yes",
         "Fri",
         "Dinner",
         2
        ],
        [
         16.32,
         4.3,
         "Female",
         "Yes",
         "Fri",
         "Dinner",
         2
        ],
        [
         22.75,
         3.25,
         "Female",
         "No",
         "Fri",
         "Dinner",
         2
        ],
        [
         40.17,
         4.73,
         "Male",
         "Yes",
         "Fri",
         "Dinner",
         4
        ],
        [
         27.28,
         4.0,
         "Male",
         "Yes",
         "Fri",
         "Dinner",
         2
        ],
        [
         12.03,
         1.5,
         "Male",
         "Yes",
         "Fri",
         "Dinner",
         2
        ],
        [
         21.01,
         3.0,
         "Male",
         "Yes",
         "Fri",
         "Dinner",
         2
        ],
        [
         12.46,
         1.5,
         "Male",
         "No",
         "Fri",
         "Dinner",
         2
        ],
        [
         11.35,
         2.5,
         "Female",
         "Yes",
         "Fri",
         "Dinner",
         2
        ],
        [
         15.38,
         3.0,
         "Female",
         "Yes",
         "Fri",
         "Dinner",
         2
        ],
        [
         44.3,
         2.5,
         "Female",
         "Yes",
         "Sat",
         "Dinner",
         3
        ],
        [
         22.42,
         3.48,
         "Female",
         "Yes",
         "Sat",
         "Dinner",
         2
        ],
        [
         20.92,
         4.08,
         "Female",
         "No",
         "Sat",
         "Dinner",
         2
        ],
        [
         15.36,
         1.64,
         "Male",
         "Yes",
         "Sat",
         "Dinner",
         2
        ],
        [
         20.49,
         4.06,
         "Male",
         "Yes",
         "Sat",
         "Dinner",
         2
        ],
        [
         25.21,
         4.29,
         "Male",
         "Yes",
         "Sat",
         "Dinner",
         2
        ],
        [
         18.24,
         3.76,
         "Male",
         "No",
         "Sat",
         "Dinner",
         2
        ],
        [
         14.31,
         4.0,
         "Female",
         "Yes",
         "Sat",
         "Dinner",
         2
        ],
        [
         14.0,
         3.0,
         "Male",
         "No",
         "Sat",
         "Dinner",
         2
        ],
        [
         7.25,
         1.0,
         "Female",
         "No",
         "Sat",
         "Dinner",
         1
        ],
        [
         38.07,
         4.0,
         "Male",
         "No",
         "Sun",
         "Dinner",
         3
        ],
        [
         23.95,
         2.55,
         "Male",
         "No",
         "Sun",
         "Dinner",
         2
        ],
        [
         25.71,
         4.0,
         "Female",
         "No",
         "Sun",
         "Dinner",
         3
        ],
        [
         17.31,
         3.5,
         "Female",
         "No",
         "Sun",
         "Dinner",
         2
        ],
        [
         29.93,
         5.07,
         "Male",
         "No",
         "Sun",
         "Dinner",
         4
        ],
        [
         10.65,
         1.5,
         "Female",
         "No",
         "Thur",
         "Lunch",
         2
        ],
        [
         12.43,
         1.8,
         "Female",
         "No",
         "Thur",
         "Lunch",
         2
        ],
        [
         24.08,
         2.92,
         "Female",
         "No",
         "Thur",
         "Lunch",
         4
        ],
        [
         11.69,
         2.31,
         "Male",
         "No",
         "Thur",
         "Lunch",
         2
        ],
        [
         13.42,
         1.68,
         "Female",
         "No",
         "Thur",
         "Lunch",
         2
        ],
        [
         14.26,
         2.5,
         "Male",
         "No",
         "Thur",
         "Lunch",
         2
        ],
        [
         15.95,
         2.0,
         "Male",
         "No",
         "Thur",
         "Lunch",
         2
        ],
        [
         12.48,
         2.52,
         "Female",
         "No",
         "Thur",
         "Lunch",
         2
        ],
        [
         29.8,
         4.2,
         "Female",
         "No",
         "Thur",
         "Lunch",
         6
        ],
        [
         8.52,
         1.48,
         "Male",
         "No",
         "Thur",
         "Lunch",
         2
        ],
        [
         14.52,
         2.0,
         "Female",
         "No",
         "Thur",
         "Lunch",
         2
        ],
        [
         11.38,
         2.0,
         "Female",
         "No",
         "Thur",
         "Lunch",
         2
        ],
        [
         22.82,
         2.18,
         "Male",
         "No",
         "Thur",
         "Lunch",
         3
        ],
        [
         19.08,
         1.5,
         "Male",
         "No",
         "Thur",
         "Lunch",
         2
        ],
        [
         20.27,
         2.83,
         "Female",
         "No",
         "Thur",
         "Lunch",
         2
        ],
        [
         11.17,
         1.5,
         "Female",
         "No",
         "Thur",
         "Lunch",
         2
        ],
        [
         12.26,
         2.0,
         "Female",
         "No",
         "Thur",
         "Lunch",
         2
        ],
        [
         18.26,
         3.25,
         "Female",
         "No",
         "Thur",
         "Lunch",
         2
        ],
        [
         8.51,
         1.25,
         "Female",
         "No",
         "Thur",
         "Lunch",
         2
        ],
        [
         10.33,
         2.0,
         "Female",
         "No",
         "Thur",
         "Lunch",
         2
        ],
        [
         14.15,
         2.0,
         "Female",
         "No",
         "Thur",
         "Lunch",
         2
        ],
        [
         16.0,
         2.0,
         "Male",
         "Yes",
         "Thur",
         "Lunch",
         2
        ],
        [
         13.16,
         2.75,
         "Female",
         "No",
         "Thur",
         "Lunch",
         2
        ],
        [
         17.47,
         3.5,
         "Female",
         "No",
         "Thur",
         "Lunch",
         2
        ],
        [
         34.3,
         6.7,
         "Male",
         "No",
         "Thur",
         "Lunch",
         6
        ],
        [
         41.19,
         5.0,
         "Male",
         "No",
         "Thur",
         "Lunch",
         5
        ],
        [
         27.05,
         5.0,
         "Female",
         "No",
         "Thur",
         "Lunch",
         6
        ],
        [
         16.43,
         2.3,
         "Female",
         "No",
         "Thur",
         "Lunch",
         2
        ],
        [
         8.35,
         1.5,
         "Female",
         "No",
         "Thur",
         "Lunch",
         2
        ],
        [
         18.64,
         1.36,
         "Female",
         "No",
         "Thur",
         "Lunch",
         3
        ],
        [
         11.87,
         1.63,
         "Female",
         "No",
         "Thur",
         "Lunch",
         2
        ],
        [
         9.78,
         1.73,
         "Male",
         "No",
         "Thur",
         "Lunch",
         2
        ],
        [
         7.51,
         2.0,
         "Male",
         "No",
         "Thur",
         "Lunch",
         2
        ],
        [
         14.07,
         2.5,
         "Male",
         "No",
         "Sun",
         "Dinner",
         2
        ],
        [
         13.13,
         2.0,
         "Male",
         "No",
         "Sun",
         "Dinner",
         2
        ],
        [
         17.26,
         2.74,
         "Male",
         "No",
         "Sun",
         "Dinner",
         3
        ],
        [
         24.55,
         2.0,
         "Male",
         "No",
         "Sun",
         "Dinner",
         4
        ],
        [
         19.77,
         2.0,
         "Male",
         "No",
         "Sun",
         "Dinner",
         4
        ],
        [
         29.85,
         5.14,
         "Female",
         "No",
         "Sun",
         "Dinner",
         5
        ],
        [
         48.17,
         5.0,
         "Male",
         "No",
         "Sun",
         "Dinner",
         6
        ],
        [
         25.0,
         3.75,
         "Female",
         "No",
         "Sun",
         "Dinner",
         4
        ],
        [
         13.39,
         2.61,
         "Female",
         "No",
         "Sun",
         "Dinner",
         2
        ],
        [
         16.49,
         2.0,
         "Male",
         "No",
         "Sun",
         "Dinner",
         4
        ],
        [
         21.5,
         3.5,
         "Male",
         "No",
         "Sun",
         "Dinner",
         4
        ],
        [
         12.66,
         2.5,
         "Male",
         "No",
         "Sun",
         "Dinner",
         2
        ],
        [
         16.21,
         2.0,
         "Female",
         "No",
         "Sun",
         "Dinner",
         3
        ],
        [
         13.81,
         2.0,
         "Male",
         "No",
         "Sun",
         "Dinner",
         2
        ],
        [
         17.51,
         3.0,
         "Female",
         "Yes",
         "Sun",
         "Dinner",
         2
        ],
        [
         24.52,
         3.48,
         "Male",
         "No",
         "Sun",
         "Dinner",
         3
        ],
        [
         20.76,
         2.24,
         "Male",
         "No",
         "Sun",
         "Dinner",
         2
        ],
        [
         31.71,
         4.5,
         "Male",
         "No",
         "Sun",
         "Dinner",
         4
        ],
        [
         10.59,
         1.61,
         "Female",
         "Yes",
         "Sat",
         "Dinner",
         2
        ],
        [
         10.63,
         2.0,
         "Female",
         "Yes",
         "Sat",
         "Dinner",
         2
        ],
        [
         50.81,
         10.0,
         "Male",
         "Yes",
         "Sat",
         "Dinner",
         3
        ],
        [
         15.81,
         3.16,
         "Male",
         "Yes",
         "Sat",
         "Dinner",
         2
        ],
        [
         7.25,
         5.15,
         "Male",
         "Yes",
         "Sun",
         "Dinner",
         2
        ],
        [
         31.85,
         3.18,
         "Male",
         "Yes",
         "Sun",
         "Dinner",
         2
        ],
        [
         16.82,
         4.0,
         "Male",
         "Yes",
         "Sun",
         "Dinner",
         2
        ],
        [
         32.9,
         3.11,
         "Male",
         "Yes",
         "Sun",
         "Dinner",
         2
        ],
        [
         17.89,
         2.0,
         "Male",
         "Yes",
         "Sun",
         "Dinner",
         2
        ],
        [
         14.48,
         2.0,
         "Male",
         "Yes",
         "Sun",
         "Dinner",
         2
        ],
        [
         9.6,
         4.0,
         "Female",
         "Yes",
         "Sun",
         "Dinner",
         2
        ],
        [
         34.63,
         3.55,
         "Male",
         "Yes",
         "Sun",
         "Dinner",
         2
        ],
        [
         34.65,
         3.68,
         "Male",
         "Yes",
         "Sun",
         "Dinner",
         4
        ],
        [
         23.33,
         5.65,
         "Male",
         "Yes",
         "Sun",
         "Dinner",
         2
        ],
        [
         45.35,
         3.5,
         "Male",
         "Yes",
         "Sun",
         "Dinner",
         3
        ],
        [
         23.17,
         6.5,
         "Male",
         "Yes",
         "Sun",
         "Dinner",
         4
        ],
        [
         40.55,
         3.0,
         "Male",
         "Yes",
         "Sun",
         "Dinner",
         2
        ],
        [
         20.69,
         5.0,
         "Male",
         "No",
         "Sun",
         "Dinner",
         5
        ],
        [
         20.9,
         3.5,
         "Female",
         "Yes",
         "Sun",
         "Dinner",
         3
        ],
        [
         30.46,
         2.0,
         "Male",
         "Yes",
         "Sun",
         "Dinner",
         5
        ],
        [
         18.15,
         3.5,
         "Female",
         "Yes",
         "Sun",
         "Dinner",
         3
        ],
        [
         23.1,
         4.0,
         "Male",
         "Yes",
         "Sun",
         "Dinner",
         3
        ],
        [
         15.69,
         1.5,
         "Male",
         "Yes",
         "Sun",
         "Dinner",
         2
        ],
        [
         19.81,
         4.19,
         "Female",
         "Yes",
         "Thur",
         "Lunch",
         2
        ],
        [
         28.44,
         2.56,
         "Male",
         "Yes",
         "Thur",
         "Lunch",
         2
        ],
        [
         15.48,
         2.02,
         "Male",
         "Yes",
         "Thur",
         "Lunch",
         2
        ],
        [
         16.58,
         4.0,
         "Male",
         "Yes",
         "Thur",
         "Lunch",
         2
        ],
        [
         7.56,
         1.44,
         "Male",
         "No",
         "Thur",
         "Lunch",
         2
        ],
        [
         10.34,
         2.0,
         "Male",
         "Yes",
         "Thur",
         "Lunch",
         2
        ],
        [
         43.11,
         5.0,
         "Female",
         "Yes",
         "Thur",
         "Lunch",
         4
        ],
        [
         13.0,
         2.0,
         "Female",
         "Yes",
         "Thur",
         "Lunch",
         2
        ],
        [
         13.51,
         2.0,
         "Male",
         "Yes",
         "Thur",
         "Lunch",
         2
        ],
        [
         18.71,
         4.0,
         "Male",
         "Yes",
         "Thur",
         "Lunch",
         3
        ],
        [
         12.74,
         2.01,
         "Female",
         "Yes",
         "Thur",
         "Lunch",
         2
        ],
        [
         13.0,
         2.0,
         "Female",
         "Yes",
         "Thur",
         "Lunch",
         2
        ],
        [
         16.4,
         2.5,
         "Female",
         "Yes",
         "Thur",
         "Lunch",
         2
        ],
        [
         20.53,
         4.0,
         "Male",
         "Yes",
         "Thur",
         "Lunch",
         4
        ],
        [
         16.47,
         3.23,
         "Female",
         "Yes",
         "Thur",
         "Lunch",
         3
        ],
        [
         26.59,
         3.41,
         "Male",
         "Yes",
         "Sat",
         "Dinner",
         3
        ],
        [
         38.73,
         3.0,
         "Male",
         "Yes",
         "Sat",
         "Dinner",
         4
        ],
        [
         24.27,
         2.03,
         "Male",
         "Yes",
         "Sat",
         "Dinner",
         2
        ],
        [
         12.76,
         2.23,
         "Female",
         "Yes",
         "Sat",
         "Dinner",
         2
        ],
        [
         30.06,
         2.0,
         "Male",
         "Yes",
         "Sat",
         "Dinner",
         3
        ],
        [
         25.89,
         5.16,
         "Male",
         "Yes",
         "Sat",
         "Dinner",
         4
        ],
        [
         48.33,
         9.0,
         "Male",
         "No",
         "Sat",
         "Dinner",
         4
        ],
        [
         13.27,
         2.5,
         "Female",
         "Yes",
         "Sat",
         "Dinner",
         2
        ],
        [
         28.17,
         6.5,
         "Female",
         "Yes",
         "Sat",
         "Dinner",
         3
        ],
        [
         12.9,
         1.1,
         "Female",
         "Yes",
         "Sat",
         "Dinner",
         2
        ],
        [
         28.15,
         3.0,
         "Male",
         "Yes",
         "Sat",
         "Dinner",
         5
        ],
        [
         11.59,
         1.5,
         "Male",
         "Yes",
         "Sat",
         "Dinner",
         2
        ],
        [
         7.74,
         1.44,
         "Male",
         "Yes",
         "Sat",
         "Dinner",
         2
        ],
        [
         30.14,
         3.09,
         "Female",
         "Yes",
         "Sat",
         "Dinner",
         4
        ],
        [
         12.16,
         2.2,
         "Male",
         "Yes",
         "Fri",
         "Lunch",
         2
        ],
        [
         13.42,
         3.48,
         "Female",
         "Yes",
         "Fri",
         "Lunch",
         2
        ],
        [
         8.58,
         1.92,
         "Male",
         "Yes",
         "Fri",
         "Lunch",
         1
        ],
        [
         15.98,
         3.0,
         "Female",
         "No",
         "Fri",
         "Lunch",
         3
        ],
        [
         13.42,
         1.58,
         "Male",
         "Yes",
         "Fri",
         "Lunch",
         2
        ],
        [
         16.27,
         2.5,
         "Female",
         "Yes",
         "Fri",
         "Lunch",
         2
        ],
        [
         10.09,
         2.0,
         "Female",
         "Yes",
         "Fri",
         "Lunch",
         2
        ],
        [
         20.45,
         3.0,
         "Male",
         "No",
         "Sat",
         "Dinner",
         4
        ],
        [
         13.28,
         2.72,
         "Male",
         "No",
         "Sat",
         "Dinner",
         2
        ],
        [
         22.12,
         2.88,
         "Female",
         "Yes",
         "Sat",
         "Dinner",
         2
        ],
        [
         24.01,
         2.0,
         "Male",
         "Yes",
         "Sat",
         "Dinner",
         4
        ],
        [
         15.69,
         3.0,
         "Male",
         "Yes",
         "Sat",
         "Dinner",
         3
        ],
        [
         11.61,
         3.39,
         "Male",
         "No",
         "Sat",
         "Dinner",
         2
        ],
        [
         10.77,
         1.47,
         "Male",
         "No",
         "Sat",
         "Dinner",
         2
        ],
        [
         15.53,
         3.0,
         "Male",
         "Yes",
         "Sat",
         "Dinner",
         2
        ],
        [
         10.07,
         1.25,
         "Male",
         "No",
         "Sat",
         "Dinner",
         2
        ],
        [
         12.6,
         1.0,
         "Male",
         "Yes",
         "Sat",
         "Dinner",
         2
        ],
        [
         32.83,
         1.17,
         "Male",
         "Yes",
         "Sat",
         "Dinner",
         2
        ],
        [
         35.83,
         4.67,
         "Female",
         "No",
         "Sat",
         "Dinner",
         3
        ],
        [
         29.03,
         5.92,
         "Male",
         "No",
         "Sat",
         "Dinner",
         3
        ],
        [
         27.18,
         2.0,
         "Female",
         "Yes",
         "Sat",
         "Dinner",
         2
        ],
        [
         22.67,
         2.0,
         "Male",
         "Yes",
         "Sat",
         "Dinner",
         2
        ],
        [
         17.82,
         1.75,
         "Male",
         "No",
         "Sat",
         "Dinner",
         2
        ],
        [
         18.78,
         3.0,
         "Female",
         "No",
         "Thur",
         "Dinner",
         2
        ]
       ],
       "datasetInfos": [],
       "dbfsResultPath": null,
       "isJsonSchema": true,
       "metadata": {},
       "overflow": false,
       "plotOptions": {
        "customPlotOptions": {},
        "displayType": "table",
        "pivotAggregation": null,
        "pivotColumns": null,
        "xColumns": null,
        "yColumns": null
       },
       "removedWidgets": [],
       "schema": [
        {
         "metadata": "{}",
         "name": "total_bill",
         "type": "\"double\""
        },
        {
         "metadata": "{}",
         "name": "tip",
         "type": "\"double\""
        },
        {
         "metadata": "{}",
         "name": "sex",
         "type": "\"string\""
        },
        {
         "metadata": "{}",
         "name": "smoker",
         "type": "\"string\""
        },
        {
         "metadata": "{}",
         "name": "day",
         "type": "\"string\""
        },
        {
         "metadata": "{}",
         "name": "time",
         "type": "\"string\""
        },
        {
         "metadata": "{}",
         "name": "size",
         "type": "\"integer\""
        }
       ],
       "type": "table"
      }
     },
     "output_type": "display_data"
    }
   ],
   "source": [
    "file_location = \"/Volumes/workspace/default/dullavolume/tips.csv\"\n",
    "file_type = \"csv\"\n",
    "\n",
    "df=spark.read.csv(file_location, header=True, inferSchema=True)\n",
    "display(df)"
   ]
  },
  {
   "cell_type": "code",
   "execution_count": 0,
   "metadata": {
    "application/vnd.databricks.v1+cell": {
     "cellMetadata": {
      "byteLimit": 2048000,
      "rowLimit": 10000
     },
     "inputWidgets": {},
     "nuid": "ad4e8072-4b83-448c-8a8b-f4036a1b47aa",
     "showTitle": false,
     "tableResultSettingsMap": {},
     "title": ""
    }
   },
   "outputs": [
    {
     "output_type": "stream",
     "name": "stdout",
     "output_type": "stream",
     "text": [
      "+----------+----+------+------+---+------+----+\n|total_bill| tip|   sex|smoker|day|  time|size|\n+----------+----+------+------+---+------+----+\n|     16.99|1.01|Female|    No|Sun|Dinner|   2|\n|     10.34|1.66|  Male|    No|Sun|Dinner|   3|\n|     21.01| 3.5|  Male|    No|Sun|Dinner|   3|\n|     23.68|3.31|  Male|    No|Sun|Dinner|   2|\n|     24.59|3.61|Female|    No|Sun|Dinner|   4|\n|     25.29|4.71|  Male|    No|Sun|Dinner|   4|\n|      8.77| 2.0|  Male|    No|Sun|Dinner|   2|\n|     26.88|3.12|  Male|    No|Sun|Dinner|   4|\n|     15.04|1.96|  Male|    No|Sun|Dinner|   2|\n|     14.78|3.23|  Male|    No|Sun|Dinner|   2|\n|     10.27|1.71|  Male|    No|Sun|Dinner|   2|\n|     35.26| 5.0|Female|    No|Sun|Dinner|   4|\n|     15.42|1.57|  Male|    No|Sun|Dinner|   2|\n|     18.43| 3.0|  Male|    No|Sun|Dinner|   4|\n|     14.83|3.02|Female|    No|Sun|Dinner|   2|\n|     21.58|3.92|  Male|    No|Sun|Dinner|   2|\n|     10.33|1.67|Female|    No|Sun|Dinner|   3|\n|     16.29|3.71|  Male|    No|Sun|Dinner|   3|\n|     16.97| 3.5|Female|    No|Sun|Dinner|   3|\n|     20.65|3.35|  Male|    No|Sat|Dinner|   3|\n+----------+----+------+------+---+------+----+\nonly showing top 20 rows\n"
     ]
    }
   ],
   "source": [
    "df.show()"
   ]
  },
  {
   "cell_type": "code",
   "execution_count": 0,
   "metadata": {
    "application/vnd.databricks.v1+cell": {
     "cellMetadata": {
      "byteLimit": 2048000,
      "rowLimit": 10000
     },
     "inputWidgets": {},
     "nuid": "497ea0f0-398b-49c1-bdb1-80edd04f401b",
     "showTitle": false,
     "tableResultSettingsMap": {},
     "title": ""
    }
   },
   "outputs": [
    {
     "output_type": "stream",
     "name": "stdout",
     "output_type": "stream",
     "text": [
      "root\n |-- total_bill: double (nullable = true)\n |-- tip: double (nullable = true)\n |-- sex: string (nullable = true)\n |-- smoker: string (nullable = true)\n |-- day: string (nullable = true)\n |-- time: string (nullable = true)\n |-- size: integer (nullable = true)\n\n"
     ]
    }
   ],
   "source": [
    "df.printSchema()"
   ]
  },
  {
   "cell_type": "code",
   "execution_count": 0,
   "metadata": {
    "application/vnd.databricks.v1+cell": {
     "cellMetadata": {
      "byteLimit": 2048000,
      "rowLimit": 10000
     },
     "inputWidgets": {},
     "nuid": "25a29887-5f76-4c68-9c78-999c977f836f",
     "showTitle": false,
     "tableResultSettingsMap": {},
     "title": ""
    }
   },
   "outputs": [
    {
     "output_type": "execute_result",
     "data": {
      "text/plain": [
       "['total_bill', 'tip', 'sex', 'smoker', 'day', 'time', 'size']"
      ]
     },
     "execution_count": 123,
     "metadata": {},
     "output_type": "execute_result"
    }
   ],
   "source": [
    "df.columns"
   ]
  },
  {
   "cell_type": "code",
   "execution_count": 0,
   "metadata": {
    "application/vnd.databricks.v1+cell": {
     "cellMetadata": {
      "byteLimit": 2048000,
      "rowLimit": 10000
     },
     "inputWidgets": {},
     "nuid": "856d7631-f874-46dc-815c-f339e4c874cc",
     "showTitle": false,
     "tableResultSettingsMap": {},
     "title": ""
    }
   },
   "outputs": [
    {
     "output_type": "stream",
     "name": "stdout",
     "output_type": "stream",
     "text": [
      "+----------+----+------+------+---+------+----+-----------+-------------+-----------+------------+\n|total_bill| tip|   sex|smoker|day|  time|size|sex_indexed|smoke_indexed|day_indexed|time_indexed|\n+----------+----+------+------+---+------+----+-----------+-------------+-----------+------------+\n|     16.99|1.01|Female|    No|Sun|Dinner|   2|        1.0|          0.0|        1.0|         0.0|\n|     10.34|1.66|  Male|    No|Sun|Dinner|   3|        0.0|          0.0|        1.0|         0.0|\n|     21.01| 3.5|  Male|    No|Sun|Dinner|   3|        0.0|          0.0|        1.0|         0.0|\n|     23.68|3.31|  Male|    No|Sun|Dinner|   2|        0.0|          0.0|        1.0|         0.0|\n|     24.59|3.61|Female|    No|Sun|Dinner|   4|        1.0|          0.0|        1.0|         0.0|\n|     25.29|4.71|  Male|    No|Sun|Dinner|   4|        0.0|          0.0|        1.0|         0.0|\n|      8.77| 2.0|  Male|    No|Sun|Dinner|   2|        0.0|          0.0|        1.0|         0.0|\n|     26.88|3.12|  Male|    No|Sun|Dinner|   4|        0.0|          0.0|        1.0|         0.0|\n|     15.04|1.96|  Male|    No|Sun|Dinner|   2|        0.0|          0.0|        1.0|         0.0|\n|     14.78|3.23|  Male|    No|Sun|Dinner|   2|        0.0|          0.0|        1.0|         0.0|\n|     10.27|1.71|  Male|    No|Sun|Dinner|   2|        0.0|          0.0|        1.0|         0.0|\n|     35.26| 5.0|Female|    No|Sun|Dinner|   4|        1.0|          0.0|        1.0|         0.0|\n|     15.42|1.57|  Male|    No|Sun|Dinner|   2|        0.0|          0.0|        1.0|         0.0|\n|     18.43| 3.0|  Male|    No|Sun|Dinner|   4|        0.0|          0.0|        1.0|         0.0|\n|     14.83|3.02|Female|    No|Sun|Dinner|   2|        1.0|          0.0|        1.0|         0.0|\n|     21.58|3.92|  Male|    No|Sun|Dinner|   2|        0.0|          0.0|        1.0|         0.0|\n|     10.33|1.67|Female|    No|Sun|Dinner|   3|        1.0|          0.0|        1.0|         0.0|\n|     16.29|3.71|  Male|    No|Sun|Dinner|   3|        0.0|          0.0|        1.0|         0.0|\n|     16.97| 3.5|Female|    No|Sun|Dinner|   3|        1.0|          0.0|        1.0|         0.0|\n|     20.65|3.35|  Male|    No|Sat|Dinner|   3|        0.0|          0.0|        0.0|         0.0|\n+----------+----+------+------+---+------+----+-----------+-------------+-----------+------------+\nonly showing top 20 rows\n"
     ]
    }
   ],
   "source": [
    "###Handling categorical columns\n",
    "#- One-hot encoding\n",
    "#- StringIndexer\n",
    "#- IndexToString\n",
    "#- VectorAssembler  \n",
    "from pyspark.ml.feature import StringIndexer\n",
    "\n",
    "\n",
    "indexer = StringIndexer(inputCols=[ \"sex\",\"smoker\", \"day\", \"time\"], outputCols=[\"sex_indexed\",\"smoke_indexed\", \"day_indexed\", \"time_indexed\"])\n",
    "model = indexer.fit(df)\n",
    "indexed = model.transform(df)       \n",
    "indexed.show()"
   ]
  },
  {
   "cell_type": "code",
   "execution_count": 0,
   "metadata": {
    "application/vnd.databricks.v1+cell": {
     "cellMetadata": {
      "byteLimit": 2048000,
      "rowLimit": 10000
     },
     "inputWidgets": {},
     "nuid": "8124a25e-43c7-47d0-afa6-489ad4a5a75c",
     "showTitle": false,
     "tableResultSettingsMap": {},
     "title": ""
    }
   },
   "outputs": [
    {
     "output_type": "execute_result",
     "data": {
      "text/plain": [
       "['total_bill',\n",
       " 'tip',\n",
       " 'sex',\n",
       " 'smoker',\n",
       " 'day',\n",
       " 'time',\n",
       " 'size',\n",
       " 'sex_indexed',\n",
       " 'smoke_indexed',\n",
       " 'day_indexed',\n",
       " 'time_indexed']"
      ]
     },
     "execution_count": 125,
     "metadata": {},
     "output_type": "execute_result"
    }
   ],
   "source": [
    "indexed.columns"
   ]
  },
  {
   "cell_type": "code",
   "execution_count": 0,
   "metadata": {
    "application/vnd.databricks.v1+cell": {
     "cellMetadata": {
      "byteLimit": 2048000,
      "rowLimit": 10000
     },
     "inputWidgets": {},
     "nuid": "4a1de55c-9679-49ea-8b77-55b5663281e1",
     "showTitle": false,
     "tableResultSettingsMap": {},
     "title": ""
    }
   },
   "outputs": [
    {
     "output_type": "stream",
     "name": "stdout",
     "output_type": "stream",
     "text": [
      "+----------+----+------+------+---+------+----+-----------+-------------+-----------+------------+--------------------+\n|total_bill| tip|   sex|smoker|day|  time|size|sex_indexed|smoke_indexed|day_indexed|time_indexed|Independent Features|\n+----------+----+------+------+---+------+----+-----------+-------------+-----------+------------+--------------------+\n|     16.99|1.01|Female|    No|Sun|Dinner|   2|        1.0|          0.0|        1.0|         0.0|[1.01,2.0,1.0,0.0...|\n|     10.34|1.66|  Male|    No|Sun|Dinner|   3|        0.0|          0.0|        1.0|         0.0|[1.66,3.0,0.0,0.0...|\n|     21.01| 3.5|  Male|    No|Sun|Dinner|   3|        0.0|          0.0|        1.0|         0.0|[3.5,3.0,0.0,0.0,...|\n|     23.68|3.31|  Male|    No|Sun|Dinner|   2|        0.0|          0.0|        1.0|         0.0|[3.31,2.0,0.0,0.0...|\n|     24.59|3.61|Female|    No|Sun|Dinner|   4|        1.0|          0.0|        1.0|         0.0|[3.61,4.0,1.0,0.0...|\n|     25.29|4.71|  Male|    No|Sun|Dinner|   4|        0.0|          0.0|        1.0|         0.0|[4.71,4.0,0.0,0.0...|\n|      8.77| 2.0|  Male|    No|Sun|Dinner|   2|        0.0|          0.0|        1.0|         0.0|[2.0,2.0,0.0,0.0,...|\n|     26.88|3.12|  Male|    No|Sun|Dinner|   4|        0.0|          0.0|        1.0|         0.0|[3.12,4.0,0.0,0.0...|\n|     15.04|1.96|  Male|    No|Sun|Dinner|   2|        0.0|          0.0|        1.0|         0.0|[1.96,2.0,0.0,0.0...|\n|     14.78|3.23|  Male|    No|Sun|Dinner|   2|        0.0|          0.0|        1.0|         0.0|[3.23,2.0,0.0,0.0...|\n|     10.27|1.71|  Male|    No|Sun|Dinner|   2|        0.0|          0.0|        1.0|         0.0|[1.71,2.0,0.0,0.0...|\n|     35.26| 5.0|Female|    No|Sun|Dinner|   4|        1.0|          0.0|        1.0|         0.0|[5.0,4.0,1.0,0.0,...|\n|     15.42|1.57|  Male|    No|Sun|Dinner|   2|        0.0|          0.0|        1.0|         0.0|[1.57,2.0,0.0,0.0...|\n|     18.43| 3.0|  Male|    No|Sun|Dinner|   4|        0.0|          0.0|        1.0|         0.0|[3.0,4.0,0.0,0.0,...|\n|     14.83|3.02|Female|    No|Sun|Dinner|   2|        1.0|          0.0|        1.0|         0.0|[3.02,2.0,1.0,0.0...|\n|     21.58|3.92|  Male|    No|Sun|Dinner|   2|        0.0|          0.0|        1.0|         0.0|[3.92,2.0,0.0,0.0...|\n|     10.33|1.67|Female|    No|Sun|Dinner|   3|        1.0|          0.0|        1.0|         0.0|[1.67,3.0,1.0,0.0...|\n|     16.29|3.71|  Male|    No|Sun|Dinner|   3|        0.0|          0.0|        1.0|         0.0|[3.71,3.0,0.0,0.0...|\n|     16.97| 3.5|Female|    No|Sun|Dinner|   3|        1.0|          0.0|        1.0|         0.0|[3.5,3.0,1.0,0.0,...|\n|     20.65|3.35|  Male|    No|Sat|Dinner|   3|        0.0|          0.0|        0.0|         0.0|(6,[0,1],[3.35,3.0])|\n+----------+----+------+------+---+------+----+-----------+-------------+-----------+------------+--------------------+\nonly showing top 20 rows\n"
     ]
    }
   ],
   "source": [
    "from pyspark.ml.feature import VectorAssembler\n",
    "###Create independent features\n",
    "vecAssembler = VectorAssembler(inputCols=[\"tip\",\"size\",\"sex_indexed\",\"smoke_indexed\",\"day_indexed\",\"time_indexed\"], outputCol=\"Independent Features\")\n",
    "output = vecAssembler.transform(indexed)\n",
    "output.show()\n"
   ]
  },
  {
   "cell_type": "code",
   "execution_count": 0,
   "metadata": {
    "application/vnd.databricks.v1+cell": {
     "cellMetadata": {
      "byteLimit": 2048000,
      "rowLimit": 10000
     },
     "inputWidgets": {},
     "nuid": "57d851ab-63b8-4fcb-a9fa-4d625e3af402",
     "showTitle": false,
     "tableResultSettingsMap": {},
     "title": ""
    }
   },
   "outputs": [
    {
     "output_type": "stream",
     "name": "stdout",
     "output_type": "stream",
     "text": [
      "+--------------------+\n|Independent Features|\n+--------------------+\n|[1.01,2.0,1.0,0.0...|\n|[1.66,3.0,0.0,0.0...|\n|[3.5,3.0,0.0,0.0,...|\n|[3.31,2.0,0.0,0.0...|\n|[3.61,4.0,1.0,0.0...|\n|[4.71,4.0,0.0,0.0...|\n|[2.0,2.0,0.0,0.0,...|\n|[3.12,4.0,0.0,0.0...|\n|[1.96,2.0,0.0,0.0...|\n|[3.23,2.0,0.0,0.0...|\n|[1.71,2.0,0.0,0.0...|\n|[5.0,4.0,1.0,0.0,...|\n|[1.57,2.0,0.0,0.0...|\n|[3.0,4.0,0.0,0.0,...|\n|[3.02,2.0,1.0,0.0...|\n|[3.92,2.0,0.0,0.0...|\n|[1.67,3.0,1.0,0.0...|\n|[3.71,3.0,0.0,0.0...|\n|[3.5,3.0,1.0,0.0,...|\n|(6,[0,1],[3.35,3.0])|\n+--------------------+\nonly showing top 20 rows\n"
     ]
    }
   ],
   "source": [
    "output.select('Independent Features').show()"
   ]
  },
  {
   "cell_type": "code",
   "execution_count": 0,
   "metadata": {
    "application/vnd.databricks.v1+cell": {
     "cellMetadata": {
      "byteLimit": 2048000,
      "rowLimit": 10000
     },
     "inputWidgets": {},
     "nuid": "acbb8b75-aa5f-48b1-8cfb-0ad0bafafda2",
     "showTitle": false,
     "tableResultSettingsMap": {},
     "title": ""
    }
   },
   "outputs": [
    {
     "output_type": "stream",
     "name": "stdout",
     "output_type": "stream",
     "text": [
      "+----------+----+------+------+---+------+----+-----------+-------------+-----------+------------+--------------------+\n|total_bill| tip|   sex|smoker|day|  time|size|sex_indexed|smoke_indexed|day_indexed|time_indexed|Independent Features|\n+----------+----+------+------+---+------+----+-----------+-------------+-----------+------------+--------------------+\n|     16.99|1.01|Female|    No|Sun|Dinner|   2|        1.0|          0.0|        1.0|         0.0|[1.01,2.0,1.0,0.0...|\n|     10.34|1.66|  Male|    No|Sun|Dinner|   3|        0.0|          0.0|        1.0|         0.0|[1.66,3.0,0.0,0.0...|\n|     21.01| 3.5|  Male|    No|Sun|Dinner|   3|        0.0|          0.0|        1.0|         0.0|[3.5,3.0,0.0,0.0,...|\n|     23.68|3.31|  Male|    No|Sun|Dinner|   2|        0.0|          0.0|        1.0|         0.0|[3.31,2.0,0.0,0.0...|\n|     24.59|3.61|Female|    No|Sun|Dinner|   4|        1.0|          0.0|        1.0|         0.0|[3.61,4.0,1.0,0.0...|\n|     25.29|4.71|  Male|    No|Sun|Dinner|   4|        0.0|          0.0|        1.0|         0.0|[4.71,4.0,0.0,0.0...|\n|      8.77| 2.0|  Male|    No|Sun|Dinner|   2|        0.0|          0.0|        1.0|         0.0|[2.0,2.0,0.0,0.0,...|\n|     26.88|3.12|  Male|    No|Sun|Dinner|   4|        0.0|          0.0|        1.0|         0.0|[3.12,4.0,0.0,0.0...|\n|     15.04|1.96|  Male|    No|Sun|Dinner|   2|        0.0|          0.0|        1.0|         0.0|[1.96,2.0,0.0,0.0...|\n|     14.78|3.23|  Male|    No|Sun|Dinner|   2|        0.0|          0.0|        1.0|         0.0|[3.23,2.0,0.0,0.0...|\n|     10.27|1.71|  Male|    No|Sun|Dinner|   2|        0.0|          0.0|        1.0|         0.0|[1.71,2.0,0.0,0.0...|\n|     35.26| 5.0|Female|    No|Sun|Dinner|   4|        1.0|          0.0|        1.0|         0.0|[5.0,4.0,1.0,0.0,...|\n|     15.42|1.57|  Male|    No|Sun|Dinner|   2|        0.0|          0.0|        1.0|         0.0|[1.57,2.0,0.0,0.0...|\n|     18.43| 3.0|  Male|    No|Sun|Dinner|   4|        0.0|          0.0|        1.0|         0.0|[3.0,4.0,0.0,0.0,...|\n|     14.83|3.02|Female|    No|Sun|Dinner|   2|        1.0|          0.0|        1.0|         0.0|[3.02,2.0,1.0,0.0...|\n|     21.58|3.92|  Male|    No|Sun|Dinner|   2|        0.0|          0.0|        1.0|         0.0|[3.92,2.0,0.0,0.0...|\n|     10.33|1.67|Female|    No|Sun|Dinner|   3|        1.0|          0.0|        1.0|         0.0|[1.67,3.0,1.0,0.0...|\n|     16.29|3.71|  Male|    No|Sun|Dinner|   3|        0.0|          0.0|        1.0|         0.0|[3.71,3.0,0.0,0.0...|\n|     16.97| 3.5|Female|    No|Sun|Dinner|   3|        1.0|          0.0|        1.0|         0.0|[3.5,3.0,1.0,0.0,...|\n|     20.65|3.35|  Male|    No|Sat|Dinner|   3|        0.0|          0.0|        0.0|         0.0|(6,[0,1],[3.35,3.0])|\n+----------+----+------+------+---+------+----+-----------+-------------+-----------+------------+--------------------+\nonly showing top 20 rows\n"
     ]
    }
   ],
   "source": [
    "output.show()"
   ]
  },
  {
   "cell_type": "code",
   "execution_count": 0,
   "metadata": {
    "application/vnd.databricks.v1+cell": {
     "cellMetadata": {
      "byteLimit": 2048000,
      "rowLimit": 10000
     },
     "inputWidgets": {},
     "nuid": "7686e8b1-7366-47fe-9e8f-a40c72231e95",
     "showTitle": false,
     "tableResultSettingsMap": {},
     "title": ""
    }
   },
   "outputs": [
    {
     "output_type": "stream",
     "name": "stdout",
     "output_type": "stream",
     "text": [
      "+--------------------+----------+\n|Independent Features|total_bill|\n+--------------------+----------+\n|[1.01,2.0,1.0,0.0...|     16.99|\n|[1.66,3.0,0.0,0.0...|     10.34|\n|[3.5,3.0,0.0,0.0,...|     21.01|\n|[3.31,2.0,0.0,0.0...|     23.68|\n|[3.61,4.0,1.0,0.0...|     24.59|\n|[4.71,4.0,0.0,0.0...|     25.29|\n|[2.0,2.0,0.0,0.0,...|      8.77|\n|[3.12,4.0,0.0,0.0...|     26.88|\n|[1.96,2.0,0.0,0.0...|     15.04|\n|[3.23,2.0,0.0,0.0...|     14.78|\n|[1.71,2.0,0.0,0.0...|     10.27|\n|[5.0,4.0,1.0,0.0,...|     35.26|\n|[1.57,2.0,0.0,0.0...|     15.42|\n|[3.0,4.0,0.0,0.0,...|     18.43|\n|[3.02,2.0,1.0,0.0...|     14.83|\n|[3.92,2.0,0.0,0.0...|     21.58|\n|[1.67,3.0,1.0,0.0...|     10.33|\n|[3.71,3.0,0.0,0.0...|     16.29|\n|[3.5,3.0,1.0,0.0,...|     16.97|\n|(6,[0,1],[3.35,3.0])|     20.65|\n+--------------------+----------+\nonly showing top 20 rows\n"
     ]
    },
    {
     "output_type": "display_data",
     "data": {
      "text/html": [
       "<style scoped>\n",
       "  .table-result-container {\n",
       "    max-height: 300px;\n",
       "    overflow: auto;\n",
       "  }\n",
       "  table, th, td {\n",
       "    border: 1px solid black;\n",
       "    border-collapse: collapse;\n",
       "  }\n",
       "  th, td {\n",
       "    padding: 5px;\n",
       "  }\n",
       "  th {\n",
       "    text-align: left;\n",
       "  }\n",
       "</style><div class='table-result-container'><table class='table-result'><thead style='background-color: white'><tr><th>Independent Features</th><th>total_bill</th></tr></thead><tbody><tr><td>{\"type\":\"1\",\"size\":null,\"indices\":null,\"values\":[\"1.01\",\"2.0\",\"1.0\",\"0.0\",\"1.0\",\"0.0\"]}</td><td>16.99</td></tr><tr><td>{\"type\":\"1\",\"size\":null,\"indices\":null,\"values\":[\"1.66\",\"3.0\",\"0.0\",\"0.0\",\"1.0\",\"0.0\"]}</td><td>10.34</td></tr><tr><td>{\"type\":\"1\",\"size\":null,\"indices\":null,\"values\":[\"3.5\",\"3.0\",\"0.0\",\"0.0\",\"1.0\",\"0.0\"]}</td><td>21.01</td></tr><tr><td>{\"type\":\"1\",\"size\":null,\"indices\":null,\"values\":[\"3.31\",\"2.0\",\"0.0\",\"0.0\",\"1.0\",\"0.0\"]}</td><td>23.68</td></tr><tr><td>{\"type\":\"1\",\"size\":null,\"indices\":null,\"values\":[\"3.61\",\"4.0\",\"1.0\",\"0.0\",\"1.0\",\"0.0\"]}</td><td>24.59</td></tr><tr><td>{\"type\":\"1\",\"size\":null,\"indices\":null,\"values\":[\"4.71\",\"4.0\",\"0.0\",\"0.0\",\"1.0\",\"0.0\"]}</td><td>25.29</td></tr><tr><td>{\"type\":\"1\",\"size\":null,\"indices\":null,\"values\":[\"2.0\",\"2.0\",\"0.0\",\"0.0\",\"1.0\",\"0.0\"]}</td><td>8.77</td></tr><tr><td>{\"type\":\"1\",\"size\":null,\"indices\":null,\"values\":[\"3.12\",\"4.0\",\"0.0\",\"0.0\",\"1.0\",\"0.0\"]}</td><td>26.88</td></tr><tr><td>{\"type\":\"1\",\"size\":null,\"indices\":null,\"values\":[\"1.96\",\"2.0\",\"0.0\",\"0.0\",\"1.0\",\"0.0\"]}</td><td>15.04</td></tr><tr><td>{\"type\":\"1\",\"size\":null,\"indices\":null,\"values\":[\"3.23\",\"2.0\",\"0.0\",\"0.0\",\"1.0\",\"0.0\"]}</td><td>14.78</td></tr><tr><td>{\"type\":\"1\",\"size\":null,\"indices\":null,\"values\":[\"1.71\",\"2.0\",\"0.0\",\"0.0\",\"1.0\",\"0.0\"]}</td><td>10.27</td></tr><tr><td>{\"type\":\"1\",\"size\":null,\"indices\":null,\"values\":[\"5.0\",\"4.0\",\"1.0\",\"0.0\",\"1.0\",\"0.0\"]}</td><td>35.26</td></tr><tr><td>{\"type\":\"1\",\"size\":null,\"indices\":null,\"values\":[\"1.57\",\"2.0\",\"0.0\",\"0.0\",\"1.0\",\"0.0\"]}</td><td>15.42</td></tr><tr><td>{\"type\":\"1\",\"size\":null,\"indices\":null,\"values\":[\"3.0\",\"4.0\",\"0.0\",\"0.0\",\"1.0\",\"0.0\"]}</td><td>18.43</td></tr><tr><td>{\"type\":\"1\",\"size\":null,\"indices\":null,\"values\":[\"3.02\",\"2.0\",\"1.0\",\"0.0\",\"1.0\",\"0.0\"]}</td><td>14.83</td></tr><tr><td>{\"type\":\"1\",\"size\":null,\"indices\":null,\"values\":[\"3.92\",\"2.0\",\"0.0\",\"0.0\",\"1.0\",\"0.0\"]}</td><td>21.58</td></tr><tr><td>{\"type\":\"1\",\"size\":null,\"indices\":null,\"values\":[\"1.67\",\"3.0\",\"1.0\",\"0.0\",\"1.0\",\"0.0\"]}</td><td>10.33</td></tr><tr><td>{\"type\":\"1\",\"size\":null,\"indices\":null,\"values\":[\"3.71\",\"3.0\",\"0.0\",\"0.0\",\"1.0\",\"0.0\"]}</td><td>16.29</td></tr><tr><td>{\"type\":\"1\",\"size\":null,\"indices\":null,\"values\":[\"3.5\",\"3.0\",\"1.0\",\"0.0\",\"1.0\",\"0.0\"]}</td><td>16.97</td></tr><tr><td>{\"type\":\"0\",\"size\":\"6\",\"indices\":[\"0\",\"1\"],\"values\":[\"3.35\",\"3.0\"]}</td><td>20.65</td></tr><tr><td>{\"type\":\"0\",\"size\":\"6\",\"indices\":[\"0\",\"1\"],\"values\":[\"4.08\",\"2.0\"]}</td><td>17.92</td></tr><tr><td>{\"type\":\"1\",\"size\":null,\"indices\":null,\"values\":[\"2.75\",\"2.0\",\"1.0\",\"0.0\",\"0.0\",\"0.0\"]}</td><td>20.29</td></tr><tr><td>{\"type\":\"1\",\"size\":null,\"indices\":null,\"values\":[\"2.23\",\"2.0\",\"1.0\",\"0.0\",\"0.0\",\"0.0\"]}</td><td>15.77</td></tr><tr><td>{\"type\":\"0\",\"size\":\"6\",\"indices\":[\"0\",\"1\"],\"values\":[\"7.58\",\"4.0\"]}</td><td>39.42</td></tr><tr><td>{\"type\":\"0\",\"size\":\"6\",\"indices\":[\"0\",\"1\"],\"values\":[\"3.18\",\"2.0\"]}</td><td>19.82</td></tr><tr><td>{\"type\":\"0\",\"size\":\"6\",\"indices\":[\"0\",\"1\"],\"values\":[\"2.34\",\"4.0\"]}</td><td>17.81</td></tr><tr><td>{\"type\":\"0\",\"size\":\"6\",\"indices\":[\"0\",\"1\"],\"values\":[\"2.0\",\"2.0\"]}</td><td>13.37</td></tr><tr><td>{\"type\":\"0\",\"size\":\"6\",\"indices\":[\"0\",\"1\"],\"values\":[\"2.0\",\"2.0\"]}</td><td>12.69</td></tr><tr><td>{\"type\":\"0\",\"size\":\"6\",\"indices\":[\"0\",\"1\"],\"values\":[\"4.3\",\"2.0\"]}</td><td>21.7</td></tr><tr><td>{\"type\":\"1\",\"size\":null,\"indices\":null,\"values\":[\"3.0\",\"2.0\",\"1.0\",\"0.0\",\"0.0\",\"0.0\"]}</td><td>19.65</td></tr><tr><td>{\"type\":\"0\",\"size\":\"6\",\"indices\":[\"0\",\"1\"],\"values\":[\"1.45\",\"2.0\"]}</td><td>9.55</td></tr><tr><td>{\"type\":\"0\",\"size\":\"6\",\"indices\":[\"0\",\"1\"],\"values\":[\"2.5\",\"4.0\"]}</td><td>18.35</td></tr><tr><td>{\"type\":\"1\",\"size\":null,\"indices\":null,\"values\":[\"3.0\",\"2.0\",\"1.0\",\"0.0\",\"0.0\",\"0.0\"]}</td><td>15.06</td></tr><tr><td>{\"type\":\"1\",\"size\":null,\"indices\":null,\"values\":[\"2.45\",\"4.0\",\"1.0\",\"0.0\",\"0.0\",\"0.0\"]}</td><td>20.69</td></tr><tr><td>{\"type\":\"0\",\"size\":\"6\",\"indices\":[\"0\",\"1\"],\"values\":[\"3.27\",\"2.0\"]}</td><td>17.78</td></tr><tr><td>{\"type\":\"0\",\"size\":\"6\",\"indices\":[\"0\",\"1\"],\"values\":[\"3.6\",\"3.0\"]}</td><td>24.06</td></tr><tr><td>{\"type\":\"0\",\"size\":\"6\",\"indices\":[\"0\",\"1\"],\"values\":[\"2.0\",\"3.0\"]}</td><td>16.31</td></tr><tr><td>{\"type\":\"1\",\"size\":null,\"indices\":null,\"values\":[\"3.07\",\"3.0\",\"1.0\",\"0.0\",\"0.0\",\"0.0\"]}</td><td>16.93</td></tr><tr><td>{\"type\":\"0\",\"size\":\"6\",\"indices\":[\"0\",\"1\"],\"values\":[\"2.31\",\"3.0\"]}</td><td>18.69</td></tr><tr><td>{\"type\":\"0\",\"size\":\"6\",\"indices\":[\"0\",\"1\"],\"values\":[\"5.0\",\"3.0\"]}</td><td>31.27</td></tr><tr><td>{\"type\":\"0\",\"size\":\"6\",\"indices\":[\"0\",\"1\"],\"values\":[\"2.24\",\"3.0\"]}</td><td>16.04</td></tr><tr><td>{\"type\":\"1\",\"size\":null,\"indices\":null,\"values\":[\"2.54\",\"2.0\",\"0.0\",\"0.0\",\"1.0\",\"0.0\"]}</td><td>17.46</td></tr><tr><td>{\"type\":\"1\",\"size\":null,\"indices\":null,\"values\":[\"3.06\",\"2.0\",\"0.0\",\"0.0\",\"1.0\",\"0.0\"]}</td><td>13.94</td></tr><tr><td>{\"type\":\"1\",\"size\":null,\"indices\":null,\"values\":[\"1.32\",\"2.0\",\"0.0\",\"0.0\",\"1.0\",\"0.0\"]}</td><td>9.68</td></tr><tr><td>{\"type\":\"1\",\"size\":null,\"indices\":null,\"values\":[\"5.6\",\"4.0\",\"0.0\",\"0.0\",\"1.0\",\"0.0\"]}</td><td>30.4</td></tr><tr><td>{\"type\":\"1\",\"size\":null,\"indices\":null,\"values\":[\"3.0\",\"2.0\",\"0.0\",\"0.0\",\"1.0\",\"0.0\"]}</td><td>18.29</td></tr><tr><td>{\"type\":\"1\",\"size\":null,\"indices\":null,\"values\":[\"5.0\",\"2.0\",\"0.0\",\"0.0\",\"1.0\",\"0.0\"]}</td><td>22.23</td></tr><tr><td>{\"type\":\"1\",\"size\":null,\"indices\":null,\"values\":[\"6.0\",\"4.0\",\"0.0\",\"0.0\",\"1.0\",\"0.0\"]}</td><td>32.4</td></tr><tr><td>{\"type\":\"1\",\"size\":null,\"indices\":null,\"values\":[\"2.05\",\"3.0\",\"0.0\",\"0.0\",\"1.0\",\"0.0\"]}</td><td>28.55</td></tr><tr><td>{\"type\":\"1\",\"size\":null,\"indices\":null,\"values\":[\"3.0\",\"2.0\",\"0.0\",\"0.0\",\"1.0\",\"0.0\"]}</td><td>18.04</td></tr><tr><td>{\"type\":\"1\",\"size\":null,\"indices\":null,\"values\":[\"2.5\",\"2.0\",\"0.0\",\"0.0\",\"1.0\",\"0.0\"]}</td><td>12.54</td></tr><tr><td>{\"type\":\"1\",\"size\":null,\"indices\":null,\"values\":[\"2.6\",\"2.0\",\"1.0\",\"0.0\",\"1.0\",\"0.0\"]}</td><td>10.29</td></tr><tr><td>{\"type\":\"1\",\"size\":null,\"indices\":null,\"values\":[\"5.2\",\"4.0\",\"1.0\",\"0.0\",\"1.0\",\"0.0\"]}</td><td>34.81</td></tr><tr><td>{\"type\":\"1\",\"size\":null,\"indices\":null,\"values\":[\"1.56\",\"2.0\",\"0.0\",\"0.0\",\"1.0\",\"0.0\"]}</td><td>9.94</td></tr><tr><td>{\"type\":\"1\",\"size\":null,\"indices\":null,\"values\":[\"4.34\",\"4.0\",\"0.0\",\"0.0\",\"1.0\",\"0.0\"]}</td><td>25.56</td></tr><tr><td>{\"type\":\"1\",\"size\":null,\"indices\":null,\"values\":[\"3.51\",\"2.0\",\"0.0\",\"0.0\",\"1.0\",\"0.0\"]}</td><td>19.49</td></tr><tr><td>{\"type\":\"1\",\"size\":null,\"indices\":null,\"values\":[\"3.0\",\"4.0\",\"0.0\",\"1.0\",\"0.0\",\"0.0\"]}</td><td>38.01</td></tr><tr><td>{\"type\":\"1\",\"size\":null,\"indices\":null,\"values\":[\"1.5\",\"2.0\",\"1.0\",\"0.0\",\"0.0\",\"0.0\"]}</td><td>26.41</td></tr><tr><td>{\"type\":\"1\",\"size\":null,\"indices\":null,\"values\":[\"1.76\",\"2.0\",\"0.0\",\"1.0\",\"0.0\",\"0.0\"]}</td><td>11.24</td></tr><tr><td>{\"type\":\"0\",\"size\":\"6\",\"indices\":[\"0\",\"1\"],\"values\":[\"6.73\",\"4.0\"]}</td><td>48.27</td></tr><tr><td>{\"type\":\"1\",\"size\":null,\"indices\":null,\"values\":[\"3.21\",\"2.0\",\"0.0\",\"1.0\",\"0.0\",\"0.0\"]}</td><td>20.29</td></tr><tr><td>{\"type\":\"1\",\"size\":null,\"indices\":null,\"values\":[\"2.0\",\"2.0\",\"0.0\",\"1.0\",\"0.0\",\"0.0\"]}</td><td>13.81</td></tr><tr><td>{\"type\":\"1\",\"size\":null,\"indices\":null,\"values\":[\"1.98\",\"2.0\",\"0.0\",\"1.0\",\"0.0\",\"0.0\"]}</td><td>11.02</td></tr><tr><td>{\"type\":\"1\",\"size\":null,\"indices\":null,\"values\":[\"3.76\",\"4.0\",\"0.0\",\"1.0\",\"0.0\",\"0.0\"]}</td><td>18.29</td></tr><tr><td>{\"type\":\"0\",\"size\":\"6\",\"indices\":[\"0\",\"1\"],\"values\":[\"2.64\",\"3.0\"]}</td><td>17.59</td></tr><tr><td>{\"type\":\"0\",\"size\":\"6\",\"indices\":[\"0\",\"1\"],\"values\":[\"3.15\",\"3.0\"]}</td><td>20.08</td></tr><tr><td>{\"type\":\"1\",\"size\":null,\"indices\":null,\"values\":[\"2.47\",\"2.0\",\"1.0\",\"0.0\",\"0.0\",\"0.0\"]}</td><td>16.45</td></tr><tr><td>{\"type\":\"1\",\"size\":null,\"indices\":null,\"values\":[\"1.0\",\"1.0\",\"1.0\",\"1.0\",\"0.0\",\"0.0\"]}</td><td>3.07</td></tr><tr><td>{\"type\":\"0\",\"size\":\"6\",\"indices\":[\"0\",\"1\"],\"values\":[\"2.01\",\"2.0\"]}</td><td>20.23</td></tr><tr><td>{\"type\":\"1\",\"size\":null,\"indices\":null,\"values\":[\"2.09\",\"2.0\",\"0.0\",\"1.0\",\"0.0\",\"0.0\"]}</td><td>15.01</td></tr><tr><td>{\"type\":\"0\",\"size\":\"6\",\"indices\":[\"0\",\"1\"],\"values\":[\"1.97\",\"2.0\"]}</td><td>12.02</td></tr><tr><td>{\"type\":\"1\",\"size\":null,\"indices\":null,\"values\":[\"3.0\",\"3.0\",\"1.0\",\"0.0\",\"0.0\",\"0.0\"]}</td><td>17.07</td></tr><tr><td>{\"type\":\"1\",\"size\":null,\"indices\":null,\"values\":[\"3.14\",\"2.0\",\"1.0\",\"1.0\",\"0.0\",\"0.0\"]}</td><td>26.86</td></tr><tr><td>{\"type\":\"1\",\"size\":null,\"indices\":null,\"values\":[\"5.0\",\"2.0\",\"1.0\",\"1.0\",\"0.0\",\"0.0\"]}</td><td>25.28</td></tr><tr><td>{\"type\":\"1\",\"size\":null,\"indices\":null,\"values\":[\"2.2\",\"2.0\",\"1.0\",\"0.0\",\"0.0\",\"0.0\"]}</td><td>14.73</td></tr><tr><td>{\"type\":\"0\",\"size\":\"6\",\"indices\":[\"0\",\"1\"],\"values\":[\"1.25\",\"2.0\"]}</td><td>10.51</td></tr><tr><td>{\"type\":\"1\",\"size\":null,\"indices\":null,\"values\":[\"3.08\",\"2.0\",\"0.0\",\"1.0\",\"0.0\",\"0.0\"]}</td><td>17.92</td></tr><tr><td>{\"type\":\"1\",\"size\":null,\"indices\":null,\"values\":[\"4.0\",\"4.0\",\"0.0\",\"0.0\",\"2.0\",\"1.0\"]}</td><td>27.2</td></tr><tr><td>{\"type\":\"1\",\"size\":null,\"indices\":null,\"values\":[\"3.0\",\"2.0\",\"0.0\",\"0.0\",\"2.0\",\"1.0\"]}</td><td>22.76</td></tr><tr><td>{\"type\":\"1\",\"size\":null,\"indices\":null,\"values\":[\"2.71\",\"2.0\",\"0.0\",\"0.0\",\"2.0\",\"1.0\"]}</td><td>17.29</td></tr><tr><td>{\"type\":\"1\",\"size\":null,\"indices\":null,\"values\":[\"3.0\",\"2.0\",\"0.0\",\"1.0\",\"2.0\",\"1.0\"]}</td><td>19.44</td></tr><tr><td>{\"type\":\"1\",\"size\":null,\"indices\":null,\"values\":[\"3.4\",\"2.0\",\"0.0\",\"0.0\",\"2.0\",\"1.0\"]}</td><td>16.66</td></tr><tr><td>{\"type\":\"1\",\"size\":null,\"indices\":null,\"values\":[\"1.83\",\"1.0\",\"1.0\",\"0.0\",\"2.0\",\"1.0\"]}</td><td>10.07</td></tr><tr><td>{\"type\":\"1\",\"size\":null,\"indices\":null,\"values\":[\"5.0\",\"2.0\",\"0.0\",\"1.0\",\"2.0\",\"1.0\"]}</td><td>32.68</td></tr><tr><td>{\"type\":\"1\",\"size\":null,\"indices\":null,\"values\":[\"2.03\",\"2.0\",\"0.0\",\"0.0\",\"2.0\",\"1.0\"]}</td><td>15.98</td></tr><tr><td>{\"type\":\"1\",\"size\":null,\"indices\":null,\"values\":[\"5.17\",\"4.0\",\"1.0\",\"0.0\",\"2.0\",\"1.0\"]}</td><td>34.83</td></tr><tr><td>{\"type\":\"1\",\"size\":null,\"indices\":null,\"values\":[\"2.0\",\"2.0\",\"0.0\",\"0.0\",\"2.0\",\"1.0\"]}</td><td>13.03</td></tr><tr><td>{\"type\":\"1\",\"size\":null,\"indices\":null,\"values\":[\"4.0\",\"2.0\",\"0.0\",\"0.0\",\"2.0\",\"1.0\"]}</td><td>18.28</td></tr><tr><td>{\"type\":\"1\",\"size\":null,\"indices\":null,\"values\":[\"5.85\",\"2.0\",\"0.0\",\"0.0\",\"2.0\",\"1.0\"]}</td><td>24.71</td></tr><tr><td>{\"type\":\"1\",\"size\":null,\"indices\":null,\"values\":[\"3.0\",\"2.0\",\"0.0\",\"0.0\",\"2.0\",\"1.0\"]}</td><td>21.16</td></tr><tr><td>{\"type\":\"1\",\"size\":null,\"indices\":null,\"values\":[\"3.0\",\"2.0\",\"0.0\",\"1.0\",\"3.0\",\"0.0\"]}</td><td>28.97</td></tr><tr><td>{\"type\":\"1\",\"size\":null,\"indices\":null,\"values\":[\"3.5\",\"2.0\",\"0.0\",\"0.0\",\"3.0\",\"0.0\"]}</td><td>22.49</td></tr><tr><td>{\"type\":\"1\",\"size\":null,\"indices\":null,\"values\":[\"1.0\",\"2.0\",\"1.0\",\"1.0\",\"3.0\",\"0.0\"]}</td><td>5.75</td></tr><tr><td>{\"type\":\"1\",\"size\":null,\"indices\":null,\"values\":[\"4.3\",\"2.0\",\"1.0\",\"1.0\",\"3.0\",\"0.0\"]}</td><td>16.32</td></tr><tr><td>{\"type\":\"1\",\"size\":null,\"indices\":null,\"values\":[\"3.25\",\"2.0\",\"1.0\",\"0.0\",\"3.0\",\"0.0\"]}</td><td>22.75</td></tr><tr><td>{\"type\":\"1\",\"size\":null,\"indices\":null,\"values\":[\"4.73\",\"4.0\",\"0.0\",\"1.0\",\"3.0\",\"0.0\"]}</td><td>40.17</td></tr><tr><td>{\"type\":\"1\",\"size\":null,\"indices\":null,\"values\":[\"4.0\",\"2.0\",\"0.0\",\"1.0\",\"3.0\",\"0.0\"]}</td><td>27.28</td></tr><tr><td>{\"type\":\"1\",\"size\":null,\"indices\":null,\"values\":[\"1.5\",\"2.0\",\"0.0\",\"1.0\",\"3.0\",\"0.0\"]}</td><td>12.03</td></tr><tr><td>{\"type\":\"1\",\"size\":null,\"indices\":null,\"values\":[\"3.0\",\"2.0\",\"0.0\",\"1.0\",\"3.0\",\"0.0\"]}</td><td>21.01</td></tr><tr><td>{\"type\":\"1\",\"size\":null,\"indices\":null,\"values\":[\"1.5\",\"2.0\",\"0.0\",\"0.0\",\"3.0\",\"0.0\"]}</td><td>12.46</td></tr><tr><td>{\"type\":\"1\",\"size\":null,\"indices\":null,\"values\":[\"2.5\",\"2.0\",\"1.0\",\"1.0\",\"3.0\",\"0.0\"]}</td><td>11.35</td></tr><tr><td>{\"type\":\"1\",\"size\":null,\"indices\":null,\"values\":[\"3.0\",\"2.0\",\"1.0\",\"1.0\",\"3.0\",\"0.0\"]}</td><td>15.38</td></tr><tr><td>{\"type\":\"1\",\"size\":null,\"indices\":null,\"values\":[\"2.5\",\"3.0\",\"1.0\",\"1.0\",\"0.0\",\"0.0\"]}</td><td>44.3</td></tr><tr><td>{\"type\":\"1\",\"size\":null,\"indices\":null,\"values\":[\"3.48\",\"2.0\",\"1.0\",\"1.0\",\"0.0\",\"0.0\"]}</td><td>22.42</td></tr><tr><td>{\"type\":\"1\",\"size\":null,\"indices\":null,\"values\":[\"4.08\",\"2.0\",\"1.0\",\"0.0\",\"0.0\",\"0.0\"]}</td><td>20.92</td></tr><tr><td>{\"type\":\"1\",\"size\":null,\"indices\":null,\"values\":[\"1.64\",\"2.0\",\"0.0\",\"1.0\",\"0.0\",\"0.0\"]}</td><td>15.36</td></tr><tr><td>{\"type\":\"1\",\"size\":null,\"indices\":null,\"values\":[\"4.06\",\"2.0\",\"0.0\",\"1.0\",\"0.0\",\"0.0\"]}</td><td>20.49</td></tr><tr><td>{\"type\":\"1\",\"size\":null,\"indices\":null,\"values\":[\"4.29\",\"2.0\",\"0.0\",\"1.0\",\"0.0\",\"0.0\"]}</td><td>25.21</td></tr><tr><td>{\"type\":\"0\",\"size\":\"6\",\"indices\":[\"0\",\"1\"],\"values\":[\"3.76\",\"2.0\"]}</td><td>18.24</td></tr><tr><td>{\"type\":\"1\",\"size\":null,\"indices\":null,\"values\":[\"4.0\",\"2.0\",\"1.0\",\"1.0\",\"0.0\",\"0.0\"]}</td><td>14.31</td></tr><tr><td>{\"type\":\"0\",\"size\":\"6\",\"indices\":[\"0\",\"1\"],\"values\":[\"3.0\",\"2.0\"]}</td><td>14.0</td></tr><tr><td>{\"type\":\"1\",\"size\":null,\"indices\":null,\"values\":[\"1.0\",\"1.0\",\"1.0\",\"0.0\",\"0.0\",\"0.0\"]}</td><td>7.25</td></tr><tr><td>{\"type\":\"1\",\"size\":null,\"indices\":null,\"values\":[\"4.0\",\"3.0\",\"0.0\",\"0.0\",\"1.0\",\"0.0\"]}</td><td>38.07</td></tr><tr><td>{\"type\":\"1\",\"size\":null,\"indices\":null,\"values\":[\"2.55\",\"2.0\",\"0.0\",\"0.0\",\"1.0\",\"0.0\"]}</td><td>23.95</td></tr><tr><td>{\"type\":\"1\",\"size\":null,\"indices\":null,\"values\":[\"4.0\",\"3.0\",\"1.0\",\"0.0\",\"1.0\",\"0.0\"]}</td><td>25.71</td></tr><tr><td>{\"type\":\"1\",\"size\":null,\"indices\":null,\"values\":[\"3.5\",\"2.0\",\"1.0\",\"0.0\",\"1.0\",\"0.0\"]}</td><td>17.31</td></tr><tr><td>{\"type\":\"1\",\"size\":null,\"indices\":null,\"values\":[\"5.07\",\"4.0\",\"0.0\",\"0.0\",\"1.0\",\"0.0\"]}</td><td>29.93</td></tr><tr><td>{\"type\":\"1\",\"size\":null,\"indices\":null,\"values\":[\"1.5\",\"2.0\",\"1.0\",\"0.0\",\"2.0\",\"1.0\"]}</td><td>10.65</td></tr><tr><td>{\"type\":\"1\",\"size\":null,\"indices\":null,\"values\":[\"1.8\",\"2.0\",\"1.0\",\"0.0\",\"2.0\",\"1.0\"]}</td><td>12.43</td></tr><tr><td>{\"type\":\"1\",\"size\":null,\"indices\":null,\"values\":[\"2.92\",\"4.0\",\"1.0\",\"0.0\",\"2.0\",\"1.0\"]}</td><td>24.08</td></tr><tr><td>{\"type\":\"1\",\"size\":null,\"indices\":null,\"values\":[\"2.31\",\"2.0\",\"0.0\",\"0.0\",\"2.0\",\"1.0\"]}</td><td>11.69</td></tr><tr><td>{\"type\":\"1\",\"size\":null,\"indices\":null,\"values\":[\"1.68\",\"2.0\",\"1.0\",\"0.0\",\"2.0\",\"1.0\"]}</td><td>13.42</td></tr><tr><td>{\"type\":\"1\",\"size\":null,\"indices\":null,\"values\":[\"2.5\",\"2.0\",\"0.0\",\"0.0\",\"2.0\",\"1.0\"]}</td><td>14.26</td></tr><tr><td>{\"type\":\"1\",\"size\":null,\"indices\":null,\"values\":[\"2.0\",\"2.0\",\"0.0\",\"0.0\",\"2.0\",\"1.0\"]}</td><td>15.95</td></tr><tr><td>{\"type\":\"1\",\"size\":null,\"indices\":null,\"values\":[\"2.52\",\"2.0\",\"1.0\",\"0.0\",\"2.0\",\"1.0\"]}</td><td>12.48</td></tr><tr><td>{\"type\":\"1\",\"size\":null,\"indices\":null,\"values\":[\"4.2\",\"6.0\",\"1.0\",\"0.0\",\"2.0\",\"1.0\"]}</td><td>29.8</td></tr><tr><td>{\"type\":\"1\",\"size\":null,\"indices\":null,\"values\":[\"1.48\",\"2.0\",\"0.0\",\"0.0\",\"2.0\",\"1.0\"]}</td><td>8.52</td></tr><tr><td>{\"type\":\"1\",\"size\":null,\"indices\":null,\"values\":[\"2.0\",\"2.0\",\"1.0\",\"0.0\",\"2.0\",\"1.0\"]}</td><td>14.52</td></tr><tr><td>{\"type\":\"1\",\"size\":null,\"indices\":null,\"values\":[\"2.0\",\"2.0\",\"1.0\",\"0.0\",\"2.0\",\"1.0\"]}</td><td>11.38</td></tr><tr><td>{\"type\":\"1\",\"size\":null,\"indices\":null,\"values\":[\"2.18\",\"3.0\",\"0.0\",\"0.0\",\"2.0\",\"1.0\"]}</td><td>22.82</td></tr><tr><td>{\"type\":\"1\",\"size\":null,\"indices\":null,\"values\":[\"1.5\",\"2.0\",\"0.0\",\"0.0\",\"2.0\",\"1.0\"]}</td><td>19.08</td></tr><tr><td>{\"type\":\"1\",\"size\":null,\"indices\":null,\"values\":[\"2.83\",\"2.0\",\"1.0\",\"0.0\",\"2.0\",\"1.0\"]}</td><td>20.27</td></tr><tr><td>{\"type\":\"1\",\"size\":null,\"indices\":null,\"values\":[\"1.5\",\"2.0\",\"1.0\",\"0.0\",\"2.0\",\"1.0\"]}</td><td>11.17</td></tr><tr><td>{\"type\":\"1\",\"size\":null,\"indices\":null,\"values\":[\"2.0\",\"2.0\",\"1.0\",\"0.0\",\"2.0\",\"1.0\"]}</td><td>12.26</td></tr><tr><td>{\"type\":\"1\",\"size\":null,\"indices\":null,\"values\":[\"3.25\",\"2.0\",\"1.0\",\"0.0\",\"2.0\",\"1.0\"]}</td><td>18.26</td></tr><tr><td>{\"type\":\"1\",\"size\":null,\"indices\":null,\"values\":[\"1.25\",\"2.0\",\"1.0\",\"0.0\",\"2.0\",\"1.0\"]}</td><td>8.51</td></tr><tr><td>{\"type\":\"1\",\"size\":null,\"indices\":null,\"values\":[\"2.0\",\"2.0\",\"1.0\",\"0.0\",\"2.0\",\"1.0\"]}</td><td>10.33</td></tr><tr><td>{\"type\":\"1\",\"size\":null,\"indices\":null,\"values\":[\"2.0\",\"2.0\",\"1.0\",\"0.0\",\"2.0\",\"1.0\"]}</td><td>14.15</td></tr><tr><td>{\"type\":\"1\",\"size\":null,\"indices\":null,\"values\":[\"2.0\",\"2.0\",\"0.0\",\"1.0\",\"2.0\",\"1.0\"]}</td><td>16.0</td></tr><tr><td>{\"type\":\"1\",\"size\":null,\"indices\":null,\"values\":[\"2.75\",\"2.0\",\"1.0\",\"0.0\",\"2.0\",\"1.0\"]}</td><td>13.16</td></tr><tr><td>{\"type\":\"1\",\"size\":null,\"indices\":null,\"values\":[\"3.5\",\"2.0\",\"1.0\",\"0.0\",\"2.0\",\"1.0\"]}</td><td>17.47</td></tr><tr><td>{\"type\":\"1\",\"size\":null,\"indices\":null,\"values\":[\"6.7\",\"6.0\",\"0.0\",\"0.0\",\"2.0\",\"1.0\"]}</td><td>34.3</td></tr><tr><td>{\"type\":\"1\",\"size\":null,\"indices\":null,\"values\":[\"5.0\",\"5.0\",\"0.0\",\"0.0\",\"2.0\",\"1.0\"]}</td><td>41.19</td></tr><tr><td>{\"type\":\"1\",\"size\":null,\"indices\":null,\"values\":[\"5.0\",\"6.0\",\"1.0\",\"0.0\",\"2.0\",\"1.0\"]}</td><td>27.05</td></tr><tr><td>{\"type\":\"1\",\"size\":null,\"indices\":null,\"values\":[\"2.3\",\"2.0\",\"1.0\",\"0.0\",\"2.0\",\"1.0\"]}</td><td>16.43</td></tr><tr><td>{\"type\":\"1\",\"size\":null,\"indices\":null,\"values\":[\"1.5\",\"2.0\",\"1.0\",\"0.0\",\"2.0\",\"1.0\"]}</td><td>8.35</td></tr><tr><td>{\"type\":\"1\",\"size\":null,\"indices\":null,\"values\":[\"1.36\",\"3.0\",\"1.0\",\"0.0\",\"2.0\",\"1.0\"]}</td><td>18.64</td></tr><tr><td>{\"type\":\"1\",\"size\":null,\"indices\":null,\"values\":[\"1.63\",\"2.0\",\"1.0\",\"0.0\",\"2.0\",\"1.0\"]}</td><td>11.87</td></tr><tr><td>{\"type\":\"1\",\"size\":null,\"indices\":null,\"values\":[\"1.73\",\"2.0\",\"0.0\",\"0.0\",\"2.0\",\"1.0\"]}</td><td>9.78</td></tr><tr><td>{\"type\":\"1\",\"size\":null,\"indices\":null,\"values\":[\"2.0\",\"2.0\",\"0.0\",\"0.0\",\"2.0\",\"1.0\"]}</td><td>7.51</td></tr><tr><td>{\"type\":\"1\",\"size\":null,\"indices\":null,\"values\":[\"2.5\",\"2.0\",\"0.0\",\"0.0\",\"1.0\",\"0.0\"]}</td><td>14.07</td></tr><tr><td>{\"type\":\"1\",\"size\":null,\"indices\":null,\"values\":[\"2.0\",\"2.0\",\"0.0\",\"0.0\",\"1.0\",\"0.0\"]}</td><td>13.13</td></tr><tr><td>{\"type\":\"1\",\"size\":null,\"indices\":null,\"values\":[\"2.74\",\"3.0\",\"0.0\",\"0.0\",\"1.0\",\"0.0\"]}</td><td>17.26</td></tr><tr><td>{\"type\":\"1\",\"size\":null,\"indices\":null,\"values\":[\"2.0\",\"4.0\",\"0.0\",\"0.0\",\"1.0\",\"0.0\"]}</td><td>24.55</td></tr><tr><td>{\"type\":\"1\",\"size\":null,\"indices\":null,\"values\":[\"2.0\",\"4.0\",\"0.0\",\"0.0\",\"1.0\",\"0.0\"]}</td><td>19.77</td></tr><tr><td>{\"type\":\"1\",\"size\":null,\"indices\":null,\"values\":[\"5.14\",\"5.0\",\"1.0\",\"0.0\",\"1.0\",\"0.0\"]}</td><td>29.85</td></tr><tr><td>{\"type\":\"1\",\"size\":null,\"indices\":null,\"values\":[\"5.0\",\"6.0\",\"0.0\",\"0.0\",\"1.0\",\"0.0\"]}</td><td>48.17</td></tr><tr><td>{\"type\":\"1\",\"size\":null,\"indices\":null,\"values\":[\"3.75\",\"4.0\",\"1.0\",\"0.0\",\"1.0\",\"0.0\"]}</td><td>25.0</td></tr><tr><td>{\"type\":\"1\",\"size\":null,\"indices\":null,\"values\":[\"2.61\",\"2.0\",\"1.0\",\"0.0\",\"1.0\",\"0.0\"]}</td><td>13.39</td></tr><tr><td>{\"type\":\"1\",\"size\":null,\"indices\":null,\"values\":[\"2.0\",\"4.0\",\"0.0\",\"0.0\",\"1.0\",\"0.0\"]}</td><td>16.49</td></tr><tr><td>{\"type\":\"1\",\"size\":null,\"indices\":null,\"values\":[\"3.5\",\"4.0\",\"0.0\",\"0.0\",\"1.0\",\"0.0\"]}</td><td>21.5</td></tr><tr><td>{\"type\":\"1\",\"size\":null,\"indices\":null,\"values\":[\"2.5\",\"2.0\",\"0.0\",\"0.0\",\"1.0\",\"0.0\"]}</td><td>12.66</td></tr><tr><td>{\"type\":\"1\",\"size\":null,\"indices\":null,\"values\":[\"2.0\",\"3.0\",\"1.0\",\"0.0\",\"1.0\",\"0.0\"]}</td><td>16.21</td></tr><tr><td>{\"type\":\"1\",\"size\":null,\"indices\":null,\"values\":[\"2.0\",\"2.0\",\"0.0\",\"0.0\",\"1.0\",\"0.0\"]}</td><td>13.81</td></tr><tr><td>{\"type\":\"1\",\"size\":null,\"indices\":null,\"values\":[\"3.0\",\"2.0\",\"1.0\",\"1.0\",\"1.0\",\"0.0\"]}</td><td>17.51</td></tr><tr><td>{\"type\":\"1\",\"size\":null,\"indices\":null,\"values\":[\"3.48\",\"3.0\",\"0.0\",\"0.0\",\"1.0\",\"0.0\"]}</td><td>24.52</td></tr><tr><td>{\"type\":\"1\",\"size\":null,\"indices\":null,\"values\":[\"2.24\",\"2.0\",\"0.0\",\"0.0\",\"1.0\",\"0.0\"]}</td><td>20.76</td></tr><tr><td>{\"type\":\"1\",\"size\":null,\"indices\":null,\"values\":[\"4.5\",\"4.0\",\"0.0\",\"0.0\",\"1.0\",\"0.0\"]}</td><td>31.71</td></tr><tr><td>{\"type\":\"1\",\"size\":null,\"indices\":null,\"values\":[\"1.61\",\"2.0\",\"1.0\",\"1.0\",\"0.0\",\"0.0\"]}</td><td>10.59</td></tr><tr><td>{\"type\":\"1\",\"size\":null,\"indices\":null,\"values\":[\"2.0\",\"2.0\",\"1.0\",\"1.0\",\"0.0\",\"0.0\"]}</td><td>10.63</td></tr><tr><td>{\"type\":\"1\",\"size\":null,\"indices\":null,\"values\":[\"10.0\",\"3.0\",\"0.0\",\"1.0\",\"0.0\",\"0.0\"]}</td><td>50.81</td></tr><tr><td>{\"type\":\"1\",\"size\":null,\"indices\":null,\"values\":[\"3.16\",\"2.0\",\"0.0\",\"1.0\",\"0.0\",\"0.0\"]}</td><td>15.81</td></tr><tr><td>{\"type\":\"1\",\"size\":null,\"indices\":null,\"values\":[\"5.15\",\"2.0\",\"0.0\",\"1.0\",\"1.0\",\"0.0\"]}</td><td>7.25</td></tr><tr><td>{\"type\":\"1\",\"size\":null,\"indices\":null,\"values\":[\"3.18\",\"2.0\",\"0.0\",\"1.0\",\"1.0\",\"0.0\"]}</td><td>31.85</td></tr><tr><td>{\"type\":\"1\",\"size\":null,\"indices\":null,\"values\":[\"4.0\",\"2.0\",\"0.0\",\"1.0\",\"1.0\",\"0.0\"]}</td><td>16.82</td></tr><tr><td>{\"type\":\"1\",\"size\":null,\"indices\":null,\"values\":[\"3.11\",\"2.0\",\"0.0\",\"1.0\",\"1.0\",\"0.0\"]}</td><td>32.9</td></tr><tr><td>{\"type\":\"1\",\"size\":null,\"indices\":null,\"values\":[\"2.0\",\"2.0\",\"0.0\",\"1.0\",\"1.0\",\"0.0\"]}</td><td>17.89</td></tr><tr><td>{\"type\":\"1\",\"size\":null,\"indices\":null,\"values\":[\"2.0\",\"2.0\",\"0.0\",\"1.0\",\"1.0\",\"0.0\"]}</td><td>14.48</td></tr><tr><td>{\"type\":\"1\",\"size\":null,\"indices\":null,\"values\":[\"4.0\",\"2.0\",\"1.0\",\"1.0\",\"1.0\",\"0.0\"]}</td><td>9.6</td></tr><tr><td>{\"type\":\"1\",\"size\":null,\"indices\":null,\"values\":[\"3.55\",\"2.0\",\"0.0\",\"1.0\",\"1.0\",\"0.0\"]}</td><td>34.63</td></tr><tr><td>{\"type\":\"1\",\"size\":null,\"indices\":null,\"values\":[\"3.68\",\"4.0\",\"0.0\",\"1.0\",\"1.0\",\"0.0\"]}</td><td>34.65</td></tr><tr><td>{\"type\":\"1\",\"size\":null,\"indices\":null,\"values\":[\"5.65\",\"2.0\",\"0.0\",\"1.0\",\"1.0\",\"0.0\"]}</td><td>23.33</td></tr><tr><td>{\"type\":\"1\",\"size\":null,\"indices\":null,\"values\":[\"3.5\",\"3.0\",\"0.0\",\"1.0\",\"1.0\",\"0.0\"]}</td><td>45.35</td></tr><tr><td>{\"type\":\"1\",\"size\":null,\"indices\":null,\"values\":[\"6.5\",\"4.0\",\"0.0\",\"1.0\",\"1.0\",\"0.0\"]}</td><td>23.17</td></tr><tr><td>{\"type\":\"1\",\"size\":null,\"indices\":null,\"values\":[\"3.0\",\"2.0\",\"0.0\",\"1.0\",\"1.0\",\"0.0\"]}</td><td>40.55</td></tr><tr><td>{\"type\":\"1\",\"size\":null,\"indices\":null,\"values\":[\"5.0\",\"5.0\",\"0.0\",\"0.0\",\"1.0\",\"0.0\"]}</td><td>20.69</td></tr><tr><td>{\"type\":\"1\",\"size\":null,\"indices\":null,\"values\":[\"3.5\",\"3.0\",\"1.0\",\"1.0\",\"1.0\",\"0.0\"]}</td><td>20.9</td></tr><tr><td>{\"type\":\"1\",\"size\":null,\"indices\":null,\"values\":[\"2.0\",\"5.0\",\"0.0\",\"1.0\",\"1.0\",\"0.0\"]}</td><td>30.46</td></tr><tr><td>{\"type\":\"1\",\"size\":null,\"indices\":null,\"values\":[\"3.5\",\"3.0\",\"1.0\",\"1.0\",\"1.0\",\"0.0\"]}</td><td>18.15</td></tr><tr><td>{\"type\":\"1\",\"size\":null,\"indices\":null,\"values\":[\"4.0\",\"3.0\",\"0.0\",\"1.0\",\"1.0\",\"0.0\"]}</td><td>23.1</td></tr><tr><td>{\"type\":\"1\",\"size\":null,\"indices\":null,\"values\":[\"1.5\",\"2.0\",\"0.0\",\"1.0\",\"1.0\",\"0.0\"]}</td><td>15.69</td></tr><tr><td>{\"type\":\"1\",\"size\":null,\"indices\":null,\"values\":[\"4.19\",\"2.0\",\"1.0\",\"1.0\",\"2.0\",\"1.0\"]}</td><td>19.81</td></tr><tr><td>{\"type\":\"1\",\"size\":null,\"indices\":null,\"values\":[\"2.56\",\"2.0\",\"0.0\",\"1.0\",\"2.0\",\"1.0\"]}</td><td>28.44</td></tr><tr><td>{\"type\":\"1\",\"size\":null,\"indices\":null,\"values\":[\"2.02\",\"2.0\",\"0.0\",\"1.0\",\"2.0\",\"1.0\"]}</td><td>15.48</td></tr><tr><td>{\"type\":\"1\",\"size\":null,\"indices\":null,\"values\":[\"4.0\",\"2.0\",\"0.0\",\"1.0\",\"2.0\",\"1.0\"]}</td><td>16.58</td></tr><tr><td>{\"type\":\"1\",\"size\":null,\"indices\":null,\"values\":[\"1.44\",\"2.0\",\"0.0\",\"0.0\",\"2.0\",\"1.0\"]}</td><td>7.56</td></tr><tr><td>{\"type\":\"1\",\"size\":null,\"indices\":null,\"values\":[\"2.0\",\"2.0\",\"0.0\",\"1.0\",\"2.0\",\"1.0\"]}</td><td>10.34</td></tr><tr><td>{\"type\":\"1\",\"size\":null,\"indices\":null,\"values\":[\"5.0\",\"4.0\",\"1.0\",\"1.0\",\"2.0\",\"1.0\"]}</td><td>43.11</td></tr><tr><td>{\"type\":\"1\",\"size\":null,\"indices\":null,\"values\":[\"2.0\",\"2.0\",\"1.0\",\"1.0\",\"2.0\",\"1.0\"]}</td><td>13.0</td></tr><tr><td>{\"type\":\"1\",\"size\":null,\"indices\":null,\"values\":[\"2.0\",\"2.0\",\"0.0\",\"1.0\",\"2.0\",\"1.0\"]}</td><td>13.51</td></tr><tr><td>{\"type\":\"1\",\"size\":null,\"indices\":null,\"values\":[\"4.0\",\"3.0\",\"0.0\",\"1.0\",\"2.0\",\"1.0\"]}</td><td>18.71</td></tr><tr><td>{\"type\":\"1\",\"size\":null,\"indices\":null,\"values\":[\"2.01\",\"2.0\",\"1.0\",\"1.0\",\"2.0\",\"1.0\"]}</td><td>12.74</td></tr><tr><td>{\"type\":\"1\",\"size\":null,\"indices\":null,\"values\":[\"2.0\",\"2.0\",\"1.0\",\"1.0\",\"2.0\",\"1.0\"]}</td><td>13.0</td></tr><tr><td>{\"type\":\"1\",\"size\":null,\"indices\":null,\"values\":[\"2.5\",\"2.0\",\"1.0\",\"1.0\",\"2.0\",\"1.0\"]}</td><td>16.4</td></tr><tr><td>{\"type\":\"1\",\"size\":null,\"indices\":null,\"values\":[\"4.0\",\"4.0\",\"0.0\",\"1.0\",\"2.0\",\"1.0\"]}</td><td>20.53</td></tr><tr><td>{\"type\":\"1\",\"size\":null,\"indices\":null,\"values\":[\"3.23\",\"3.0\",\"1.0\",\"1.0\",\"2.0\",\"1.0\"]}</td><td>16.47</td></tr><tr><td>{\"type\":\"1\",\"size\":null,\"indices\":null,\"values\":[\"3.41\",\"3.0\",\"0.0\",\"1.0\",\"0.0\",\"0.0\"]}</td><td>26.59</td></tr><tr><td>{\"type\":\"1\",\"size\":null,\"indices\":null,\"values\":[\"3.0\",\"4.0\",\"0.0\",\"1.0\",\"0.0\",\"0.0\"]}</td><td>38.73</td></tr><tr><td>{\"type\":\"1\",\"size\":null,\"indices\":null,\"values\":[\"2.03\",\"2.0\",\"0.0\",\"1.0\",\"0.0\",\"0.0\"]}</td><td>24.27</td></tr><tr><td>{\"type\":\"1\",\"size\":null,\"indices\":null,\"values\":[\"2.23\",\"2.0\",\"1.0\",\"1.0\",\"0.0\",\"0.0\"]}</td><td>12.76</td></tr><tr><td>{\"type\":\"1\",\"size\":null,\"indices\":null,\"values\":[\"2.0\",\"3.0\",\"0.0\",\"1.0\",\"0.0\",\"0.0\"]}</td><td>30.06</td></tr><tr><td>{\"type\":\"1\",\"size\":null,\"indices\":null,\"values\":[\"5.16\",\"4.0\",\"0.0\",\"1.0\",\"0.0\",\"0.0\"]}</td><td>25.89</td></tr><tr><td>{\"type\":\"0\",\"size\":\"6\",\"indices\":[\"0\",\"1\"],\"values\":[\"9.0\",\"4.0\"]}</td><td>48.33</td></tr><tr><td>{\"type\":\"1\",\"size\":null,\"indices\":null,\"values\":[\"2.5\",\"2.0\",\"1.0\",\"1.0\",\"0.0\",\"0.0\"]}</td><td>13.27</td></tr><tr><td>{\"type\":\"1\",\"size\":null,\"indices\":null,\"values\":[\"6.5\",\"3.0\",\"1.0\",\"1.0\",\"0.0\",\"0.0\"]}</td><td>28.17</td></tr><tr><td>{\"type\":\"1\",\"size\":null,\"indices\":null,\"values\":[\"1.1\",\"2.0\",\"1.0\",\"1.0\",\"0.0\",\"0.0\"]}</td><td>12.9</td></tr><tr><td>{\"type\":\"1\",\"size\":null,\"indices\":null,\"values\":[\"3.0\",\"5.0\",\"0.0\",\"1.0\",\"0.0\",\"0.0\"]}</td><td>28.15</td></tr><tr><td>{\"type\":\"1\",\"size\":null,\"indices\":null,\"values\":[\"1.5\",\"2.0\",\"0.0\",\"1.0\",\"0.0\",\"0.0\"]}</td><td>11.59</td></tr><tr><td>{\"type\":\"1\",\"size\":null,\"indices\":null,\"values\":[\"1.44\",\"2.0\",\"0.0\",\"1.0\",\"0.0\",\"0.0\"]}</td><td>7.74</td></tr><tr><td>{\"type\":\"1\",\"size\":null,\"indices\":null,\"values\":[\"3.09\",\"4.0\",\"1.0\",\"1.0\",\"0.0\",\"0.0\"]}</td><td>30.14</td></tr><tr><td>{\"type\":\"1\",\"size\":null,\"indices\":null,\"values\":[\"2.2\",\"2.0\",\"0.0\",\"1.0\",\"3.0\",\"1.0\"]}</td><td>12.16</td></tr><tr><td>{\"type\":\"1\",\"size\":null,\"indices\":null,\"values\":[\"3.48\",\"2.0\",\"1.0\",\"1.0\",\"3.0\",\"1.0\"]}</td><td>13.42</td></tr><tr><td>{\"type\":\"1\",\"size\":null,\"indices\":null,\"values\":[\"1.92\",\"1.0\",\"0.0\",\"1.0\",\"3.0\",\"1.0\"]}</td><td>8.58</td></tr><tr><td>{\"type\":\"1\",\"size\":null,\"indices\":null,\"values\":[\"3.0\",\"3.0\",\"1.0\",\"0.0\",\"3.0\",\"1.0\"]}</td><td>15.98</td></tr><tr><td>{\"type\":\"1\",\"size\":null,\"indices\":null,\"values\":[\"1.58\",\"2.0\",\"0.0\",\"1.0\",\"3.0\",\"1.0\"]}</td><td>13.42</td></tr><tr><td>{\"type\":\"1\",\"size\":null,\"indices\":null,\"values\":[\"2.5\",\"2.0\",\"1.0\",\"1.0\",\"3.0\",\"1.0\"]}</td><td>16.27</td></tr><tr><td>{\"type\":\"1\",\"size\":null,\"indices\":null,\"values\":[\"2.0\",\"2.0\",\"1.0\",\"1.0\",\"3.0\",\"1.0\"]}</td><td>10.09</td></tr><tr><td>{\"type\":\"0\",\"size\":\"6\",\"indices\":[\"0\",\"1\"],\"values\":[\"3.0\",\"4.0\"]}</td><td>20.45</td></tr><tr><td>{\"type\":\"0\",\"size\":\"6\",\"indices\":[\"0\",\"1\"],\"values\":[\"2.72\",\"2.0\"]}</td><td>13.28</td></tr><tr><td>{\"type\":\"1\",\"size\":null,\"indices\":null,\"values\":[\"2.88\",\"2.0\",\"1.0\",\"1.0\",\"0.0\",\"0.0\"]}</td><td>22.12</td></tr><tr><td>{\"type\":\"1\",\"size\":null,\"indices\":null,\"values\":[\"2.0\",\"4.0\",\"0.0\",\"1.0\",\"0.0\",\"0.0\"]}</td><td>24.01</td></tr><tr><td>{\"type\":\"1\",\"size\":null,\"indices\":null,\"values\":[\"3.0\",\"3.0\",\"0.0\",\"1.0\",\"0.0\",\"0.0\"]}</td><td>15.69</td></tr><tr><td>{\"type\":\"0\",\"size\":\"6\",\"indices\":[\"0\",\"1\"],\"values\":[\"3.39\",\"2.0\"]}</td><td>11.61</td></tr><tr><td>{\"type\":\"0\",\"size\":\"6\",\"indices\":[\"0\",\"1\"],\"values\":[\"1.47\",\"2.0\"]}</td><td>10.77</td></tr><tr><td>{\"type\":\"1\",\"size\":null,\"indices\":null,\"values\":[\"3.0\",\"2.0\",\"0.0\",\"1.0\",\"0.0\",\"0.0\"]}</td><td>15.53</td></tr><tr><td>{\"type\":\"0\",\"size\":\"6\",\"indices\":[\"0\",\"1\"],\"values\":[\"1.25\",\"2.0\"]}</td><td>10.07</td></tr><tr><td>{\"type\":\"1\",\"size\":null,\"indices\":null,\"values\":[\"1.0\",\"2.0\",\"0.0\",\"1.0\",\"0.0\",\"0.0\"]}</td><td>12.6</td></tr><tr><td>{\"type\":\"1\",\"size\":null,\"indices\":null,\"values\":[\"1.17\",\"2.0\",\"0.0\",\"1.0\",\"0.0\",\"0.0\"]}</td><td>32.83</td></tr><tr><td>{\"type\":\"1\",\"size\":null,\"indices\":null,\"values\":[\"4.67\",\"3.0\",\"1.0\",\"0.0\",\"0.0\",\"0.0\"]}</td><td>35.83</td></tr><tr><td>{\"type\":\"0\",\"size\":\"6\",\"indices\":[\"0\",\"1\"],\"values\":[\"5.92\",\"3.0\"]}</td><td>29.03</td></tr><tr><td>{\"type\":\"1\",\"size\":null,\"indices\":null,\"values\":[\"2.0\",\"2.0\",\"1.0\",\"1.0\",\"0.0\",\"0.0\"]}</td><td>27.18</td></tr><tr><td>{\"type\":\"1\",\"size\":null,\"indices\":null,\"values\":[\"2.0\",\"2.0\",\"0.0\",\"1.0\",\"0.0\",\"0.0\"]}</td><td>22.67</td></tr><tr><td>{\"type\":\"0\",\"size\":\"6\",\"indices\":[\"0\",\"1\"],\"values\":[\"1.75\",\"2.0\"]}</td><td>17.82</td></tr><tr><td>{\"type\":\"1\",\"size\":null,\"indices\":null,\"values\":[\"3.0\",\"2.0\",\"1.0\",\"0.0\",\"2.0\",\"0.0\"]}</td><td>18.78</td></tr></tbody></table></div>"
      ]
     },
     "metadata": {
      "application/vnd.databricks.v1+output": {
       "addedWidgets": {},
       "aggData": [],
       "aggError": "",
       "aggOverflow": false,
       "aggSchema": [],
       "aggSeriesLimitReached": false,
       "aggType": "",
       "arguments": {},
       "columnCustomDisplayInfos": {},
       "data": [
        [
         "{\"type\":\"1\",\"size\":null,\"indices\":null,\"values\":[\"1.01\",\"2.0\",\"1.0\",\"0.0\",\"1.0\",\"0.0\"]}",
         16.99
        ],
        [
         "{\"type\":\"1\",\"size\":null,\"indices\":null,\"values\":[\"1.66\",\"3.0\",\"0.0\",\"0.0\",\"1.0\",\"0.0\"]}",
         10.34
        ],
        [
         "{\"type\":\"1\",\"size\":null,\"indices\":null,\"values\":[\"3.5\",\"3.0\",\"0.0\",\"0.0\",\"1.0\",\"0.0\"]}",
         21.01
        ],
        [
         "{\"type\":\"1\",\"size\":null,\"indices\":null,\"values\":[\"3.31\",\"2.0\",\"0.0\",\"0.0\",\"1.0\",\"0.0\"]}",
         23.68
        ],
        [
         "{\"type\":\"1\",\"size\":null,\"indices\":null,\"values\":[\"3.61\",\"4.0\",\"1.0\",\"0.0\",\"1.0\",\"0.0\"]}",
         24.59
        ],
        [
         "{\"type\":\"1\",\"size\":null,\"indices\":null,\"values\":[\"4.71\",\"4.0\",\"0.0\",\"0.0\",\"1.0\",\"0.0\"]}",
         25.29
        ],
        [
         "{\"type\":\"1\",\"size\":null,\"indices\":null,\"values\":[\"2.0\",\"2.0\",\"0.0\",\"0.0\",\"1.0\",\"0.0\"]}",
         8.77
        ],
        [
         "{\"type\":\"1\",\"size\":null,\"indices\":null,\"values\":[\"3.12\",\"4.0\",\"0.0\",\"0.0\",\"1.0\",\"0.0\"]}",
         26.88
        ],
        [
         "{\"type\":\"1\",\"size\":null,\"indices\":null,\"values\":[\"1.96\",\"2.0\",\"0.0\",\"0.0\",\"1.0\",\"0.0\"]}",
         15.04
        ],
        [
         "{\"type\":\"1\",\"size\":null,\"indices\":null,\"values\":[\"3.23\",\"2.0\",\"0.0\",\"0.0\",\"1.0\",\"0.0\"]}",
         14.78
        ],
        [
         "{\"type\":\"1\",\"size\":null,\"indices\":null,\"values\":[\"1.71\",\"2.0\",\"0.0\",\"0.0\",\"1.0\",\"0.0\"]}",
         10.27
        ],
        [
         "{\"type\":\"1\",\"size\":null,\"indices\":null,\"values\":[\"5.0\",\"4.0\",\"1.0\",\"0.0\",\"1.0\",\"0.0\"]}",
         35.26
        ],
        [
         "{\"type\":\"1\",\"size\":null,\"indices\":null,\"values\":[\"1.57\",\"2.0\",\"0.0\",\"0.0\",\"1.0\",\"0.0\"]}",
         15.42
        ],
        [
         "{\"type\":\"1\",\"size\":null,\"indices\":null,\"values\":[\"3.0\",\"4.0\",\"0.0\",\"0.0\",\"1.0\",\"0.0\"]}",
         18.43
        ],
        [
         "{\"type\":\"1\",\"size\":null,\"indices\":null,\"values\":[\"3.02\",\"2.0\",\"1.0\",\"0.0\",\"1.0\",\"0.0\"]}",
         14.83
        ],
        [
         "{\"type\":\"1\",\"size\":null,\"indices\":null,\"values\":[\"3.92\",\"2.0\",\"0.0\",\"0.0\",\"1.0\",\"0.0\"]}",
         21.58
        ],
        [
         "{\"type\":\"1\",\"size\":null,\"indices\":null,\"values\":[\"1.67\",\"3.0\",\"1.0\",\"0.0\",\"1.0\",\"0.0\"]}",
         10.33
        ],
        [
         "{\"type\":\"1\",\"size\":null,\"indices\":null,\"values\":[\"3.71\",\"3.0\",\"0.0\",\"0.0\",\"1.0\",\"0.0\"]}",
         16.29
        ],
        [
         "{\"type\":\"1\",\"size\":null,\"indices\":null,\"values\":[\"3.5\",\"3.0\",\"1.0\",\"0.0\",\"1.0\",\"0.0\"]}",
         16.97
        ],
        [
         "{\"type\":\"0\",\"size\":\"6\",\"indices\":[\"0\",\"1\"],\"values\":[\"3.35\",\"3.0\"]}",
         20.65
        ],
        [
         "{\"type\":\"0\",\"size\":\"6\",\"indices\":[\"0\",\"1\"],\"values\":[\"4.08\",\"2.0\"]}",
         17.92
        ],
        [
         "{\"type\":\"1\",\"size\":null,\"indices\":null,\"values\":[\"2.75\",\"2.0\",\"1.0\",\"0.0\",\"0.0\",\"0.0\"]}",
         20.29
        ],
        [
         "{\"type\":\"1\",\"size\":null,\"indices\":null,\"values\":[\"2.23\",\"2.0\",\"1.0\",\"0.0\",\"0.0\",\"0.0\"]}",
         15.77
        ],
        [
         "{\"type\":\"0\",\"size\":\"6\",\"indices\":[\"0\",\"1\"],\"values\":[\"7.58\",\"4.0\"]}",
         39.42
        ],
        [
         "{\"type\":\"0\",\"size\":\"6\",\"indices\":[\"0\",\"1\"],\"values\":[\"3.18\",\"2.0\"]}",
         19.82
        ],
        [
         "{\"type\":\"0\",\"size\":\"6\",\"indices\":[\"0\",\"1\"],\"values\":[\"2.34\",\"4.0\"]}",
         17.81
        ],
        [
         "{\"type\":\"0\",\"size\":\"6\",\"indices\":[\"0\",\"1\"],\"values\":[\"2.0\",\"2.0\"]}",
         13.37
        ],
        [
         "{\"type\":\"0\",\"size\":\"6\",\"indices\":[\"0\",\"1\"],\"values\":[\"2.0\",\"2.0\"]}",
         12.69
        ],
        [
         "{\"type\":\"0\",\"size\":\"6\",\"indices\":[\"0\",\"1\"],\"values\":[\"4.3\",\"2.0\"]}",
         21.7
        ],
        [
         "{\"type\":\"1\",\"size\":null,\"indices\":null,\"values\":[\"3.0\",\"2.0\",\"1.0\",\"0.0\",\"0.0\",\"0.0\"]}",
         19.65
        ],
        [
         "{\"type\":\"0\",\"size\":\"6\",\"indices\":[\"0\",\"1\"],\"values\":[\"1.45\",\"2.0\"]}",
         9.55
        ],
        [
         "{\"type\":\"0\",\"size\":\"6\",\"indices\":[\"0\",\"1\"],\"values\":[\"2.5\",\"4.0\"]}",
         18.35
        ],
        [
         "{\"type\":\"1\",\"size\":null,\"indices\":null,\"values\":[\"3.0\",\"2.0\",\"1.0\",\"0.0\",\"0.0\",\"0.0\"]}",
         15.06
        ],
        [
         "{\"type\":\"1\",\"size\":null,\"indices\":null,\"values\":[\"2.45\",\"4.0\",\"1.0\",\"0.0\",\"0.0\",\"0.0\"]}",
         20.69
        ],
        [
         "{\"type\":\"0\",\"size\":\"6\",\"indices\":[\"0\",\"1\"],\"values\":[\"3.27\",\"2.0\"]}",
         17.78
        ],
        [
         "{\"type\":\"0\",\"size\":\"6\",\"indices\":[\"0\",\"1\"],\"values\":[\"3.6\",\"3.0\"]}",
         24.06
        ],
        [
         "{\"type\":\"0\",\"size\":\"6\",\"indices\":[\"0\",\"1\"],\"values\":[\"2.0\",\"3.0\"]}",
         16.31
        ],
        [
         "{\"type\":\"1\",\"size\":null,\"indices\":null,\"values\":[\"3.07\",\"3.0\",\"1.0\",\"0.0\",\"0.0\",\"0.0\"]}",
         16.93
        ],
        [
         "{\"type\":\"0\",\"size\":\"6\",\"indices\":[\"0\",\"1\"],\"values\":[\"2.31\",\"3.0\"]}",
         18.69
        ],
        [
         "{\"type\":\"0\",\"size\":\"6\",\"indices\":[\"0\",\"1\"],\"values\":[\"5.0\",\"3.0\"]}",
         31.27
        ],
        [
         "{\"type\":\"0\",\"size\":\"6\",\"indices\":[\"0\",\"1\"],\"values\":[\"2.24\",\"3.0\"]}",
         16.04
        ],
        [
         "{\"type\":\"1\",\"size\":null,\"indices\":null,\"values\":[\"2.54\",\"2.0\",\"0.0\",\"0.0\",\"1.0\",\"0.0\"]}",
         17.46
        ],
        [
         "{\"type\":\"1\",\"size\":null,\"indices\":null,\"values\":[\"3.06\",\"2.0\",\"0.0\",\"0.0\",\"1.0\",\"0.0\"]}",
         13.94
        ],
        [
         "{\"type\":\"1\",\"size\":null,\"indices\":null,\"values\":[\"1.32\",\"2.0\",\"0.0\",\"0.0\",\"1.0\",\"0.0\"]}",
         9.68
        ],
        [
         "{\"type\":\"1\",\"size\":null,\"indices\":null,\"values\":[\"5.6\",\"4.0\",\"0.0\",\"0.0\",\"1.0\",\"0.0\"]}",
         30.4
        ],
        [
         "{\"type\":\"1\",\"size\":null,\"indices\":null,\"values\":[\"3.0\",\"2.0\",\"0.0\",\"0.0\",\"1.0\",\"0.0\"]}",
         18.29
        ],
        [
         "{\"type\":\"1\",\"size\":null,\"indices\":null,\"values\":[\"5.0\",\"2.0\",\"0.0\",\"0.0\",\"1.0\",\"0.0\"]}",
         22.23
        ],
        [
         "{\"type\":\"1\",\"size\":null,\"indices\":null,\"values\":[\"6.0\",\"4.0\",\"0.0\",\"0.0\",\"1.0\",\"0.0\"]}",
         32.4
        ],
        [
         "{\"type\":\"1\",\"size\":null,\"indices\":null,\"values\":[\"2.05\",\"3.0\",\"0.0\",\"0.0\",\"1.0\",\"0.0\"]}",
         28.55
        ],
        [
         "{\"type\":\"1\",\"size\":null,\"indices\":null,\"values\":[\"3.0\",\"2.0\",\"0.0\",\"0.0\",\"1.0\",\"0.0\"]}",
         18.04
        ],
        [
         "{\"type\":\"1\",\"size\":null,\"indices\":null,\"values\":[\"2.5\",\"2.0\",\"0.0\",\"0.0\",\"1.0\",\"0.0\"]}",
         12.54
        ],
        [
         "{\"type\":\"1\",\"size\":null,\"indices\":null,\"values\":[\"2.6\",\"2.0\",\"1.0\",\"0.0\",\"1.0\",\"0.0\"]}",
         10.29
        ],
        [
         "{\"type\":\"1\",\"size\":null,\"indices\":null,\"values\":[\"5.2\",\"4.0\",\"1.0\",\"0.0\",\"1.0\",\"0.0\"]}",
         34.81
        ],
        [
         "{\"type\":\"1\",\"size\":null,\"indices\":null,\"values\":[\"1.56\",\"2.0\",\"0.0\",\"0.0\",\"1.0\",\"0.0\"]}",
         9.94
        ],
        [
         "{\"type\":\"1\",\"size\":null,\"indices\":null,\"values\":[\"4.34\",\"4.0\",\"0.0\",\"0.0\",\"1.0\",\"0.0\"]}",
         25.56
        ],
        [
         "{\"type\":\"1\",\"size\":null,\"indices\":null,\"values\":[\"3.51\",\"2.0\",\"0.0\",\"0.0\",\"1.0\",\"0.0\"]}",
         19.49
        ],
        [
         "{\"type\":\"1\",\"size\":null,\"indices\":null,\"values\":[\"3.0\",\"4.0\",\"0.0\",\"1.0\",\"0.0\",\"0.0\"]}",
         38.01
        ],
        [
         "{\"type\":\"1\",\"size\":null,\"indices\":null,\"values\":[\"1.5\",\"2.0\",\"1.0\",\"0.0\",\"0.0\",\"0.0\"]}",
         26.41
        ],
        [
         "{\"type\":\"1\",\"size\":null,\"indices\":null,\"values\":[\"1.76\",\"2.0\",\"0.0\",\"1.0\",\"0.0\",\"0.0\"]}",
         11.24
        ],
        [
         "{\"type\":\"0\",\"size\":\"6\",\"indices\":[\"0\",\"1\"],\"values\":[\"6.73\",\"4.0\"]}",
         48.27
        ],
        [
         "{\"type\":\"1\",\"size\":null,\"indices\":null,\"values\":[\"3.21\",\"2.0\",\"0.0\",\"1.0\",\"0.0\",\"0.0\"]}",
         20.29
        ],
        [
         "{\"type\":\"1\",\"size\":null,\"indices\":null,\"values\":[\"2.0\",\"2.0\",\"0.0\",\"1.0\",\"0.0\",\"0.0\"]}",
         13.81
        ],
        [
         "{\"type\":\"1\",\"size\":null,\"indices\":null,\"values\":[\"1.98\",\"2.0\",\"0.0\",\"1.0\",\"0.0\",\"0.0\"]}",
         11.02
        ],
        [
         "{\"type\":\"1\",\"size\":null,\"indices\":null,\"values\":[\"3.76\",\"4.0\",\"0.0\",\"1.0\",\"0.0\",\"0.0\"]}",
         18.29
        ],
        [
         "{\"type\":\"0\",\"size\":\"6\",\"indices\":[\"0\",\"1\"],\"values\":[\"2.64\",\"3.0\"]}",
         17.59
        ],
        [
         "{\"type\":\"0\",\"size\":\"6\",\"indices\":[\"0\",\"1\"],\"values\":[\"3.15\",\"3.0\"]}",
         20.08
        ],
        [
         "{\"type\":\"1\",\"size\":null,\"indices\":null,\"values\":[\"2.47\",\"2.0\",\"1.0\",\"0.0\",\"0.0\",\"0.0\"]}",
         16.45
        ],
        [
         "{\"type\":\"1\",\"size\":null,\"indices\":null,\"values\":[\"1.0\",\"1.0\",\"1.0\",\"1.0\",\"0.0\",\"0.0\"]}",
         3.07
        ],
        [
         "{\"type\":\"0\",\"size\":\"6\",\"indices\":[\"0\",\"1\"],\"values\":[\"2.01\",\"2.0\"]}",
         20.23
        ],
        [
         "{\"type\":\"1\",\"size\":null,\"indices\":null,\"values\":[\"2.09\",\"2.0\",\"0.0\",\"1.0\",\"0.0\",\"0.0\"]}",
         15.01
        ],
        [
         "{\"type\":\"0\",\"size\":\"6\",\"indices\":[\"0\",\"1\"],\"values\":[\"1.97\",\"2.0\"]}",
         12.02
        ],
        [
         "{\"type\":\"1\",\"size\":null,\"indices\":null,\"values\":[\"3.0\",\"3.0\",\"1.0\",\"0.0\",\"0.0\",\"0.0\"]}",
         17.07
        ],
        [
         "{\"type\":\"1\",\"size\":null,\"indices\":null,\"values\":[\"3.14\",\"2.0\",\"1.0\",\"1.0\",\"0.0\",\"0.0\"]}",
         26.86
        ],
        [
         "{\"type\":\"1\",\"size\":null,\"indices\":null,\"values\":[\"5.0\",\"2.0\",\"1.0\",\"1.0\",\"0.0\",\"0.0\"]}",
         25.28
        ],
        [
         "{\"type\":\"1\",\"size\":null,\"indices\":null,\"values\":[\"2.2\",\"2.0\",\"1.0\",\"0.0\",\"0.0\",\"0.0\"]}",
         14.73
        ],
        [
         "{\"type\":\"0\",\"size\":\"6\",\"indices\":[\"0\",\"1\"],\"values\":[\"1.25\",\"2.0\"]}",
         10.51
        ],
        [
         "{\"type\":\"1\",\"size\":null,\"indices\":null,\"values\":[\"3.08\",\"2.0\",\"0.0\",\"1.0\",\"0.0\",\"0.0\"]}",
         17.92
        ],
        [
         "{\"type\":\"1\",\"size\":null,\"indices\":null,\"values\":[\"4.0\",\"4.0\",\"0.0\",\"0.0\",\"2.0\",\"1.0\"]}",
         27.2
        ],
        [
         "{\"type\":\"1\",\"size\":null,\"indices\":null,\"values\":[\"3.0\",\"2.0\",\"0.0\",\"0.0\",\"2.0\",\"1.0\"]}",
         22.76
        ],
        [
         "{\"type\":\"1\",\"size\":null,\"indices\":null,\"values\":[\"2.71\",\"2.0\",\"0.0\",\"0.0\",\"2.0\",\"1.0\"]}",
         17.29
        ],
        [
         "{\"type\":\"1\",\"size\":null,\"indices\":null,\"values\":[\"3.0\",\"2.0\",\"0.0\",\"1.0\",\"2.0\",\"1.0\"]}",
         19.44
        ],
        [
         "{\"type\":\"1\",\"size\":null,\"indices\":null,\"values\":[\"3.4\",\"2.0\",\"0.0\",\"0.0\",\"2.0\",\"1.0\"]}",
         16.66
        ],
        [
         "{\"type\":\"1\",\"size\":null,\"indices\":null,\"values\":[\"1.83\",\"1.0\",\"1.0\",\"0.0\",\"2.0\",\"1.0\"]}",
         10.07
        ],
        [
         "{\"type\":\"1\",\"size\":null,\"indices\":null,\"values\":[\"5.0\",\"2.0\",\"0.0\",\"1.0\",\"2.0\",\"1.0\"]}",
         32.68
        ],
        [
         "{\"type\":\"1\",\"size\":null,\"indices\":null,\"values\":[\"2.03\",\"2.0\",\"0.0\",\"0.0\",\"2.0\",\"1.0\"]}",
         15.98
        ],
        [
         "{\"type\":\"1\",\"size\":null,\"indices\":null,\"values\":[\"5.17\",\"4.0\",\"1.0\",\"0.0\",\"2.0\",\"1.0\"]}",
         34.83
        ],
        [
         "{\"type\":\"1\",\"size\":null,\"indices\":null,\"values\":[\"2.0\",\"2.0\",\"0.0\",\"0.0\",\"2.0\",\"1.0\"]}",
         13.03
        ],
        [
         "{\"type\":\"1\",\"size\":null,\"indices\":null,\"values\":[\"4.0\",\"2.0\",\"0.0\",\"0.0\",\"2.0\",\"1.0\"]}",
         18.28
        ],
        [
         "{\"type\":\"1\",\"size\":null,\"indices\":null,\"values\":[\"5.85\",\"2.0\",\"0.0\",\"0.0\",\"2.0\",\"1.0\"]}",
         24.71
        ],
        [
         "{\"type\":\"1\",\"size\":null,\"indices\":null,\"values\":[\"3.0\",\"2.0\",\"0.0\",\"0.0\",\"2.0\",\"1.0\"]}",
         21.16
        ],
        [
         "{\"type\":\"1\",\"size\":null,\"indices\":null,\"values\":[\"3.0\",\"2.0\",\"0.0\",\"1.0\",\"3.0\",\"0.0\"]}",
         28.97
        ],
        [
         "{\"type\":\"1\",\"size\":null,\"indices\":null,\"values\":[\"3.5\",\"2.0\",\"0.0\",\"0.0\",\"3.0\",\"0.0\"]}",
         22.49
        ],
        [
         "{\"type\":\"1\",\"size\":null,\"indices\":null,\"values\":[\"1.0\",\"2.0\",\"1.0\",\"1.0\",\"3.0\",\"0.0\"]}",
         5.75
        ],
        [
         "{\"type\":\"1\",\"size\":null,\"indices\":null,\"values\":[\"4.3\",\"2.0\",\"1.0\",\"1.0\",\"3.0\",\"0.0\"]}",
         16.32
        ],
        [
         "{\"type\":\"1\",\"size\":null,\"indices\":null,\"values\":[\"3.25\",\"2.0\",\"1.0\",\"0.0\",\"3.0\",\"0.0\"]}",
         22.75
        ],
        [
         "{\"type\":\"1\",\"size\":null,\"indices\":null,\"values\":[\"4.73\",\"4.0\",\"0.0\",\"1.0\",\"3.0\",\"0.0\"]}",
         40.17
        ],
        [
         "{\"type\":\"1\",\"size\":null,\"indices\":null,\"values\":[\"4.0\",\"2.0\",\"0.0\",\"1.0\",\"3.0\",\"0.0\"]}",
         27.28
        ],
        [
         "{\"type\":\"1\",\"size\":null,\"indices\":null,\"values\":[\"1.5\",\"2.0\",\"0.0\",\"1.0\",\"3.0\",\"0.0\"]}",
         12.03
        ],
        [
         "{\"type\":\"1\",\"size\":null,\"indices\":null,\"values\":[\"3.0\",\"2.0\",\"0.0\",\"1.0\",\"3.0\",\"0.0\"]}",
         21.01
        ],
        [
         "{\"type\":\"1\",\"size\":null,\"indices\":null,\"values\":[\"1.5\",\"2.0\",\"0.0\",\"0.0\",\"3.0\",\"0.0\"]}",
         12.46
        ],
        [
         "{\"type\":\"1\",\"size\":null,\"indices\":null,\"values\":[\"2.5\",\"2.0\",\"1.0\",\"1.0\",\"3.0\",\"0.0\"]}",
         11.35
        ],
        [
         "{\"type\":\"1\",\"size\":null,\"indices\":null,\"values\":[\"3.0\",\"2.0\",\"1.0\",\"1.0\",\"3.0\",\"0.0\"]}",
         15.38
        ],
        [
         "{\"type\":\"1\",\"size\":null,\"indices\":null,\"values\":[\"2.5\",\"3.0\",\"1.0\",\"1.0\",\"0.0\",\"0.0\"]}",
         44.3
        ],
        [
         "{\"type\":\"1\",\"size\":null,\"indices\":null,\"values\":[\"3.48\",\"2.0\",\"1.0\",\"1.0\",\"0.0\",\"0.0\"]}",
         22.42
        ],
        [
         "{\"type\":\"1\",\"size\":null,\"indices\":null,\"values\":[\"4.08\",\"2.0\",\"1.0\",\"0.0\",\"0.0\",\"0.0\"]}",
         20.92
        ],
        [
         "{\"type\":\"1\",\"size\":null,\"indices\":null,\"values\":[\"1.64\",\"2.0\",\"0.0\",\"1.0\",\"0.0\",\"0.0\"]}",
         15.36
        ],
        [
         "{\"type\":\"1\",\"size\":null,\"indices\":null,\"values\":[\"4.06\",\"2.0\",\"0.0\",\"1.0\",\"0.0\",\"0.0\"]}",
         20.49
        ],
        [
         "{\"type\":\"1\",\"size\":null,\"indices\":null,\"values\":[\"4.29\",\"2.0\",\"0.0\",\"1.0\",\"0.0\",\"0.0\"]}",
         25.21
        ],
        [
         "{\"type\":\"0\",\"size\":\"6\",\"indices\":[\"0\",\"1\"],\"values\":[\"3.76\",\"2.0\"]}",
         18.24
        ],
        [
         "{\"type\":\"1\",\"size\":null,\"indices\":null,\"values\":[\"4.0\",\"2.0\",\"1.0\",\"1.0\",\"0.0\",\"0.0\"]}",
         14.31
        ],
        [
         "{\"type\":\"0\",\"size\":\"6\",\"indices\":[\"0\",\"1\"],\"values\":[\"3.0\",\"2.0\"]}",
         14.0
        ],
        [
         "{\"type\":\"1\",\"size\":null,\"indices\":null,\"values\":[\"1.0\",\"1.0\",\"1.0\",\"0.0\",\"0.0\",\"0.0\"]}",
         7.25
        ],
        [
         "{\"type\":\"1\",\"size\":null,\"indices\":null,\"values\":[\"4.0\",\"3.0\",\"0.0\",\"0.0\",\"1.0\",\"0.0\"]}",
         38.07
        ],
        [
         "{\"type\":\"1\",\"size\":null,\"indices\":null,\"values\":[\"2.55\",\"2.0\",\"0.0\",\"0.0\",\"1.0\",\"0.0\"]}",
         23.95
        ],
        [
         "{\"type\":\"1\",\"size\":null,\"indices\":null,\"values\":[\"4.0\",\"3.0\",\"1.0\",\"0.0\",\"1.0\",\"0.0\"]}",
         25.71
        ],
        [
         "{\"type\":\"1\",\"size\":null,\"indices\":null,\"values\":[\"3.5\",\"2.0\",\"1.0\",\"0.0\",\"1.0\",\"0.0\"]}",
         17.31
        ],
        [
         "{\"type\":\"1\",\"size\":null,\"indices\":null,\"values\":[\"5.07\",\"4.0\",\"0.0\",\"0.0\",\"1.0\",\"0.0\"]}",
         29.93
        ],
        [
         "{\"type\":\"1\",\"size\":null,\"indices\":null,\"values\":[\"1.5\",\"2.0\",\"1.0\",\"0.0\",\"2.0\",\"1.0\"]}",
         10.65
        ],
        [
         "{\"type\":\"1\",\"size\":null,\"indices\":null,\"values\":[\"1.8\",\"2.0\",\"1.0\",\"0.0\",\"2.0\",\"1.0\"]}",
         12.43
        ],
        [
         "{\"type\":\"1\",\"size\":null,\"indices\":null,\"values\":[\"2.92\",\"4.0\",\"1.0\",\"0.0\",\"2.0\",\"1.0\"]}",
         24.08
        ],
        [
         "{\"type\":\"1\",\"size\":null,\"indices\":null,\"values\":[\"2.31\",\"2.0\",\"0.0\",\"0.0\",\"2.0\",\"1.0\"]}",
         11.69
        ],
        [
         "{\"type\":\"1\",\"size\":null,\"indices\":null,\"values\":[\"1.68\",\"2.0\",\"1.0\",\"0.0\",\"2.0\",\"1.0\"]}",
         13.42
        ],
        [
         "{\"type\":\"1\",\"size\":null,\"indices\":null,\"values\":[\"2.5\",\"2.0\",\"0.0\",\"0.0\",\"2.0\",\"1.0\"]}",
         14.26
        ],
        [
         "{\"type\":\"1\",\"size\":null,\"indices\":null,\"values\":[\"2.0\",\"2.0\",\"0.0\",\"0.0\",\"2.0\",\"1.0\"]}",
         15.95
        ],
        [
         "{\"type\":\"1\",\"size\":null,\"indices\":null,\"values\":[\"2.52\",\"2.0\",\"1.0\",\"0.0\",\"2.0\",\"1.0\"]}",
         12.48
        ],
        [
         "{\"type\":\"1\",\"size\":null,\"indices\":null,\"values\":[\"4.2\",\"6.0\",\"1.0\",\"0.0\",\"2.0\",\"1.0\"]}",
         29.8
        ],
        [
         "{\"type\":\"1\",\"size\":null,\"indices\":null,\"values\":[\"1.48\",\"2.0\",\"0.0\",\"0.0\",\"2.0\",\"1.0\"]}",
         8.52
        ],
        [
         "{\"type\":\"1\",\"size\":null,\"indices\":null,\"values\":[\"2.0\",\"2.0\",\"1.0\",\"0.0\",\"2.0\",\"1.0\"]}",
         14.52
        ],
        [
         "{\"type\":\"1\",\"size\":null,\"indices\":null,\"values\":[\"2.0\",\"2.0\",\"1.0\",\"0.0\",\"2.0\",\"1.0\"]}",
         11.38
        ],
        [
         "{\"type\":\"1\",\"size\":null,\"indices\":null,\"values\":[\"2.18\",\"3.0\",\"0.0\",\"0.0\",\"2.0\",\"1.0\"]}",
         22.82
        ],
        [
         "{\"type\":\"1\",\"size\":null,\"indices\":null,\"values\":[\"1.5\",\"2.0\",\"0.0\",\"0.0\",\"2.0\",\"1.0\"]}",
         19.08
        ],
        [
         "{\"type\":\"1\",\"size\":null,\"indices\":null,\"values\":[\"2.83\",\"2.0\",\"1.0\",\"0.0\",\"2.0\",\"1.0\"]}",
         20.27
        ],
        [
         "{\"type\":\"1\",\"size\":null,\"indices\":null,\"values\":[\"1.5\",\"2.0\",\"1.0\",\"0.0\",\"2.0\",\"1.0\"]}",
         11.17
        ],
        [
         "{\"type\":\"1\",\"size\":null,\"indices\":null,\"values\":[\"2.0\",\"2.0\",\"1.0\",\"0.0\",\"2.0\",\"1.0\"]}",
         12.26
        ],
        [
         "{\"type\":\"1\",\"size\":null,\"indices\":null,\"values\":[\"3.25\",\"2.0\",\"1.0\",\"0.0\",\"2.0\",\"1.0\"]}",
         18.26
        ],
        [
         "{\"type\":\"1\",\"size\":null,\"indices\":null,\"values\":[\"1.25\",\"2.0\",\"1.0\",\"0.0\",\"2.0\",\"1.0\"]}",
         8.51
        ],
        [
         "{\"type\":\"1\",\"size\":null,\"indices\":null,\"values\":[\"2.0\",\"2.0\",\"1.0\",\"0.0\",\"2.0\",\"1.0\"]}",
         10.33
        ],
        [
         "{\"type\":\"1\",\"size\":null,\"indices\":null,\"values\":[\"2.0\",\"2.0\",\"1.0\",\"0.0\",\"2.0\",\"1.0\"]}",
         14.15
        ],
        [
         "{\"type\":\"1\",\"size\":null,\"indices\":null,\"values\":[\"2.0\",\"2.0\",\"0.0\",\"1.0\",\"2.0\",\"1.0\"]}",
         16.0
        ],
        [
         "{\"type\":\"1\",\"size\":null,\"indices\":null,\"values\":[\"2.75\",\"2.0\",\"1.0\",\"0.0\",\"2.0\",\"1.0\"]}",
         13.16
        ],
        [
         "{\"type\":\"1\",\"size\":null,\"indices\":null,\"values\":[\"3.5\",\"2.0\",\"1.0\",\"0.0\",\"2.0\",\"1.0\"]}",
         17.47
        ],
        [
         "{\"type\":\"1\",\"size\":null,\"indices\":null,\"values\":[\"6.7\",\"6.0\",\"0.0\",\"0.0\",\"2.0\",\"1.0\"]}",
         34.3
        ],
        [
         "{\"type\":\"1\",\"size\":null,\"indices\":null,\"values\":[\"5.0\",\"5.0\",\"0.0\",\"0.0\",\"2.0\",\"1.0\"]}",
         41.19
        ],
        [
         "{\"type\":\"1\",\"size\":null,\"indices\":null,\"values\":[\"5.0\",\"6.0\",\"1.0\",\"0.0\",\"2.0\",\"1.0\"]}",
         27.05
        ],
        [
         "{\"type\":\"1\",\"size\":null,\"indices\":null,\"values\":[\"2.3\",\"2.0\",\"1.0\",\"0.0\",\"2.0\",\"1.0\"]}",
         16.43
        ],
        [
         "{\"type\":\"1\",\"size\":null,\"indices\":null,\"values\":[\"1.5\",\"2.0\",\"1.0\",\"0.0\",\"2.0\",\"1.0\"]}",
         8.35
        ],
        [
         "{\"type\":\"1\",\"size\":null,\"indices\":null,\"values\":[\"1.36\",\"3.0\",\"1.0\",\"0.0\",\"2.0\",\"1.0\"]}",
         18.64
        ],
        [
         "{\"type\":\"1\",\"size\":null,\"indices\":null,\"values\":[\"1.63\",\"2.0\",\"1.0\",\"0.0\",\"2.0\",\"1.0\"]}",
         11.87
        ],
        [
         "{\"type\":\"1\",\"size\":null,\"indices\":null,\"values\":[\"1.73\",\"2.0\",\"0.0\",\"0.0\",\"2.0\",\"1.0\"]}",
         9.78
        ],
        [
         "{\"type\":\"1\",\"size\":null,\"indices\":null,\"values\":[\"2.0\",\"2.0\",\"0.0\",\"0.0\",\"2.0\",\"1.0\"]}",
         7.51
        ],
        [
         "{\"type\":\"1\",\"size\":null,\"indices\":null,\"values\":[\"2.5\",\"2.0\",\"0.0\",\"0.0\",\"1.0\",\"0.0\"]}",
         14.07
        ],
        [
         "{\"type\":\"1\",\"size\":null,\"indices\":null,\"values\":[\"2.0\",\"2.0\",\"0.0\",\"0.0\",\"1.0\",\"0.0\"]}",
         13.13
        ],
        [
         "{\"type\":\"1\",\"size\":null,\"indices\":null,\"values\":[\"2.74\",\"3.0\",\"0.0\",\"0.0\",\"1.0\",\"0.0\"]}",
         17.26
        ],
        [
         "{\"type\":\"1\",\"size\":null,\"indices\":null,\"values\":[\"2.0\",\"4.0\",\"0.0\",\"0.0\",\"1.0\",\"0.0\"]}",
         24.55
        ],
        [
         "{\"type\":\"1\",\"size\":null,\"indices\":null,\"values\":[\"2.0\",\"4.0\",\"0.0\",\"0.0\",\"1.0\",\"0.0\"]}",
         19.77
        ],
        [
         "{\"type\":\"1\",\"size\":null,\"indices\":null,\"values\":[\"5.14\",\"5.0\",\"1.0\",\"0.0\",\"1.0\",\"0.0\"]}",
         29.85
        ],
        [
         "{\"type\":\"1\",\"size\":null,\"indices\":null,\"values\":[\"5.0\",\"6.0\",\"0.0\",\"0.0\",\"1.0\",\"0.0\"]}",
         48.17
        ],
        [
         "{\"type\":\"1\",\"size\":null,\"indices\":null,\"values\":[\"3.75\",\"4.0\",\"1.0\",\"0.0\",\"1.0\",\"0.0\"]}",
         25.0
        ],
        [
         "{\"type\":\"1\",\"size\":null,\"indices\":null,\"values\":[\"2.61\",\"2.0\",\"1.0\",\"0.0\",\"1.0\",\"0.0\"]}",
         13.39
        ],
        [
         "{\"type\":\"1\",\"size\":null,\"indices\":null,\"values\":[\"2.0\",\"4.0\",\"0.0\",\"0.0\",\"1.0\",\"0.0\"]}",
         16.49
        ],
        [
         "{\"type\":\"1\",\"size\":null,\"indices\":null,\"values\":[\"3.5\",\"4.0\",\"0.0\",\"0.0\",\"1.0\",\"0.0\"]}",
         21.5
        ],
        [
         "{\"type\":\"1\",\"size\":null,\"indices\":null,\"values\":[\"2.5\",\"2.0\",\"0.0\",\"0.0\",\"1.0\",\"0.0\"]}",
         12.66
        ],
        [
         "{\"type\":\"1\",\"size\":null,\"indices\":null,\"values\":[\"2.0\",\"3.0\",\"1.0\",\"0.0\",\"1.0\",\"0.0\"]}",
         16.21
        ],
        [
         "{\"type\":\"1\",\"size\":null,\"indices\":null,\"values\":[\"2.0\",\"2.0\",\"0.0\",\"0.0\",\"1.0\",\"0.0\"]}",
         13.81
        ],
        [
         "{\"type\":\"1\",\"size\":null,\"indices\":null,\"values\":[\"3.0\",\"2.0\",\"1.0\",\"1.0\",\"1.0\",\"0.0\"]}",
         17.51
        ],
        [
         "{\"type\":\"1\",\"size\":null,\"indices\":null,\"values\":[\"3.48\",\"3.0\",\"0.0\",\"0.0\",\"1.0\",\"0.0\"]}",
         24.52
        ],
        [
         "{\"type\":\"1\",\"size\":null,\"indices\":null,\"values\":[\"2.24\",\"2.0\",\"0.0\",\"0.0\",\"1.0\",\"0.0\"]}",
         20.76
        ],
        [
         "{\"type\":\"1\",\"size\":null,\"indices\":null,\"values\":[\"4.5\",\"4.0\",\"0.0\",\"0.0\",\"1.0\",\"0.0\"]}",
         31.71
        ],
        [
         "{\"type\":\"1\",\"size\":null,\"indices\":null,\"values\":[\"1.61\",\"2.0\",\"1.0\",\"1.0\",\"0.0\",\"0.0\"]}",
         10.59
        ],
        [
         "{\"type\":\"1\",\"size\":null,\"indices\":null,\"values\":[\"2.0\",\"2.0\",\"1.0\",\"1.0\",\"0.0\",\"0.0\"]}",
         10.63
        ],
        [
         "{\"type\":\"1\",\"size\":null,\"indices\":null,\"values\":[\"10.0\",\"3.0\",\"0.0\",\"1.0\",\"0.0\",\"0.0\"]}",
         50.81
        ],
        [
         "{\"type\":\"1\",\"size\":null,\"indices\":null,\"values\":[\"3.16\",\"2.0\",\"0.0\",\"1.0\",\"0.0\",\"0.0\"]}",
         15.81
        ],
        [
         "{\"type\":\"1\",\"size\":null,\"indices\":null,\"values\":[\"5.15\",\"2.0\",\"0.0\",\"1.0\",\"1.0\",\"0.0\"]}",
         7.25
        ],
        [
         "{\"type\":\"1\",\"size\":null,\"indices\":null,\"values\":[\"3.18\",\"2.0\",\"0.0\",\"1.0\",\"1.0\",\"0.0\"]}",
         31.85
        ],
        [
         "{\"type\":\"1\",\"size\":null,\"indices\":null,\"values\":[\"4.0\",\"2.0\",\"0.0\",\"1.0\",\"1.0\",\"0.0\"]}",
         16.82
        ],
        [
         "{\"type\":\"1\",\"size\":null,\"indices\":null,\"values\":[\"3.11\",\"2.0\",\"0.0\",\"1.0\",\"1.0\",\"0.0\"]}",
         32.9
        ],
        [
         "{\"type\":\"1\",\"size\":null,\"indices\":null,\"values\":[\"2.0\",\"2.0\",\"0.0\",\"1.0\",\"1.0\",\"0.0\"]}",
         17.89
        ],
        [
         "{\"type\":\"1\",\"size\":null,\"indices\":null,\"values\":[\"2.0\",\"2.0\",\"0.0\",\"1.0\",\"1.0\",\"0.0\"]}",
         14.48
        ],
        [
         "{\"type\":\"1\",\"size\":null,\"indices\":null,\"values\":[\"4.0\",\"2.0\",\"1.0\",\"1.0\",\"1.0\",\"0.0\"]}",
         9.6
        ],
        [
         "{\"type\":\"1\",\"size\":null,\"indices\":null,\"values\":[\"3.55\",\"2.0\",\"0.0\",\"1.0\",\"1.0\",\"0.0\"]}",
         34.63
        ],
        [
         "{\"type\":\"1\",\"size\":null,\"indices\":null,\"values\":[\"3.68\",\"4.0\",\"0.0\",\"1.0\",\"1.0\",\"0.0\"]}",
         34.65
        ],
        [
         "{\"type\":\"1\",\"size\":null,\"indices\":null,\"values\":[\"5.65\",\"2.0\",\"0.0\",\"1.0\",\"1.0\",\"0.0\"]}",
         23.33
        ],
        [
         "{\"type\":\"1\",\"size\":null,\"indices\":null,\"values\":[\"3.5\",\"3.0\",\"0.0\",\"1.0\",\"1.0\",\"0.0\"]}",
         45.35
        ],
        [
         "{\"type\":\"1\",\"size\":null,\"indices\":null,\"values\":[\"6.5\",\"4.0\",\"0.0\",\"1.0\",\"1.0\",\"0.0\"]}",
         23.17
        ],
        [
         "{\"type\":\"1\",\"size\":null,\"indices\":null,\"values\":[\"3.0\",\"2.0\",\"0.0\",\"1.0\",\"1.0\",\"0.0\"]}",
         40.55
        ],
        [
         "{\"type\":\"1\",\"size\":null,\"indices\":null,\"values\":[\"5.0\",\"5.0\",\"0.0\",\"0.0\",\"1.0\",\"0.0\"]}",
         20.69
        ],
        [
         "{\"type\":\"1\",\"size\":null,\"indices\":null,\"values\":[\"3.5\",\"3.0\",\"1.0\",\"1.0\",\"1.0\",\"0.0\"]}",
         20.9
        ],
        [
         "{\"type\":\"1\",\"size\":null,\"indices\":null,\"values\":[\"2.0\",\"5.0\",\"0.0\",\"1.0\",\"1.0\",\"0.0\"]}",
         30.46
        ],
        [
         "{\"type\":\"1\",\"size\":null,\"indices\":null,\"values\":[\"3.5\",\"3.0\",\"1.0\",\"1.0\",\"1.0\",\"0.0\"]}",
         18.15
        ],
        [
         "{\"type\":\"1\",\"size\":null,\"indices\":null,\"values\":[\"4.0\",\"3.0\",\"0.0\",\"1.0\",\"1.0\",\"0.0\"]}",
         23.1
        ],
        [
         "{\"type\":\"1\",\"size\":null,\"indices\":null,\"values\":[\"1.5\",\"2.0\",\"0.0\",\"1.0\",\"1.0\",\"0.0\"]}",
         15.69
        ],
        [
         "{\"type\":\"1\",\"size\":null,\"indices\":null,\"values\":[\"4.19\",\"2.0\",\"1.0\",\"1.0\",\"2.0\",\"1.0\"]}",
         19.81
        ],
        [
         "{\"type\":\"1\",\"size\":null,\"indices\":null,\"values\":[\"2.56\",\"2.0\",\"0.0\",\"1.0\",\"2.0\",\"1.0\"]}",
         28.44
        ],
        [
         "{\"type\":\"1\",\"size\":null,\"indices\":null,\"values\":[\"2.02\",\"2.0\",\"0.0\",\"1.0\",\"2.0\",\"1.0\"]}",
         15.48
        ],
        [
         "{\"type\":\"1\",\"size\":null,\"indices\":null,\"values\":[\"4.0\",\"2.0\",\"0.0\",\"1.0\",\"2.0\",\"1.0\"]}",
         16.58
        ],
        [
         "{\"type\":\"1\",\"size\":null,\"indices\":null,\"values\":[\"1.44\",\"2.0\",\"0.0\",\"0.0\",\"2.0\",\"1.0\"]}",
         7.56
        ],
        [
         "{\"type\":\"1\",\"size\":null,\"indices\":null,\"values\":[\"2.0\",\"2.0\",\"0.0\",\"1.0\",\"2.0\",\"1.0\"]}",
         10.34
        ],
        [
         "{\"type\":\"1\",\"size\":null,\"indices\":null,\"values\":[\"5.0\",\"4.0\",\"1.0\",\"1.0\",\"2.0\",\"1.0\"]}",
         43.11
        ],
        [
         "{\"type\":\"1\",\"size\":null,\"indices\":null,\"values\":[\"2.0\",\"2.0\",\"1.0\",\"1.0\",\"2.0\",\"1.0\"]}",
         13.0
        ],
        [
         "{\"type\":\"1\",\"size\":null,\"indices\":null,\"values\":[\"2.0\",\"2.0\",\"0.0\",\"1.0\",\"2.0\",\"1.0\"]}",
         13.51
        ],
        [
         "{\"type\":\"1\",\"size\":null,\"indices\":null,\"values\":[\"4.0\",\"3.0\",\"0.0\",\"1.0\",\"2.0\",\"1.0\"]}",
         18.71
        ],
        [
         "{\"type\":\"1\",\"size\":null,\"indices\":null,\"values\":[\"2.01\",\"2.0\",\"1.0\",\"1.0\",\"2.0\",\"1.0\"]}",
         12.74
        ],
        [
         "{\"type\":\"1\",\"size\":null,\"indices\":null,\"values\":[\"2.0\",\"2.0\",\"1.0\",\"1.0\",\"2.0\",\"1.0\"]}",
         13.0
        ],
        [
         "{\"type\":\"1\",\"size\":null,\"indices\":null,\"values\":[\"2.5\",\"2.0\",\"1.0\",\"1.0\",\"2.0\",\"1.0\"]}",
         16.4
        ],
        [
         "{\"type\":\"1\",\"size\":null,\"indices\":null,\"values\":[\"4.0\",\"4.0\",\"0.0\",\"1.0\",\"2.0\",\"1.0\"]}",
         20.53
        ],
        [
         "{\"type\":\"1\",\"size\":null,\"indices\":null,\"values\":[\"3.23\",\"3.0\",\"1.0\",\"1.0\",\"2.0\",\"1.0\"]}",
         16.47
        ],
        [
         "{\"type\":\"1\",\"size\":null,\"indices\":null,\"values\":[\"3.41\",\"3.0\",\"0.0\",\"1.0\",\"0.0\",\"0.0\"]}",
         26.59
        ],
        [
         "{\"type\":\"1\",\"size\":null,\"indices\":null,\"values\":[\"3.0\",\"4.0\",\"0.0\",\"1.0\",\"0.0\",\"0.0\"]}",
         38.73
        ],
        [
         "{\"type\":\"1\",\"size\":null,\"indices\":null,\"values\":[\"2.03\",\"2.0\",\"0.0\",\"1.0\",\"0.0\",\"0.0\"]}",
         24.27
        ],
        [
         "{\"type\":\"1\",\"size\":null,\"indices\":null,\"values\":[\"2.23\",\"2.0\",\"1.0\",\"1.0\",\"0.0\",\"0.0\"]}",
         12.76
        ],
        [
         "{\"type\":\"1\",\"size\":null,\"indices\":null,\"values\":[\"2.0\",\"3.0\",\"0.0\",\"1.0\",\"0.0\",\"0.0\"]}",
         30.06
        ],
        [
         "{\"type\":\"1\",\"size\":null,\"indices\":null,\"values\":[\"5.16\",\"4.0\",\"0.0\",\"1.0\",\"0.0\",\"0.0\"]}",
         25.89
        ],
        [
         "{\"type\":\"0\",\"size\":\"6\",\"indices\":[\"0\",\"1\"],\"values\":[\"9.0\",\"4.0\"]}",
         48.33
        ],
        [
         "{\"type\":\"1\",\"size\":null,\"indices\":null,\"values\":[\"2.5\",\"2.0\",\"1.0\",\"1.0\",\"0.0\",\"0.0\"]}",
         13.27
        ],
        [
         "{\"type\":\"1\",\"size\":null,\"indices\":null,\"values\":[\"6.5\",\"3.0\",\"1.0\",\"1.0\",\"0.0\",\"0.0\"]}",
         28.17
        ],
        [
         "{\"type\":\"1\",\"size\":null,\"indices\":null,\"values\":[\"1.1\",\"2.0\",\"1.0\",\"1.0\",\"0.0\",\"0.0\"]}",
         12.9
        ],
        [
         "{\"type\":\"1\",\"size\":null,\"indices\":null,\"values\":[\"3.0\",\"5.0\",\"0.0\",\"1.0\",\"0.0\",\"0.0\"]}",
         28.15
        ],
        [
         "{\"type\":\"1\",\"size\":null,\"indices\":null,\"values\":[\"1.5\",\"2.0\",\"0.0\",\"1.0\",\"0.0\",\"0.0\"]}",
         11.59
        ],
        [
         "{\"type\":\"1\",\"size\":null,\"indices\":null,\"values\":[\"1.44\",\"2.0\",\"0.0\",\"1.0\",\"0.0\",\"0.0\"]}",
         7.74
        ],
        [
         "{\"type\":\"1\",\"size\":null,\"indices\":null,\"values\":[\"3.09\",\"4.0\",\"1.0\",\"1.0\",\"0.0\",\"0.0\"]}",
         30.14
        ],
        [
         "{\"type\":\"1\",\"size\":null,\"indices\":null,\"values\":[\"2.2\",\"2.0\",\"0.0\",\"1.0\",\"3.0\",\"1.0\"]}",
         12.16
        ],
        [
         "{\"type\":\"1\",\"size\":null,\"indices\":null,\"values\":[\"3.48\",\"2.0\",\"1.0\",\"1.0\",\"3.0\",\"1.0\"]}",
         13.42
        ],
        [
         "{\"type\":\"1\",\"size\":null,\"indices\":null,\"values\":[\"1.92\",\"1.0\",\"0.0\",\"1.0\",\"3.0\",\"1.0\"]}",
         8.58
        ],
        [
         "{\"type\":\"1\",\"size\":null,\"indices\":null,\"values\":[\"3.0\",\"3.0\",\"1.0\",\"0.0\",\"3.0\",\"1.0\"]}",
         15.98
        ],
        [
         "{\"type\":\"1\",\"size\":null,\"indices\":null,\"values\":[\"1.58\",\"2.0\",\"0.0\",\"1.0\",\"3.0\",\"1.0\"]}",
         13.42
        ],
        [
         "{\"type\":\"1\",\"size\":null,\"indices\":null,\"values\":[\"2.5\",\"2.0\",\"1.0\",\"1.0\",\"3.0\",\"1.0\"]}",
         16.27
        ],
        [
         "{\"type\":\"1\",\"size\":null,\"indices\":null,\"values\":[\"2.0\",\"2.0\",\"1.0\",\"1.0\",\"3.0\",\"1.0\"]}",
         10.09
        ],
        [
         "{\"type\":\"0\",\"size\":\"6\",\"indices\":[\"0\",\"1\"],\"values\":[\"3.0\",\"4.0\"]}",
         20.45
        ],
        [
         "{\"type\":\"0\",\"size\":\"6\",\"indices\":[\"0\",\"1\"],\"values\":[\"2.72\",\"2.0\"]}",
         13.28
        ],
        [
         "{\"type\":\"1\",\"size\":null,\"indices\":null,\"values\":[\"2.88\",\"2.0\",\"1.0\",\"1.0\",\"0.0\",\"0.0\"]}",
         22.12
        ],
        [
         "{\"type\":\"1\",\"size\":null,\"indices\":null,\"values\":[\"2.0\",\"4.0\",\"0.0\",\"1.0\",\"0.0\",\"0.0\"]}",
         24.01
        ],
        [
         "{\"type\":\"1\",\"size\":null,\"indices\":null,\"values\":[\"3.0\",\"3.0\",\"0.0\",\"1.0\",\"0.0\",\"0.0\"]}",
         15.69
        ],
        [
         "{\"type\":\"0\",\"size\":\"6\",\"indices\":[\"0\",\"1\"],\"values\":[\"3.39\",\"2.0\"]}",
         11.61
        ],
        [
         "{\"type\":\"0\",\"size\":\"6\",\"indices\":[\"0\",\"1\"],\"values\":[\"1.47\",\"2.0\"]}",
         10.77
        ],
        [
         "{\"type\":\"1\",\"size\":null,\"indices\":null,\"values\":[\"3.0\",\"2.0\",\"0.0\",\"1.0\",\"0.0\",\"0.0\"]}",
         15.53
        ],
        [
         "{\"type\":\"0\",\"size\":\"6\",\"indices\":[\"0\",\"1\"],\"values\":[\"1.25\",\"2.0\"]}",
         10.07
        ],
        [
         "{\"type\":\"1\",\"size\":null,\"indices\":null,\"values\":[\"1.0\",\"2.0\",\"0.0\",\"1.0\",\"0.0\",\"0.0\"]}",
         12.6
        ],
        [
         "{\"type\":\"1\",\"size\":null,\"indices\":null,\"values\":[\"1.17\",\"2.0\",\"0.0\",\"1.0\",\"0.0\",\"0.0\"]}",
         32.83
        ],
        [
         "{\"type\":\"1\",\"size\":null,\"indices\":null,\"values\":[\"4.67\",\"3.0\",\"1.0\",\"0.0\",\"0.0\",\"0.0\"]}",
         35.83
        ],
        [
         "{\"type\":\"0\",\"size\":\"6\",\"indices\":[\"0\",\"1\"],\"values\":[\"5.92\",\"3.0\"]}",
         29.03
        ],
        [
         "{\"type\":\"1\",\"size\":null,\"indices\":null,\"values\":[\"2.0\",\"2.0\",\"1.0\",\"1.0\",\"0.0\",\"0.0\"]}",
         27.18
        ],
        [
         "{\"type\":\"1\",\"size\":null,\"indices\":null,\"values\":[\"2.0\",\"2.0\",\"0.0\",\"1.0\",\"0.0\",\"0.0\"]}",
         22.67
        ],
        [
         "{\"type\":\"0\",\"size\":\"6\",\"indices\":[\"0\",\"1\"],\"values\":[\"1.75\",\"2.0\"]}",
         17.82
        ],
        [
         "{\"type\":\"1\",\"size\":null,\"indices\":null,\"values\":[\"3.0\",\"2.0\",\"1.0\",\"0.0\",\"2.0\",\"0.0\"]}",
         18.78
        ]
       ],
       "datasetInfos": [],
       "dbfsResultPath": null,
       "isJsonSchema": true,
       "metadata": {},
       "overflow": false,
       "plotOptions": {
        "customPlotOptions": {},
        "displayType": "table",
        "pivotAggregation": null,
        "pivotColumns": null,
        "xColumns": null,
        "yColumns": null
       },
       "removedWidgets": [],
       "schema": [
        {
         "metadata": "{\"ml_attr\": {\"num_attrs\": 6, \"attrs\": {\"nominal\": [{\"vals\": [\"Male\", \"Female\"], \"name\": \"sex_indexed\", \"idx\": 2}, {\"vals\": [\"No\", \"Yes\"], \"name\": \"smoke_indexed\", \"idx\": 3}, {\"vals\": [\"Sat\", \"Sun\", \"Thur\", \"Fri\"], \"name\": \"day_indexed\", \"idx\": 4}, {\"vals\": [\"Dinner\", \"Lunch\"], \"name\": \"time_indexed\", \"idx\": 5}], \"numeric\": [{\"name\": \"tip\", \"idx\": 0}, {\"name\": \"size\", \"idx\": 1}]}}}",
         "name": "Independent Features",
         "type": "{\"class\":\"org.apache.spark.ml.linalg.VectorUDT\",\"pyClass\":\"pyspark.ml.linalg.VectorUDT\",\"sqlType\":{\"fields\":[{\"metadata\":{},\"name\":\"type\",\"nullable\":false,\"type\":\"byte\"},{\"metadata\":{},\"name\":\"size\",\"nullable\":true,\"type\":\"integer\"},{\"metadata\":{},\"name\":\"indices\",\"nullable\":true,\"type\":{\"containsNull\":false,\"elementType\":\"integer\",\"type\":\"array\"}},{\"metadata\":{},\"name\":\"values\",\"nullable\":true,\"type\":{\"containsNull\":false,\"elementType\":\"double\",\"type\":\"array\"}}],\"type\":\"struct\"},\"type\":\"udt\"}"
        },
        {
         "metadata": "{}",
         "name": "total_bill",
         "type": "\"double\""
        }
       ],
       "type": "table"
      }
     },
     "output_type": "display_data"
    }
   ],
   "source": [
    "finalized_data = output.select('Independent Features','total_bill')\n",
    "finalized_data.show()\n",
    "display(finalized_data)"
   ]
  },
  {
   "cell_type": "code",
   "execution_count": 0,
   "metadata": {
    "application/vnd.databricks.v1+cell": {
     "cellMetadata": {
      "byteLimit": 2048000,
      "rowLimit": 10000
     },
     "inputWidgets": {},
     "nuid": "3e4f271c-cc52-4ca0-a7de-adf771832430",
     "showTitle": false,
     "tableResultSettingsMap": {},
     "title": ""
    }
   },
   "outputs": [
    {
     "output_type": "stream",
     "name": "stdout",
     "output_type": "stream",
     "text": [
      "+--------------------+----------+\n|Independent Features|total_bill|\n+--------------------+----------+\n|(6,[0,1],[1.25,2.0])|     10.07|\n|(6,[0,1],[1.25,2.0])|     10.51|\n|(6,[0,1],[1.45,2.0])|      9.55|\n|(6,[0,1],[1.47,2.0])|     10.77|\n|(6,[0,1],[1.75,2.0])|     17.82|\n|(6,[0,1],[1.97,2.0])|     12.02|\n| (6,[0,1],[2.0,2.0])|     13.37|\n|(6,[0,1],[2.01,2.0])|     20.23|\n|(6,[0,1],[2.24,3.0])|     16.04|\n|(6,[0,1],[2.34,4.0])|     17.81|\n| (6,[0,1],[2.5,4.0])|     18.35|\n|(6,[0,1],[2.64,3.0])|     17.59|\n| (6,[0,1],[3.0,2.0])|      14.0|\n|(6,[0,1],[3.15,3.0])|     20.08|\n|(6,[0,1],[3.18,2.0])|     19.82|\n|(6,[0,1],[3.27,2.0])|     17.78|\n|(6,[0,1],[3.35,3.0])|     20.65|\n|(6,[0,1],[4.08,2.0])|     17.92|\n| (6,[0,1],[4.3,2.0])|      21.7|\n|(6,[0,1],[7.58,4.0])|     39.42|\n+--------------------+----------+\nonly showing top 20 rows\n+--------------------+----------+\n|Independent Features|total_bill|\n+--------------------+----------+\n| (6,[0,1],[2.0,2.0])|     12.69|\n| (6,[0,1],[2.0,3.0])|     16.31|\n|(6,[0,1],[2.31,3.0])|     18.69|\n|(6,[0,1],[2.72,2.0])|     13.28|\n| (6,[0,1],[3.0,4.0])|     20.45|\n|(6,[0,1],[3.39,2.0])|     11.61|\n| (6,[0,1],[3.6,3.0])|     24.06|\n|(6,[0,1],[3.76,2.0])|     18.24|\n| (6,[0,1],[5.0,3.0])|     31.27|\n|(6,[0,1],[5.92,3.0])|     29.03|\n|(6,[0,1],[6.73,4.0])|     48.27|\n|[1.0,2.0,0.0,1.0,...|      12.6|\n|[1.32,2.0,0.0,0.0...|      9.68|\n|[1.5,2.0,0.0,0.0,...|     19.08|\n|[1.5,2.0,0.0,1.0,...|     11.59|\n|[1.5,2.0,0.0,1.0,...|     12.03|\n|[1.5,2.0,1.0,0.0,...|     26.41|\n|[1.5,2.0,1.0,0.0,...|      8.35|\n|[1.5,2.0,1.0,0.0,...|     11.17|\n|[1.61,2.0,1.0,1.0...|     10.59|\n+--------------------+----------+\nonly showing top 20 rows\nCoefficients: [3.349530410431678,3.209081534785225,-1.2263101010913964,2.082916778446603,0.3820064446757308,-2.0894907482239984]\nIntercept: 1.1892534962677157\n"
     ]
    }
   ],
   "source": [
    "from pyspark.ml.regression import LinearRegression\n",
    "\n",
    "###train test split\n",
    "train_data,test_data = finalized_data.randomSplit([0.75,0.25])\n",
    "train_data.show()\n",
    "test_data.show()\n",
    "lr = LinearRegression(featuresCol='Independent Features', labelCol='total_bill')\n",
    "lr_model = lr.fit(train_data)\n",
    "print(\"Coefficients: \" + str(lr_model.coefficients))\n",
    "print(\"Intercept: \" + str(lr_model.intercept))"
   ]
  },
  {
   "cell_type": "code",
   "execution_count": 0,
   "metadata": {
    "application/vnd.databricks.v1+cell": {
     "cellMetadata": {
      "byteLimit": 2048000,
      "rowLimit": 10000
     },
     "inputWidgets": {},
     "nuid": "8cc6ddc2-8f91-4ca5-9872-85e4669ccd1a",
     "showTitle": false,
     "tableResultSettingsMap": {},
     "title": ""
    }
   },
   "outputs": [
    {
     "output_type": "stream",
     "name": "stdout",
     "output_type": "stream",
     "text": [
      "+--------------------+----------+------------------+\n|Independent Features|total_bill|        prediction|\n+--------------------+----------+------------------+\n| (6,[0,1],[2.0,2.0])|     12.69|14.306477386701522|\n| (6,[0,1],[2.0,3.0])|     16.31|17.515558921486743|\n|(6,[0,1],[2.31,3.0])|     18.69| 18.55391334872057|\n|(6,[0,1],[2.72,2.0])|     13.28|16.718139282212327|\n| (6,[0,1],[3.0,4.0])|     20.45|24.074170866703653|\n|(6,[0,1],[3.39,2.0])|     11.61|18.962324657201556|\n| (6,[0,1],[3.6,3.0])|     24.06|22.874807578177432|\n|(6,[0,1],[3.76,2.0])|     18.24| 20.20165090906127|\n| (6,[0,1],[5.0,3.0])|     31.27|27.564150152781778|\n|(6,[0,1],[5.92,3.0])|     29.03|30.645718130378924|\n|(6,[0,1],[6.73,4.0])|     48.27| 36.56791929761381|\n|[1.0,2.0,0.0,1.0,...|      12.6|13.039863754716448|\n|[1.32,2.0,0.0,0.0...|      9.68|12.410803152283712|\n|[1.5,2.0,0.0,0.0,...|     19.08|11.306234322613147|\n|[1.5,2.0,0.0,1.0,...|     11.59|14.714628959932286|\n|[1.5,2.0,0.0,1.0,...|     12.03|15.860648293959478|\n|[1.5,2.0,1.0,0.0,...|     26.41|11.405402080394287|\n|[1.5,2.0,1.0,0.0,...|      8.35| 10.07992422152175|\n|[1.5,2.0,1.0,0.0,...|     11.17| 10.07992422152175|\n|[1.61,2.0,1.0,1.0...|     10.59|13.856767203988374|\n+--------------------+----------+------------------+\nonly showing top 20 rows\n+------------------+\n|        prediction|\n+------------------+\n|14.306477386701522|\n|17.515558921486743|\n| 18.55391334872057|\n|16.718139282212327|\n|24.074170866703653|\n|18.962324657201556|\n|22.874807578177432|\n| 20.20165090906127|\n|27.564150152781778|\n|30.645718130378924|\n| 36.56791929761381|\n|13.039863754716448|\n|12.410803152283712|\n|11.306234322613147|\n|14.714628959932286|\n|15.860648293959478|\n|11.405402080394287|\n| 10.07992422152175|\n| 10.07992422152175|\n|13.856767203988374|\n+------------------+\nonly showing top 20 rows\n+------------------+----------+--------------------+\n|        prediction|total_bill|Independent Features|\n+------------------+----------+--------------------+\n|14.306477386701522|     12.69| (6,[0,1],[2.0,2.0])|\n|17.515558921486743|     16.31| (6,[0,1],[2.0,3.0])|\n| 18.55391334872057|     18.69|(6,[0,1],[2.31,3.0])|\n|16.718139282212327|     13.28|(6,[0,1],[2.72,2.0])|\n|24.074170866703653|     20.45| (6,[0,1],[3.0,4.0])|\n|18.962324657201556|     11.61|(6,[0,1],[3.39,2.0])|\n|22.874807578177432|     24.06| (6,[0,1],[3.6,3.0])|\n| 20.20165090906127|     18.24|(6,[0,1],[3.76,2.0])|\n|27.564150152781778|     31.27| (6,[0,1],[5.0,3.0])|\n|30.645718130378924|     29.03|(6,[0,1],[5.92,3.0])|\n| 36.56791929761381|     48.27|(6,[0,1],[6.73,4.0])|\n|13.039863754716448|      12.6|[1.0,2.0,0.0,1.0,...|\n|12.410803152283712|      9.68|[1.32,2.0,0.0,0.0...|\n|11.306234322613147|     19.08|[1.5,2.0,0.0,0.0,...|\n|14.714628959932286|     11.59|[1.5,2.0,0.0,1.0,...|\n|15.860648293959478|     12.03|[1.5,2.0,0.0,1.0,...|\n|11.405402080394287|     26.41|[1.5,2.0,1.0,0.0,...|\n| 10.07992422152175|      8.35|[1.5,2.0,1.0,0.0,...|\n| 10.07992422152175|     11.17|[1.5,2.0,1.0,0.0,...|\n|13.856767203988374|     10.59|[1.61,2.0,1.0,1.0...|\n+------------------+----------+--------------------+\nonly showing top 20 rows\n"
     ]
    }
   ],
   "source": [
    "###Predictions\n",
    "predictions = lr_model.evaluate(test_data)\n",
    "predictions.predictions.show()\n",
    "predictions.predictions.select(\"prediction\").show()\n",
    "predictions.predictions.select(\"prediction\",\"total_bill\",\"Independent Features\").show()"
   ]
  },
  {
   "cell_type": "code",
   "execution_count": 0,
   "metadata": {
    "application/vnd.databricks.v1+cell": {
     "cellMetadata": {
      "byteLimit": 2048000,
      "rowLimit": 10000
     },
     "inputWidgets": {},
     "nuid": "fe38060d-6cb1-4493-aac3-e3848e70b7be",
     "showTitle": false,
     "tableResultSettingsMap": {},
     "title": ""
    }
   },
   "outputs": [
    {
     "output_type": "execute_result",
     "data": {
      "text/plain": [
       "(0.389535681880107, 5.258596254734407, 57.17673085852073)"
      ]
     },
     "execution_count": 132,
     "metadata": {},
     "output_type": "execute_result"
    }
   ],
   "source": [
    "predictions.r2, predictions.meanAbsoluteError, predictions.meanSquaredError"
   ]
  },
  {
   "cell_type": "markdown",
   "metadata": {
    "application/vnd.databricks.v1+cell": {
     "cellMetadata": {
      "byteLimit": 2048000,
      "rowLimit": 10000
     },
     "inputWidgets": {},
     "nuid": "98cb1496-ed53-44d4-bf1b-2d55ba55dae6",
     "showTitle": false,
     "tableResultSettingsMap": {},
     "title": ""
    }
   },
   "source": [
    "Linear Regression Results Explained\n",
    "1. Model Performance Metrics"
   ]
  },
  {
   "cell_type": "code",
   "execution_count": 0,
   "metadata": {
    "application/vnd.databricks.v1+cell": {
     "cellMetadata": {},
     "inputWidgets": {},
     "nuid": "7ef239a2-743a-4776-a4b1-9a7da14edc3b",
     "showTitle": false,
     "tableResultSettingsMap": {},
     "title": ""
    }
   },
   "outputs": [],
   "source": []
  },
  {
   "cell_type": "markdown",
   "metadata": {
    "application/vnd.databricks.v1+cell": {
     "cellMetadata": {
      "byteLimit": 2048000,
      "rowLimit": 10000
     },
     "inputWidgets": {},
     "nuid": "ae6f1c52-02c2-4c3d-8b05-e3a809bdebab",
     "showTitle": false,
     "tableResultSettingsMap": {},
     "title": ""
    }
   },
   "source": [
    "R² = 0.6672\n",
    "Mean Absolute Error (MAE) = 3.5839\n",
    "Mean Squared Error (MSE) = 21.0046"
   ]
  },
  {
   "cell_type": "markdown",
   "metadata": {
    "application/vnd.databricks.v1+cell": {
     "cellMetadata": {
      "byteLimit": 2048000,
      "rowLimit": 10000
     },
     "inputWidgets": {},
     "nuid": "fe50d4a4-ce10-4a7a-b1ab-54b03ef5eb8e",
     "showTitle": false,
     "tableResultSettingsMap": {},
     "title": ""
    }
   },
   "source": [
    "Let’s translate those:\n",
    "\n",
    "R² (R-squared = 0.6672)\n",
    "This means the model explains about 66.7% of the variation in the target variable.\n",
    "In other words, two-thirds of the changes in the dependent variable are explained by the input features.\n",
    "This is not a perfect model, but it’s learning meaningful patterns rather than guessing randomly.\n",
    "\n",
    "Mean Absolute Error (MAE = 3.58)\n",
    "On average, the model’s predictions are about 3.6 units off from the actual values.\n",
    "Lower is better. MAE gives a “real-world” feel for prediction error in the same unit as the target variable.\n",
    "\n",
    "Mean Squared Error (MSE = 21.00)\n",
    "This is the average squared difference between predicted and actual values.\n",
    "The squaring penalizes larger errors more heavily, which helps highlight big misses.\n",
    "Again — smaller = better."
   ]
  },
  {
   "cell_type": "markdown",
   "metadata": {
    "application/vnd.databricks.v1+cell": {
     "cellMetadata": {
      "byteLimit": 2048000,
      "rowLimit": 10000
     },
     "inputWidgets": {},
     "nuid": "0a540520-3610-4c93-a925-33f6312de531",
     "showTitle": false,
     "tableResultSettingsMap": {},
     "title": ""
    }
   },
   "source": [
    "2. Coefficients and Intercept"
   ]
  },
  {
   "cell_type": "code",
   "execution_count": 0,
   "metadata": {
    "application/vnd.databricks.v1+cell": {
     "cellMetadata": {
      "byteLimit": 2048000,
      "rowLimit": 10000
     },
     "inputWidgets": {},
     "nuid": "8ac84187-c443-4d4d-b17b-6cc58280d35c",
     "showTitle": false,
     "tableResultSettingsMap": {},
     "title": ""
    }
   },
   "outputs": [
    {
     "output_type": "display_data",
     "data": {
      "text/plain": [
       ""
      ]
     },
     "metadata": {
      "application/vnd.databricks.v1+output": {
       "addedWidgets": {},
       "arguments": {},
       "datasetInfos": [],
       "jupyterProps": null,
       "metadata": {
        "errorSummary": "Command skipped"
       },
       "removedWidgets": [],
       "sqlProps": null,
       "stackFrames": [],
       "type": "baseError"
      }
     },
     "output_type": "display_data"
    }
   ],
   "source": [
    "Coefficients: [2.916, 3.477, -1.131, 2.614, -0.178, -1.859]\n",
    "Intercept: 2.193"
   ]
  },
  {
   "cell_type": "markdown",
   "metadata": {
    "application/vnd.databricks.v1+cell": {
     "cellMetadata": {
      "byteLimit": 2048000,
      "rowLimit": 10000
     },
     "inputWidgets": {},
     "nuid": "8b8a8b9f-a85e-4974-ab58-7bcecf794b7b",
     "showTitle": false,
     "tableResultSettingsMap": {},
     "title": ""
    }
   },
   "source": [
    "Each coefficient represents how much the target variable changes when that feature increases by 1 unit, assuming other features are constant.\n",
    "\n",
    "So, for example:\n",
    "\n",
    "A coefficient of 2.916 means for every unit increase in that feature, the target increases by about 2.92 units.\n",
    "\n",
    "A negative coefficient (like -1.131) means as that feature increases, the target tends to decrease.\n",
    "\n",
    "The intercept (2.193) is the baseline prediction when all features = 0.\n",
    "\n",
    "\n"
   ]
  },
  {
   "cell_type": "markdown",
   "metadata": {
    "application/vnd.databricks.v1+cell": {
     "cellMetadata": {
      "byteLimit": 2048000,
      "rowLimit": 10000
     },
     "inputWidgets": {},
     "nuid": "f45e8692-a3c7-4948-be4e-069c73564466",
     "showTitle": false,
     "tableResultSettingsMap": {},
     "title": ""
    }
   },
   "source": [
    "3. Quick interpretation"
   ]
  },
  {
   "cell_type": "markdown",
   "metadata": {
    "application/vnd.databricks.v1+cell": {
     "cellMetadata": {
      "byteLimit": 2048000,
      "rowLimit": 10000
     },
     "inputWidgets": {},
     "nuid": "240cb793-02cc-4473-ad1e-6310eea557e2",
     "showTitle": false,
     "tableResultSettingsMap": {},
     "title": ""
    }
   },
   "source": [
    "The model fits reasonably well (R² ≈ 0.67).\n",
    "\n",
    "Errors (MAE, MSE) are moderate — you can likely improve by feature scaling, removing outliers, or adding more data.\n",
    "\n",
    "Some predictors have strong positive impacts, others negative — great for interpretability.\n",
    "\n",
    "The linear regression model achieved an R² of 0.667, indicating it explains roughly two-thirds of the variance in the target variable.\n",
    "The model’s average prediction error (MAE) was 3.58, with an MSE of 21.00, showing moderate accuracy.\n",
    "The coefficients reveal both positive and negative relationships between predictors and the outcome.\n",
    "Overall, the model demonstrates a good initial fit, and further tuning could improve performance."
   ]
  },
  {
   "cell_type": "markdown",
   "metadata": {
    "application/vnd.databricks.v1+cell": {
     "cellMetadata": {
      "byteLimit": 2048000,
      "rowLimit": 10000
     },
     "inputWidgets": {},
     "nuid": "5abd2989-c015-4c0c-8a41-bb2f5e42c09a",
     "showTitle": false,
     "tableResultSettingsMap": {},
     "title": ""
    }
   },
   "source": [
    "## \uD83D\uDD0D Linear Regression Model Summary\n",
    "\n",
    "The model was trained using multiple features to predict the target variable.  \n",
    "Below are the evaluation metrics and model parameters:\n",
    "\n",
    "**Model Performance:**\n",
    "- **R² (Coefficient of Determination):** 0.667 → The model explains about 66.7% of the variance in the target variable.\n",
    "- **Mean Absolute Error (MAE):** 3.5839 → On average, predictions are off by about 3.6 units.\n",
    "- **Mean Squared Error (MSE):** 21.0046 → Indicates moderate prediction error; lower values mean better accuracy.\n",
    "\n",
    "\n"
   ]
  },
  {
   "cell_type": "code",
   "execution_count": 0,
   "metadata": {
    "application/vnd.databricks.v1+cell": {
     "cellMetadata": {
      "byteLimit": 2048000,
      "rowLimit": 10000
     },
     "inputWidgets": {},
     "nuid": "a93d4e32-86e8-424c-afd3-751670ae6a0c",
     "showTitle": false,
     "tableResultSettingsMap": {},
     "title": ""
    }
   },
   "outputs": [
    {
     "output_type": "display_data",
     "data": {
      "text/plain": [
       ""
      ]
     },
     "metadata": {
      "application/vnd.databricks.v1+output": {
       "addedWidgets": {},
       "arguments": {},
       "datasetInfos": [],
       "jupyterProps": null,
       "metadata": {
        "errorSummary": "Command skipped"
       },
       "removedWidgets": [],
       "sqlProps": null,
       "stackFrames": [],
       "type": "baseError"
      }
     },
     "output_type": "display_data"
    }
   ],
   "source": [
    "\n",
    "Interpretation:\n",
    "- Positive coefficients indicate features that increase the target value.\n",
    "- Negative coefficients indicate features that decrease it.\n",
    "- The intercept (2.193) represents the baseline prediction when all features are zero.\n",
    "\n",
    "Conclusion:\n",
    "The model performs reasonably well with an R² of 0.67, showing it captures most—but not all—of the underlying trend.  \n",
    "With further feature tuning or data preprocessing, accuracy can be improved.\n"
   ]
  },
  {
   "cell_type": "code",
   "execution_count": 0,
   "metadata": {
    "application/vnd.databricks.v1+cell": {
     "cellMetadata": {
      "byteLimit": 2048000,
      "rowLimit": 10000
     },
     "inputWidgets": {},
     "nuid": "3e9e9ebb-66f6-480f-8682-e7e1da3f0cab",
     "showTitle": false,
     "tableResultSettingsMap": {},
     "title": ""
    }
   },
   "outputs": [
    {
     "output_type": "stream",
     "name": "stdout",
     "output_type": "stream",
     "text": [
      "Linear Regression Model Evaluation\nR² Score: 0.667\nMean Absolute Error: 3.584\nMean Squared Error: 21.005\nIntercept: 2.193\nCoefficients:\n  X1: 2.916\n  X2: 3.477\n  X3: -1.131\n  X4: 2.614\n  X5: -0.178\n  X6: -1.859\n"
     ]
    }
   ],
   "source": [
    "from pyspark.sql import functions as F\n",
    "\n",
    "# Example placeholders — replace with your model variables\n",
    "r2 = 0.6672344039004119\n",
    "mae = 3.583908215863416\n",
    "mse = 21.004619470023776\n",
    "coefficients = [2.9160943889009987, 3.477399505022968, -1.1308176253327638,\n",
    "                2.6144391867370733, -0.17816786319676634, -1.8586380955293356]\n",
    "intercept = 2.1929660904907124\n",
    "\n",
    "print(\"Linear Regression Model Evaluation\")\n",
    "print(f\"R² Score: {r2:.3f}\")\n",
    "print(f\"Mean Absolute Error: {mae:.3f}\")\n",
    "print(f\"Mean Squared Error: {mse:.3f}\")\n",
    "print(f\"Intercept: {intercept:.3f}\")\n",
    "print(\"Coefficients:\")\n",
    "for i, c in enumerate(coefficients, 1):\n",
    "    print(f\"  X{i}: {c:.3f}\")\n"
   ]
  },
  {
   "cell_type": "markdown",
   "metadata": {
    "application/vnd.databricks.v1+cell": {
     "cellMetadata": {
      "byteLimit": 2048000,
      "rowLimit": 10000
     },
     "inputWidgets": {},
     "nuid": "e1ca5682-2af0-4ae0-9c3e-0c517f781db8",
     "showTitle": false,
     "tableResultSettingsMap": {},
     "title": ""
    }
   },
   "source": [
    "Predicted vs. Actual Plot\n",
    "\n",
    "This shows how close your predictions are to the real values.\n",
    "A good model will have points close to the diagonal line (y = x)."
   ]
  },
  {
   "cell_type": "code",
   "execution_count": 0,
   "metadata": {
    "application/vnd.databricks.v1+cell": {
     "cellMetadata": {
      "byteLimit": 2048000,
      "rowLimit": 10000
     },
     "inputWidgets": {},
     "nuid": "0a0c0ed6-87c6-41b9-80ec-59b6374a638c",
     "showTitle": false,
     "tableResultSettingsMap": {},
     "title": ""
    }
   },
   "outputs": [
    {
     "output_type": "stream",
     "name": "stdout",
     "output_type": "stream",
     "text": [
      "+------+------------------+\n|Actual|         Predicted|\n+------+------------------+\n| 12.69|14.306477386701522|\n| 16.31|17.515558921486743|\n| 18.69| 18.55391334872057|\n| 13.28|16.718139282212327|\n| 20.45|24.074170866703653|\n+------+------------------+\nonly showing top 5 rows\n"
     ]
    }
   ],
   "source": [
    "# Extract predicted and actual columns for analysis or plotting\n",
    "results = predictions.predictions.select(\"total_bill\", \"prediction\")\n",
    "\n",
    "# Rename columns for clarity \n",
    "results = results.withColumnRenamed(\"total_bill\", \"Actual\").withColumnRenamed(\"prediction\", \"Predicted\")\n",
    "\n",
    "results.show(5)\n"
   ]
  },
  {
   "cell_type": "code",
   "execution_count": 0,
   "metadata": {
    "application/vnd.databricks.v1+cell": {
     "cellMetadata": {
      "byteLimit": 2048000,
      "rowLimit": 10000
     },
     "inputWidgets": {},
     "nuid": "5f1006b0-a67d-41db-b7d9-cbe0f3e08a00",
     "showTitle": false,
     "tableResultSettingsMap": {},
     "title": ""
    }
   },
   "outputs": [],
   "source": [
    "pdf = results.toPandas()"
   ]
  },
  {
   "cell_type": "code",
   "execution_count": 0,
   "metadata": {
    "application/vnd.databricks.v1+cell": {
     "cellMetadata": {
      "byteLimit": 2048000,
      "rowLimit": 10000
     },
     "inputWidgets": {},
     "nuid": "54864180-1d81-4ce6-93f9-68871e3eec84",
     "showTitle": false,
     "tableResultSettingsMap": {},
     "title": ""
    }
   },
   "outputs": [
    {
     "output_type": "display_data",
     "data": {
      "image/png": "[encoded data removed]",
      "text/plain": [
       "<Figure size 600x600 with 1 Axes>"
      ]
     },
     "metadata": {},
     "output_type": "display_data"
    }
   ],
   "source": [
    "import matplotlib.pyplot as plt\n",
    "\n",
    "plt.figure(figsize=(6,6))\n",
    "plt.scatter(pdf[\"Actual\"], pdf[\"Predicted\"], color='steelblue', alpha=0.6, edgecolor='k')\n",
    "plt.plot([pdf[\"Actual\"].min(), pdf[\"Actual\"].max()],\n",
    "         [pdf[\"Actual\"].min(), pdf[\"Actual\"].max()],\n",
    "         color='red', linestyle='--', linewidth=2)\n",
    "\n",
    "plt.title(\"Predicted vs. Actual Total Bill\")\n",
    "plt.xlabel(\"Actual Total Bill\")\n",
    "plt.ylabel(\"Predicted Total Bill\")\n",
    "plt.grid(True, linestyle=\"--\", alpha=0.6)\n",
    "plt.show()\n"
   ]
  },
  {
   "cell_type": "code",
   "execution_count": 0,
   "metadata": {
    "application/vnd.databricks.v1+cell": {
     "cellMetadata": {
      "byteLimit": 2048000,
      "rowLimit": 10000
     },
     "inputWidgets": {},
     "nuid": "9ce9bcca-702f-41cf-b419-dee5ff864c0a",
     "showTitle": false,
     "tableResultSettingsMap": {},
     "title": ""
    }
   },
   "outputs": [
    {
     "output_type": "display_data",
     "data": {
      "image/png": "[encoded data removed]",
      "text/plain": [
       "<Figure size 600x400 with 1 Axes>"
      ]
     },
     "metadata": {},
     "output_type": "display_data"
    }
   ],
   "source": [
    "pdf[\"Residuals\"] = pdf[\"Actual\"] - pdf[\"Predicted\"]\n",
    "\n",
    "plt.figure(figsize=(6,4))\n",
    "plt.scatter(pdf[\"Predicted\"], pdf[\"Residuals\"], color='darkorange', alpha=0.6, edgecolor='k')\n",
    "plt.axhline(y=0, color='red', linestyle='--', linewidth=2)\n",
    "\n",
    "plt.title(\"Residual Plot for Total Bill Predictions\")\n",
    "plt.xlabel(\"Predicted Total Bill\")\n",
    "plt.ylabel(\"Residuals (Actual - Predicted)\")\n",
    "plt.grid(True, linestyle=\"--\", alpha=0.6)\n",
    "plt.show()\n"
   ]
  },
  {
   "cell_type": "code",
   "execution_count": 0,
   "metadata": {
    "application/vnd.databricks.v1+cell": {
     "cellMetadata": {},
     "inputWidgets": {},
     "nuid": "a8552f2b-c4cb-404d-a68c-2d822f589c64",
     "showTitle": false,
     "tableResultSettingsMap": {},
     "title": ""
    }
   },
   "outputs": [],
   "source": []
  }
 ],
 "metadata": {
  "application/vnd.databricks.v1+notebook": {
   "computePreferences": null,
   "dashboards": [],
   "environmentMetadata": {
    "base_environment": "",
    "environment_version": "4"
   },
   "inputWidgetPreferences": null,
   "language": "python",
   "notebookMetadata": {
    "pythonIndentUnit": 4
   },
   "notebookName": "LinearRegression_2025-10-27",
   "widgets": {}
  },
  "language_info": {
   "name": "python"
  }
 },
 "nbformat": 4,
 "nbformat_minor": 0
}